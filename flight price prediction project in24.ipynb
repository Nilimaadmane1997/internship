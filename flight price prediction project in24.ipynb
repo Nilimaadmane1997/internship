{
 "cells": [
  {
   "cell_type": "markdown",
   "id": "bd7f555e",
   "metadata": {},
   "source": [
    "# FLIGHT PRICE PREDICTION PROJECT\n"
   ]
  },
  {
   "cell_type": "code",
   "execution_count": 1,
   "id": "7c83700d",
   "metadata": {},
   "outputs": [],
   "source": [
    "import numpy as np\n",
    "import pandas as pd\n",
    "import seaborn as sns\n",
    "import matplotlib.pyplot as plt\n",
    "from scipy.stats import zscore\n",
    "from sklearn.linear_model import LogisticRegression\n",
    "from sklearn.naive_bayes import GaussianNB\n",
    "from sklearn.svm import SVC\n",
    "from sklearn.tree import DecisionTreeClassifier,export_graphviz\n",
    "from sklearn.ensemble import RandomForestClassifier\n",
    "from sklearn.preprocessing import LabelEncoder\n",
    "from sklearn.ensemble import AdaBoostClassifier\n",
    "from sklearn.metrics import accuracy_score,confusion_matrix,classification_report,precision_recall_curve,roc_curve\n",
    "from sklearn.preprocessing import MinMaxScaler\n",
    "from sklearn.model_selection import train_test_split\n",
    "from sklearn.preprocessing import PowerTransformer\n",
    "from sklearn.model_selection import cross_val_score\n",
    "import joblib\n",
    "import warnings\n",
    "warnings.filterwarnings('ignore')"
   ]
  },
  {
   "cell_type": "code",
   "execution_count": 7,
   "id": "437380c5",
   "metadata": {},
   "outputs": [
    {
     "data": {
      "text/html": [
       "<div>\n",
       "<style scoped>\n",
       "    .dataframe tbody tr th:only-of-type {\n",
       "        vertical-align: middle;\n",
       "    }\n",
       "\n",
       "    .dataframe tbody tr th {\n",
       "        vertical-align: top;\n",
       "    }\n",
       "\n",
       "    .dataframe thead th {\n",
       "        text-align: right;\n",
       "    }\n",
       "</style>\n",
       "<table border=\"1\" class=\"dataframe\">\n",
       "  <thead>\n",
       "    <tr style=\"text-align: right;\">\n",
       "      <th></th>\n",
       "      <th>Airline</th>\n",
       "      <th>Date_of_Journey</th>\n",
       "      <th>Source</th>\n",
       "      <th>Destination</th>\n",
       "      <th>Route</th>\n",
       "      <th>Dep_Time</th>\n",
       "      <th>Arrival_Time</th>\n",
       "      <th>Duration</th>\n",
       "      <th>Total_Stops</th>\n",
       "      <th>Additional_Info</th>\n",
       "    </tr>\n",
       "  </thead>\n",
       "  <tbody>\n",
       "    <tr>\n",
       "      <th>0</th>\n",
       "      <td>Jet Airways</td>\n",
       "      <td>6/06/2019</td>\n",
       "      <td>Delhi</td>\n",
       "      <td>Cochin</td>\n",
       "      <td>DEL → BOM → COK</td>\n",
       "      <td>17:30</td>\n",
       "      <td>04:25 07 Jun</td>\n",
       "      <td>10h 55m</td>\n",
       "      <td>1 stop</td>\n",
       "      <td>No info</td>\n",
       "    </tr>\n",
       "    <tr>\n",
       "      <th>1</th>\n",
       "      <td>IndiGo</td>\n",
       "      <td>12/05/2019</td>\n",
       "      <td>Kolkata</td>\n",
       "      <td>Banglore</td>\n",
       "      <td>CCU → MAA → BLR</td>\n",
       "      <td>06:20</td>\n",
       "      <td>10:20</td>\n",
       "      <td>4h</td>\n",
       "      <td>1 stop</td>\n",
       "      <td>No info</td>\n",
       "    </tr>\n",
       "    <tr>\n",
       "      <th>2</th>\n",
       "      <td>Jet Airways</td>\n",
       "      <td>21/05/2019</td>\n",
       "      <td>Delhi</td>\n",
       "      <td>Cochin</td>\n",
       "      <td>DEL → BOM → COK</td>\n",
       "      <td>19:15</td>\n",
       "      <td>19:00 22 May</td>\n",
       "      <td>23h 45m</td>\n",
       "      <td>1 stop</td>\n",
       "      <td>In-flight meal not included</td>\n",
       "    </tr>\n",
       "    <tr>\n",
       "      <th>3</th>\n",
       "      <td>Multiple carriers</td>\n",
       "      <td>21/05/2019</td>\n",
       "      <td>Delhi</td>\n",
       "      <td>Cochin</td>\n",
       "      <td>DEL → BOM → COK</td>\n",
       "      <td>08:00</td>\n",
       "      <td>21:00</td>\n",
       "      <td>13h</td>\n",
       "      <td>1 stop</td>\n",
       "      <td>No info</td>\n",
       "    </tr>\n",
       "    <tr>\n",
       "      <th>4</th>\n",
       "      <td>Air Asia</td>\n",
       "      <td>24/06/2019</td>\n",
       "      <td>Banglore</td>\n",
       "      <td>Delhi</td>\n",
       "      <td>BLR → DEL</td>\n",
       "      <td>23:55</td>\n",
       "      <td>02:45 25 Jun</td>\n",
       "      <td>2h 50m</td>\n",
       "      <td>non-stop</td>\n",
       "      <td>No info</td>\n",
       "    </tr>\n",
       "  </tbody>\n",
       "</table>\n",
       "</div>"
      ],
      "text/plain": [
       "             Airline Date_of_Journey    Source Destination            Route  \\\n",
       "0        Jet Airways       6/06/2019     Delhi      Cochin  DEL → BOM → COK   \n",
       "1             IndiGo      12/05/2019   Kolkata    Banglore  CCU → MAA → BLR   \n",
       "2        Jet Airways      21/05/2019     Delhi      Cochin  DEL → BOM → COK   \n",
       "3  Multiple carriers      21/05/2019     Delhi      Cochin  DEL → BOM → COK   \n",
       "4           Air Asia      24/06/2019  Banglore       Delhi        BLR → DEL   \n",
       "\n",
       "  Dep_Time  Arrival_Time Duration Total_Stops              Additional_Info  \n",
       "0    17:30  04:25 07 Jun  10h 55m      1 stop                      No info  \n",
       "1    06:20         10:20       4h      1 stop                      No info  \n",
       "2    19:15  19:00 22 May  23h 45m      1 stop  In-flight meal not included  \n",
       "3    08:00         21:00      13h      1 stop                      No info  \n",
       "4    23:55  02:45 25 Jun   2h 50m    non-stop                      No info  "
      ]
     },
     "execution_count": 7,
     "metadata": {},
     "output_type": "execute_result"
    }
   ],
   "source": [
    "df = pd.read_excel(\"C:/Users/Shiva Labade/Documents/Internship project/Flight Price Prediction Project Excel sheet.xlsx\")\n",
    "df.head()"
   ]
  },
  {
   "cell_type": "markdown",
   "id": "217d3318",
   "metadata": {},
   "source": [
    "Examining The Data\n"
   ]
  },
  {
   "cell_type": "code",
   "execution_count": 8,
   "id": "dcbf958e",
   "metadata": {},
   "outputs": [
    {
     "name": "stdout",
     "output_type": "stream",
     "text": [
      "<class 'pandas.core.frame.DataFrame'>\n",
      "RangeIndex: 2671 entries, 0 to 2670\n",
      "Data columns (total 10 columns):\n",
      " #   Column           Non-Null Count  Dtype \n",
      "---  ------           --------------  ----- \n",
      " 0   Airline          2671 non-null   object\n",
      " 1   Date_of_Journey  2671 non-null   object\n",
      " 2   Source           2671 non-null   object\n",
      " 3   Destination      2671 non-null   object\n",
      " 4   Route            2671 non-null   object\n",
      " 5   Dep_Time         2671 non-null   object\n",
      " 6   Arrival_Time     2671 non-null   object\n",
      " 7   Duration         2671 non-null   object\n",
      " 8   Total_Stops      2671 non-null   object\n",
      " 9   Additional_Info  2671 non-null   object\n",
      "dtypes: object(10)\n",
      "memory usage: 208.8+ KB\n"
     ]
    }
   ],
   "source": [
    "df.info()\n"
   ]
  },
  {
   "cell_type": "markdown",
   "id": "060e020c",
   "metadata": {},
   "source": [
    "This method print the information about the DataFrame including the index type and column type,non-null values and memory usage."
   ]
  },
  {
   "cell_type": "code",
   "execution_count": 9,
   "id": "b58436be",
   "metadata": {},
   "outputs": [
    {
     "data": {
      "text/plain": [
       "(2671, 10)"
      ]
     },
     "execution_count": 9,
     "metadata": {},
     "output_type": "execute_result"
    }
   ],
   "source": [
    "df.shape"
   ]
  },
  {
   "cell_type": "markdown",
   "id": "3729a321",
   "metadata": {},
   "source": [
    "Dataset contains 2671 rows and 10 columns\n",
    "\n"
   ]
  },
  {
   "cell_type": "code",
   "execution_count": 10,
   "id": "3fe056b8",
   "metadata": {},
   "outputs": [
    {
     "data": {
      "text/plain": [
       "Airline            object\n",
       "Date_of_Journey    object\n",
       "Source             object\n",
       "Destination        object\n",
       "Route              object\n",
       "Dep_Time           object\n",
       "Arrival_Time       object\n",
       "Duration           object\n",
       "Total_Stops        object\n",
       "Additional_Info    object\n",
       "dtype: object"
      ]
     },
     "execution_count": 10,
     "metadata": {},
     "output_type": "execute_result"
    }
   ],
   "source": [
    "df.dtypes\n"
   ]
  },
  {
   "cell_type": "code",
   "execution_count": 11,
   "id": "c3fd37c2",
   "metadata": {},
   "outputs": [
    {
     "data": {
      "text/plain": [
       "array(['No info', 'In-flight meal not included',\n",
       "       'No check-in baggage included', '1 Long layover', 'Business class',\n",
       "       'Change airports'], dtype=object)"
      ]
     },
     "execution_count": 11,
     "metadata": {},
     "output_type": "execute_result"
    }
   ],
   "source": [
    "df.Additional_Info.unique()\n"
   ]
  },
  {
   "cell_type": "markdown",
   "id": "82d1ab99",
   "metadata": {},
   "source": [
    "Target/dependent variables is discrete and categorial in nature\n",
    "\n"
   ]
  },
  {
   "cell_type": "code",
   "execution_count": 12,
   "id": "6047d002",
   "metadata": {},
   "outputs": [
    {
     "data": {
      "text/html": [
       "<div>\n",
       "<style scoped>\n",
       "    .dataframe tbody tr th:only-of-type {\n",
       "        vertical-align: middle;\n",
       "    }\n",
       "\n",
       "    .dataframe tbody tr th {\n",
       "        vertical-align: top;\n",
       "    }\n",
       "\n",
       "    .dataframe thead th {\n",
       "        text-align: right;\n",
       "    }\n",
       "</style>\n",
       "<table border=\"1\" class=\"dataframe\">\n",
       "  <thead>\n",
       "    <tr style=\"text-align: right;\">\n",
       "      <th></th>\n",
       "      <th>Airline</th>\n",
       "      <th>Date_of_Journey</th>\n",
       "      <th>Source</th>\n",
       "      <th>Destination</th>\n",
       "      <th>Route</th>\n",
       "      <th>Dep_Time</th>\n",
       "      <th>Arrival_Time</th>\n",
       "      <th>Duration</th>\n",
       "      <th>Total_Stops</th>\n",
       "      <th>Additional_Info</th>\n",
       "    </tr>\n",
       "  </thead>\n",
       "  <tbody>\n",
       "  </tbody>\n",
       "</table>\n",
       "</div>"
      ],
      "text/plain": [
       "Empty DataFrame\n",
       "Columns: [Airline, Date_of_Journey, Source, Destination, Route, Dep_Time, Arrival_Time, Duration, Total_Stops, Additional_Info]\n",
       "Index: []"
      ]
     },
     "execution_count": 12,
     "metadata": {},
     "output_type": "execute_result"
    }
   ],
   "source": [
    "df.loc[df['Additional_Info']==\" \"]\n"
   ]
  },
  {
   "cell_type": "code",
   "execution_count": 13,
   "id": "4d5991b0",
   "metadata": {},
   "outputs": [],
   "source": [
    "df[\"Additional_Info\"]=df[\"Additional_Info\"].replace(\" \",np.nan)\n"
   ]
  },
  {
   "cell_type": "code",
   "execution_count": 14,
   "id": "d2c20e9c",
   "metadata": {},
   "outputs": [
    {
     "data": {
      "text/plain": [
       "Airline            0\n",
       "Date_of_Journey    0\n",
       "Source             0\n",
       "Destination        0\n",
       "Route              0\n",
       "Dep_Time           0\n",
       "Arrival_Time       0\n",
       "Duration           0\n",
       "Total_Stops        0\n",
       "Additional_Info    0\n",
       "dtype: int64"
      ]
     },
     "execution_count": 14,
     "metadata": {},
     "output_type": "execute_result"
    }
   ],
   "source": [
    "df.isnull().sum()\n"
   ]
  },
  {
   "cell_type": "code",
   "execution_count": 15,
   "id": "8ade16db",
   "metadata": {},
   "outputs": [
    {
     "data": {
      "text/plain": [
       "Airline            object\n",
       "Date_of_Journey    object\n",
       "Source             object\n",
       "Destination        object\n",
       "Route              object\n",
       "Dep_Time           object\n",
       "Arrival_Time       object\n",
       "Duration           object\n",
       "Total_Stops        object\n",
       "Additional_Info    object\n",
       "dtype: object"
      ]
     },
     "execution_count": 15,
     "metadata": {},
     "output_type": "execute_result"
    }
   ],
   "source": [
    "df.dtypes\n"
   ]
  },
  {
   "cell_type": "code",
   "execution_count": 16,
   "id": "1daba14d",
   "metadata": {},
   "outputs": [],
   "source": [
    "df_visualization_nominal=df[[\"Airline\",\"Date_of_Journey\",\"Source\",\"Destination\",\"Route\",\"Dep_Time\",\"Arrival_Time\",\"Duration\",\"Total_Stops\"]].copy()\n"
   ]
  },
  {
   "cell_type": "code",
   "execution_count": 17,
   "id": "d2ddbfd4",
   "metadata": {},
   "outputs": [
    {
     "data": {
      "text/plain": [
       "Index(['Airline', 'Date_of_Journey', 'Source', 'Destination', 'Route',\n",
       "       'Dep_Time', 'Arrival_Time', 'Duration', 'Total_Stops'],\n",
       "      dtype='object')"
      ]
     },
     "execution_count": 17,
     "metadata": {},
     "output_type": "execute_result"
    }
   ],
   "source": [
    "df_visualization_nominal.columns\n"
   ]
  },
  {
   "cell_type": "markdown",
   "id": "38ef52ec",
   "metadata": {},
   "source": [
    "Dataset Visualization \n"
   ]
  },
  {
   "cell_type": "code",
   "execution_count": 18,
   "id": "fa177cac",
   "metadata": {},
   "outputs": [
    {
     "name": "stdout",
     "output_type": "stream",
     "text": [
      "Jet Airways                          897\n",
      "IndiGo                               511\n",
      "Air India                            440\n",
      "Multiple carriers                    347\n",
      "SpiceJet                             208\n",
      "Vistara                              129\n",
      "Air Asia                              86\n",
      "GoAir                                 46\n",
      "Multiple carriers Premium economy      3\n",
      "Jet Airways Business                   2\n",
      "Vistara Premium economy                2\n",
      "Name: Airline, dtype: int64\n"
     ]
    },
    {
     "data": {
      "image/png": "[encoded data removed]",
      "text/plain": [
       "<Figure size 432x288 with 1 Axes>"
      ]
     },
     "metadata": {
      "needs_background": "light"
     },
     "output_type": "display_data"
    }
   ],
   "source": [
    "ax = sns.countplot(x=\"Airline\",data=df_visualization_nominal)\n",
    "print(df_visualization_nominal[\"Airline\"].value_counts())"
   ]
  },
  {
   "cell_type": "markdown",
   "id": "42e4443a",
   "metadata": {},
   "source": [
    "Here countplot contains the data visualization of nominal columns of Airline\n",
    "\n"
   ]
  },
  {
   "cell_type": "code",
   "execution_count": 19,
   "id": "4ca59f9a",
   "metadata": {},
   "outputs": [
    {
     "name": "stdout",
     "output_type": "stream",
     "text": [
      "9/05/2019     144\n",
      "12/06/2019    135\n",
      "18/05/2019    129\n",
      "6/06/2019     127\n",
      "9/06/2019     119\n",
      "21/05/2019    118\n",
      "15/05/2019    106\n",
      "15/06/2019    105\n",
      "6/03/2019      97\n",
      "21/03/2019     93\n",
      "3/06/2019      92\n",
      "1/06/2019      88\n",
      "24/06/2019     85\n",
      "24/03/2019     78\n",
      "1/04/2019      78\n",
      "27/06/2019     75\n",
      "6/05/2019      73\n",
      "24/05/2019     71\n",
      "12/05/2019     68\n",
      "27/03/2019     65\n",
      "27/05/2019     65\n",
      "3/03/2019      62\n",
      "1/05/2019      62\n",
      "9/03/2019      55\n",
      "12/03/2019     43\n",
      "18/03/2019     41\n",
      "01/03/2019     34\n",
      "15/03/2019     33\n",
      "3/04/2019      28\n",
      "06/03/2019     28\n",
      "3/05/2019      27\n",
      "03/03/2019     26\n",
      "9/04/2019      24\n",
      "21/06/2019     24\n",
      "15/04/2019     23\n",
      "18/06/2019     22\n",
      "21/04/2019     22\n",
      "24/04/2019     21\n",
      "09/03/2019     21\n",
      "27/04/2019     15\n",
      "6/04/2019      14\n",
      "1/03/2019      12\n",
      "18/04/2019     12\n",
      "12/04/2019     11\n",
      "Name: Date_of_Journey, dtype: int64\n"
     ]
    },
    {
     "data": {
      "image/png": "[encoded data removed]",
      "text/plain": [
       "<Figure size 432x288 with 1 Axes>"
      ]
     },
     "metadata": {
      "needs_background": "light"
     },
     "output_type": "display_data"
    }
   ],
   "source": [
    "ax = sns.countplot(x=\"Date_of_Journey\",data=df_visualization_nominal)\n",
    "print(df_visualization_nominal[\"Date_of_Journey\"].value_counts())\n"
   ]
  },
  {
   "cell_type": "markdown",
   "id": "0e96fbef",
   "metadata": {},
   "source": [
    "Here countplot contains the data visualization of nominal columns of Data_Of_Journey\n",
    "\n"
   ]
  },
  {
   "cell_type": "code",
   "execution_count": 20,
   "id": "4fb09dbf",
   "metadata": {},
   "outputs": [
    {
     "name": "stdout",
     "output_type": "stream",
     "text": [
      "Delhi       1145\n",
      "Kolkata      710\n",
      "Banglore     555\n",
      "Mumbai       186\n",
      "Chennai       75\n",
      "Name: Source, dtype: int64\n"
     ]
    },
    {
     "data": {
      "image/png": "[encoded data removed]",
      "text/plain": [
       "<Figure size 432x288 with 1 Axes>"
      ]
     },
     "metadata": {
      "needs_background": "light"
     },
     "output_type": "display_data"
    }
   ],
   "source": [
    "ax = sns.countplot(x=\"Source\",data=df_visualization_nominal)\n",
    "print(df_visualization_nominal[\"Source\"].value_counts())"
   ]
  },
  {
   "cell_type": "markdown",
   "id": "89bbcd77",
   "metadata": {},
   "source": [
    "Here countplot contains the data visualization of nominal columns of Source\n",
    "\n"
   ]
  },
  {
   "cell_type": "code",
   "execution_count": 21,
   "id": "c36e79b1",
   "metadata": {},
   "outputs": [
    {
     "name": "stdout",
     "output_type": "stream",
     "text": [
      "Cochin       1145\n",
      "Banglore      710\n",
      "Delhi         317\n",
      "New Delhi     238\n",
      "Hyderabad     186\n",
      "Kolkata        75\n",
      "Name: Destination, dtype: int64\n"
     ]
    },
    {
     "data": {
      "image/png": "[encoded data removed]",
      "text/plain": [
       "<Figure size 432x288 with 1 Axes>"
      ]
     },
     "metadata": {
      "needs_background": "light"
     },
     "output_type": "display_data"
    }
   ],
   "source": [
    "ax = sns.countplot(x=\"Destination\",data=df_visualization_nominal)\n",
    "print(df_visualization_nominal[\"Destination\"].value_counts())\n"
   ]
  },
  {
   "cell_type": "markdown",
   "id": "d5cd31f1",
   "metadata": {},
   "source": [
    "Here countplot contains the data visualization of nominal columns of Destination\n",
    "\n"
   ]
  },
  {
   "cell_type": "code",
   "execution_count": 22,
   "id": "a6985f8f",
   "metadata": {},
   "outputs": [
    {
     "name": "stdout",
     "output_type": "stream",
     "text": [
      "DEL → BOM → COK                      624\n",
      "BLR → DEL                            389\n",
      "CCU → BOM → BLR                      253\n",
      "CCU → BLR                            172\n",
      "BOM → HYD                            164\n",
      "                                    ... \n",
      "CCU → BBI → IXR → DEL → BLR            1\n",
      "BLR → CCU → BBI → HYD → VGA → DEL      1\n",
      "BLR → GOI → DEL                        1\n",
      "BLR → BOM → IDR → GWL → DEL            1\n",
      "BOM → IXC → DEL → HYD                  1\n",
      "Name: Route, Length: 100, dtype: int64\n"
     ]
    },
    {
     "data": {
      "image/png": "[encoded data removed]",
      "text/plain": [
       "<Figure size 432x288 with 1 Axes>"
      ]
     },
     "metadata": {
      "needs_background": "light"
     },
     "output_type": "display_data"
    }
   ],
   "source": [
    "ax = sns.countplot(x=\"Route\",data=df_visualization_nominal)\n",
    "print(df_visualization_nominal[\"Route\"].value_counts())"
   ]
  },
  {
   "cell_type": "markdown",
   "id": "5b438e12",
   "metadata": {},
   "source": [
    "Here countplot contains the data visualization of nominal columns of Route\n",
    "\n"
   ]
  },
  {
   "cell_type": "code",
   "execution_count": 23,
   "id": "a56425a1",
   "metadata": {},
   "outputs": [
    {
     "name": "stdout",
     "output_type": "stream",
     "text": [
      "10:00    62\n",
      "18:55    55\n",
      "20:00    53\n",
      "14:05    51\n",
      "17:00    48\n",
      "         ..\n",
      "15:40     1\n",
      "18:35     1\n",
      "12:10     1\n",
      "09:20     1\n",
      "06:25     1\n",
      "Name: Dep_Time, Length: 199, dtype: int64\n"
     ]
    },
    {
     "data": {
      "image/png": "[encoded data removed]",
      "text/plain": [
       "<Figure size 432x288 with 1 Axes>"
      ]
     },
     "metadata": {
      "needs_background": "light"
     },
     "output_type": "display_data"
    }
   ],
   "source": [
    "ax = sns.countplot(x=\"Dep_Time\",data=df_visualization_nominal)\n",
    "print(df_visualization_nominal[\"Dep_Time\"].value_counts())\n"
   ]
  },
  {
   "cell_type": "markdown",
   "id": "97dde579",
   "metadata": {},
   "source": [
    "Here countplot contains the data visualization of nominal columns of Dep_Time\n",
    "\n"
   ]
  },
  {
   "cell_type": "code",
   "execution_count": 24,
   "id": "68f503a7",
   "metadata": {},
   "outputs": [
    {
     "name": "stdout",
     "output_type": "stream",
     "text": [
      "19:00           113\n",
      "21:00           106\n",
      "19:15           101\n",
      "12:35            37\n",
      "16:10            31\n",
      "               ... \n",
      "22:55 10 Jun      1\n",
      "19:15 07 Jun      1\n",
      "01:20 25 Apr      1\n",
      "00:15 19 May      1\n",
      "05:25 07 Jun      1\n",
      "Name: Arrival_Time, Length: 704, dtype: int64\n"
     ]
    },
    {
     "data": {
      "image/png": "[encoded data removed]",
      "text/plain": [
       "<Figure size 432x288 with 1 Axes>"
      ]
     },
     "metadata": {
      "needs_background": "light"
     },
     "output_type": "display_data"
    }
   ],
   "source": [
    "ax = sns.countplot(x=\"Arrival_Time\",data=df_visualization_nominal)\n",
    "print(df_visualization_nominal[\"Arrival_Time\"].value_counts())\n"
   ]
  },
  {
   "cell_type": "markdown",
   "id": "b13f03cd",
   "metadata": {},
   "source": [
    "Here countplot contains the data visualization of nominal columns of Arrival_Time\n",
    "\n"
   ]
  },
  {
   "cell_type": "code",
   "execution_count": 25,
   "id": "9a9e4c88",
   "metadata": {},
   "outputs": [
    {
     "name": "stdout",
     "output_type": "stream",
     "text": [
      "2h 50m     122\n",
      "1h 30m     107\n",
      "2h 45m      95\n",
      "2h 55m      81\n",
      "3h          72\n",
      "          ... \n",
      "9h 55m       1\n",
      "31h 55m      1\n",
      "33h 20m      1\n",
      "20h 30m      1\n",
      "19h 15m      1\n",
      "Name: Duration, Length: 320, dtype: int64\n"
     ]
    },
    {
     "data": {
      "image/png": "[encoded data removed]",
      "text/plain": [
       "<Figure size 432x288 with 1 Axes>"
      ]
     },
     "metadata": {
      "needs_background": "light"
     },
     "output_type": "display_data"
    }
   ],
   "source": [
    "ax = sns.countplot(x=\"Duration\",data=df_visualization_nominal)\n",
    "print(df_visualization_nominal[\"Duration\"].value_counts())"
   ]
  },
  {
   "cell_type": "markdown",
   "id": "1f4ea4db",
   "metadata": {},
   "source": [
    "Here countplot contains the data visualization of nominal columns of Duration\n",
    "\n"
   ]
  },
  {
   "cell_type": "code",
   "execution_count": 26,
   "id": "8e1296c3",
   "metadata": {},
   "outputs": [
    {
     "name": "stdout",
     "output_type": "stream",
     "text": [
      "1 stop      1431\n",
      "non-stop     849\n",
      "2 stops      379\n",
      "3 stops       11\n",
      "4 stops        1\n",
      "Name: Total_Stops, dtype: int64\n"
     ]
    },
    {
     "data": {
      "image/png": "[encoded data removed]",
      "text/plain": [
       "<Figure size 432x288 with 1 Axes>"
      ]
     },
     "metadata": {
      "needs_background": "light"
     },
     "output_type": "display_data"
    }
   ],
   "source": [
    "ax = sns.countplot(x=\"Total_Stops\",data=df_visualization_nominal)\n",
    "print(df_visualization_nominal[\"Total_Stops\"].value_counts())"
   ]
  },
  {
   "cell_type": "markdown",
   "id": "1f52ac36",
   "metadata": {},
   "source": [
    "Here countplot contains the data visualization of nominal columns of Total_Stops\n",
    "\n"
   ]
  },
  {
   "cell_type": "markdown",
   "id": "e646dd98",
   "metadata": {},
   "source": [
    "Making dataframe of the ordinal data\n"
   ]
  },
  {
   "cell_type": "code",
   "execution_count": 27,
   "id": "760c3aee",
   "metadata": {},
   "outputs": [],
   "source": [
    "df_visualization_ordinal=df[[\"Airline\",\"Source\"]].copy()"
   ]
  },
  {
   "cell_type": "code",
   "execution_count": 28,
   "id": "a0f374e6",
   "metadata": {},
   "outputs": [
    {
     "data": {
      "text/plain": [
       "<seaborn.axisgrid.FacetGrid at 0x19be7c617c0>"
      ]
     },
     "execution_count": 28,
     "metadata": {},
     "output_type": "execute_result"
    },
    {
     "data": {
      "image/png": "[encoded data removed]",
      "text/plain": [
       "<Figure size 360x360 with 1 Axes>"
      ]
     },
     "metadata": {
      "needs_background": "light"
     },
     "output_type": "display_data"
    }
   ],
   "source": [
    "sns.catplot(x=\"Airline\",y=\"Source\",data=df)"
   ]
  },
  {
   "cell_type": "markdown",
   "id": "86cae068",
   "metadata": {},
   "source": [
    "Here catplot contains the data visualization of ordinal data of Airline and Source,here x=Airline and y=Source\n",
    "\n"
   ]
  },
  {
   "cell_type": "code",
   "execution_count": 29,
   "id": "764f8a19",
   "metadata": {},
   "outputs": [
    {
     "data": {
      "text/plain": [
       "<seaborn.axisgrid.FacetGrid at 0x19be7b3b280>"
      ]
     },
     "execution_count": 29,
     "metadata": {},
     "output_type": "execute_result"
    },
    {
     "data": {
      "image/png": "[encoded data removed]",
      "text/plain": [
       "<Figure size 360x360 with 1 Axes>"
      ]
     },
     "metadata": {
      "needs_background": "light"
     },
     "output_type": "display_data"
    }
   ],
   "source": [
    "sns.catplot(x=\"Date_of_Journey\",y=\"Source\",data=df)\n"
   ]
  },
  {
   "cell_type": "markdown",
   "id": "5ea97787",
   "metadata": {},
   "source": [
    "Here catplot contains the data visualization of ordinal data of Airline and Source,here x=Data_of_journey and y=Source\n",
    "\n"
   ]
  },
  {
   "cell_type": "code",
   "execution_count": 30,
   "id": "4ff4cfb8",
   "metadata": {},
   "outputs": [
    {
     "data": {
      "text/plain": [
       "<seaborn.axisgrid.FacetGrid at 0x19be7a78c10>"
      ]
     },
     "execution_count": 30,
     "metadata": {},
     "output_type": "execute_result"
    },
    {
     "data": {
      "image/png": "[encoded data removed]",
      "text/plain": [
       "<Figure size 360x360 with 1 Axes>"
      ]
     },
     "metadata": {
      "needs_background": "light"
     },
     "output_type": "display_data"
    }
   ],
   "source": [
    "sns.catplot(x=\"Destination\",y=\"Source\",data=df)"
   ]
  },
  {
   "cell_type": "markdown",
   "id": "8742b4f4",
   "metadata": {},
   "source": [
    "Here catplot contains the data visualization of ordinal data of Airline and Source,here x=Destination and y=Source\n",
    "\n"
   ]
  },
  {
   "cell_type": "code",
   "execution_count": 31,
   "id": "02aee08a",
   "metadata": {},
   "outputs": [
    {
     "data": {
      "text/plain": [
       "<seaborn.axisgrid.FacetGrid at 0x19be75c1340>"
      ]
     },
     "execution_count": 31,
     "metadata": {},
     "output_type": "execute_result"
    },
    {
     "data": {
      "image/png": "[encoded data removed]",
      "text/plain": [
       "<Figure size 360x360 with 1 Axes>"
      ]
     },
     "metadata": {
      "needs_background": "light"
     },
     "output_type": "display_data"
    }
   ],
   "source": [
    "sns.catplot(x=\"Route\",y=\"Source\",data=df)"
   ]
  },
  {
   "cell_type": "markdown",
   "id": "557fbfa7",
   "metadata": {},
   "source": [
    "Here catplot contains the data visualization of ordinal data of Airline and Source,here x=Route and y=Source\n",
    "\n"
   ]
  },
  {
   "cell_type": "code",
   "execution_count": 33,
   "id": "5d7d6ed2",
   "metadata": {},
   "outputs": [
    {
     "data": {
      "text/plain": [
       "<seaborn.axisgrid.FacetGrid at 0x19be98be970>"
      ]
     },
     "execution_count": 33,
     "metadata": {},
     "output_type": "execute_result"
    },
    {
     "data": {
      "image/png": "[encoded data removed]",
      "text/plain": [
       "<Figure size 360x360 with 1 Axes>"
      ]
     },
     "metadata": {
      "needs_background": "light"
     },
     "output_type": "display_data"
    }
   ],
   "source": [
    "sns.catplot(x=\"Dep_Time\",y=\"Source\",data=df)"
   ]
  },
  {
   "cell_type": "markdown",
   "id": "02400dad",
   "metadata": {},
   "source": [
    "Here catplot contains the data visualization of ordinal data of Airline and Source,here x=Dep_Time and y=Source\n",
    "\n"
   ]
  },
  {
   "cell_type": "code",
   "execution_count": 34,
   "id": "dfc4b2de",
   "metadata": {},
   "outputs": [
    {
     "data": {
      "text/plain": [
       "<seaborn.axisgrid.FacetGrid at 0x19be7850e50>"
      ]
     },
     "execution_count": 34,
     "metadata": {},
     "output_type": "execute_result"
    },
    {
     "data": {
      "image/png": "[encoded data removed]",
      "text/plain": [
       "<Figure size 360x360 with 1 Axes>"
      ]
     },
     "metadata": {
      "needs_background": "light"
     },
     "output_type": "display_data"
    }
   ],
   "source": [
    "sns.catplot(x=\"Arrival_Time\",y=\"Source\",data=df)"
   ]
  },
  {
   "cell_type": "markdown",
   "id": "0f04faac",
   "metadata": {},
   "source": [
    "Here catplot contains the data visualization of ordinal data of Airline and Source,here x=Airrival_Time and y=Source\n",
    "\n"
   ]
  },
  {
   "cell_type": "code",
   "execution_count": 35,
   "id": "a4537502",
   "metadata": {},
   "outputs": [
    {
     "data": {
      "text/plain": [
       "<seaborn.axisgrid.FacetGrid at 0x19be75c1550>"
      ]
     },
     "execution_count": 35,
     "metadata": {},
     "output_type": "execute_result"
    },
    {
     "data": {
      "image/png": "[encoded data removed]",
      "text/plain": [
       "<Figure size 360x360 with 1 Axes>"
      ]
     },
     "metadata": {
      "needs_background": "light"
     },
     "output_type": "display_data"
    }
   ],
   "source": [
    "sns.catplot(x=\"Duration\",y=\"Source\",data=df)\n",
    "\n"
   ]
  },
  {
   "cell_type": "markdown",
   "id": "3d33ec1e",
   "metadata": {},
   "source": [
    "Here catplot contains the data visualization of ordinal data of Airline and Source,here x=Duration and y=Source\n",
    "\n"
   ]
  },
  {
   "cell_type": "code",
   "execution_count": 36,
   "id": "e0f76f9e",
   "metadata": {},
   "outputs": [
    {
     "data": {
      "text/plain": [
       "<seaborn.axisgrid.FacetGrid at 0x19be7b3b370>"
      ]
     },
     "execution_count": 36,
     "metadata": {},
     "output_type": "execute_result"
    },
    {
     "data": {
      "image/png": "[encoded data removed]",
      "text/plain": [
       "<Figure size 360x360 with 1 Axes>"
      ]
     },
     "metadata": {
      "needs_background": "light"
     },
     "output_type": "display_data"
    }
   ],
   "source": [
    "sns.catplot(x=\"Total_Stops\",y=\"Source\",data=df)\n"
   ]
  },
  {
   "cell_type": "markdown",
   "id": "3d63260d",
   "metadata": {},
   "source": [
    "Here catplot contains the data visualization of ordinal data of Airline and Source,here x=Total_Stops and y=Source\n",
    "\n"
   ]
  },
  {
   "cell_type": "markdown",
   "id": "6008fa28",
   "metadata": {},
   "source": [
    "checking the distribution of the continuous value of the object type columns\n"
   ]
  },
  {
   "cell_type": "code",
   "execution_count": 37,
   "id": "2d9eafaf",
   "metadata": {},
   "outputs": [],
   "source": [
    "df_visualization_continuous=df[[\"Total_Stops\",\"Additional_Info\",\"Duration\",\"Arrival_Time\",\"Airline\",\"Source\"]].copy()\n"
   ]
  },
  {
   "cell_type": "code",
   "execution_count": 38,
   "id": "9bf6834b",
   "metadata": {},
   "outputs": [
    {
     "data": {
      "text/plain": [
       "<seaborn.axisgrid.FacetGrid at 0x19be81c0910>"
      ]
     },
     "execution_count": 38,
     "metadata": {},
     "output_type": "execute_result"
    },
    {
     "data": {
      "image/png": "[encoded data removed]",
      "text/plain": [
       "<Figure size 360x360 with 1 Axes>"
      ]
     },
     "metadata": {
      "needs_background": "light"
     },
     "output_type": "display_data"
    }
   ],
   "source": [
    "sns.displot(df_visualization_continuous['Additional_Info'], kde=True)\n"
   ]
  },
  {
   "cell_type": "code",
   "execution_count": 39,
   "id": "a3529c24",
   "metadata": {},
   "outputs": [
    {
     "data": {
      "text/plain": [
       "<seaborn.axisgrid.FacetGrid at 0x19be8404520>"
      ]
     },
     "execution_count": 39,
     "metadata": {},
     "output_type": "execute_result"
    },
    {
     "data": {
      "image/png": "[encoded data removed]",
      "text/plain": [
       "<Figure size 360x360 with 1 Axes>"
      ]
     },
     "metadata": {
      "needs_background": "light"
     },
     "output_type": "display_data"
    }
   ],
   "source": [
    "sns.displot(df_visualization_continuous['Total_Stops'], kde=True)"
   ]
  },
  {
   "cell_type": "code",
   "execution_count": 40,
   "id": "4cd43d81",
   "metadata": {},
   "outputs": [
    {
     "data": {
      "text/plain": [
       "<seaborn.axisgrid.FacetGrid at 0x19beb885e50>"
      ]
     },
     "execution_count": 40,
     "metadata": {},
     "output_type": "execute_result"
    },
    {
     "data": {
      "image/png": "[encoded data removed]",
      "text/plain": [
       "<Figure size 360x360 with 1 Axes>"
      ]
     },
     "metadata": {
      "needs_background": "light"
     },
     "output_type": "display_data"
    }
   ],
   "source": [
    "sns.displot(df_visualization_continuous['Duration'], kde=True)\n"
   ]
  },
  {
   "cell_type": "code",
   "execution_count": 41,
   "id": "386330f6",
   "metadata": {},
   "outputs": [
    {
     "data": {
      "text/plain": [
       "<seaborn.axisgrid.FacetGrid at 0x19bebc74280>"
      ]
     },
     "execution_count": 41,
     "metadata": {},
     "output_type": "execute_result"
    },
    {
     "data": {
      "image/png": "[encoded data removed]",
      "text/plain": [
       "<Figure size 360x360 with 1 Axes>"
      ]
     },
     "metadata": {
      "needs_background": "light"
     },
     "output_type": "display_data"
    }
   ],
   "source": [
    "sns.displot(df_visualization_continuous['Arrival_Time'], kde=True)\n"
   ]
  },
  {
   "cell_type": "code",
   "execution_count": 42,
   "id": "c3ce6ed5",
   "metadata": {},
   "outputs": [
    {
     "data": {
      "text/plain": [
       "<seaborn.axisgrid.FacetGrid at 0x19bed6c4be0>"
      ]
     },
     "execution_count": 42,
     "metadata": {},
     "output_type": "execute_result"
    },
    {
     "data": {
      "image/png": "[encoded data removed]",
      "text/plain": [
       "<Figure size 360x360 with 1 Axes>"
      ]
     },
     "metadata": {
      "needs_background": "light"
     },
     "output_type": "display_data"
    }
   ],
   "source": [
    "sns.displot(df_visualization_continuous['Airline'], kde=True)\n"
   ]
  },
  {
   "cell_type": "code",
   "execution_count": 43,
   "id": "60009972",
   "metadata": {},
   "outputs": [
    {
     "data": {
      "text/plain": [
       "<seaborn.axisgrid.FacetGrid at 0x19bedb1bc10>"
      ]
     },
     "execution_count": 43,
     "metadata": {},
     "output_type": "execute_result"
    },
    {
     "data": {
      "image/png": "[encoded data removed]",
      "text/plain": [
       "<Figure size 360x360 with 1 Axes>"
      ]
     },
     "metadata": {
      "needs_background": "light"
     },
     "output_type": "display_data"
    }
   ],
   "source": [
    "sns.displot(df_visualization_continuous['Source'], kde=True)\n"
   ]
  },
  {
   "cell_type": "markdown",
   "id": "d8e4e1db",
   "metadata": {},
   "source": [
    "Data is not normally distributed in this columns,because of viscous problem.\n",
    "\n"
   ]
  },
  {
   "cell_type": "markdown",
   "id": "43113ba1",
   "metadata": {},
   "source": [
    "Encoding Method\n"
   ]
  },
  {
   "cell_type": "code",
   "execution_count": 44,
   "id": "bfe67237",
   "metadata": {},
   "outputs": [],
   "source": [
    "from sklearn.preprocessing import LabelEncoder\n",
    "LE=LabelEncoder()\n",
    "df['Additional_Info']=LE.fit_transform(df['Additional_Info'])"
   ]
  },
  {
   "cell_type": "code",
   "execution_count": 45,
   "id": "fd43a11c",
   "metadata": {},
   "outputs": [
    {
     "data": {
      "text/plain": [
       "array([5, 3, 4, 0, 1, 2])"
      ]
     },
     "execution_count": 45,
     "metadata": {},
     "output_type": "execute_result"
    }
   ],
   "source": [
    "df.Additional_Info.unique()"
   ]
  },
  {
   "cell_type": "code",
   "execution_count": 46,
   "id": "bc9b8e3f",
   "metadata": {},
   "outputs": [
    {
     "data": {
      "text/html": [
       "<div>\n",
       "<style scoped>\n",
       "    .dataframe tbody tr th:only-of-type {\n",
       "        vertical-align: middle;\n",
       "    }\n",
       "\n",
       "    .dataframe tbody tr th {\n",
       "        vertical-align: top;\n",
       "    }\n",
       "\n",
       "    .dataframe thead th {\n",
       "        text-align: right;\n",
       "    }\n",
       "</style>\n",
       "<table border=\"1\" class=\"dataframe\">\n",
       "  <thead>\n",
       "    <tr style=\"text-align: right;\">\n",
       "      <th></th>\n",
       "      <th>Airline</th>\n",
       "      <th>Date_of_Journey</th>\n",
       "      <th>Source</th>\n",
       "      <th>Destination</th>\n",
       "      <th>Route</th>\n",
       "      <th>Dep_Time</th>\n",
       "      <th>Arrival_Time</th>\n",
       "      <th>Duration</th>\n",
       "      <th>Total_Stops</th>\n",
       "      <th>Additional_Info</th>\n",
       "    </tr>\n",
       "  </thead>\n",
       "  <tbody>\n",
       "    <tr>\n",
       "      <th>0</th>\n",
       "      <td>Jet Airways</td>\n",
       "      <td>6/06/2019</td>\n",
       "      <td>Delhi</td>\n",
       "      <td>Cochin</td>\n",
       "      <td>DEL → BOM → COK</td>\n",
       "      <td>17:30</td>\n",
       "      <td>04:25 07 Jun</td>\n",
       "      <td>10h 55m</td>\n",
       "      <td>1 stop</td>\n",
       "      <td>5</td>\n",
       "    </tr>\n",
       "    <tr>\n",
       "      <th>1</th>\n",
       "      <td>IndiGo</td>\n",
       "      <td>12/05/2019</td>\n",
       "      <td>Kolkata</td>\n",
       "      <td>Banglore</td>\n",
       "      <td>CCU → MAA → BLR</td>\n",
       "      <td>06:20</td>\n",
       "      <td>10:20</td>\n",
       "      <td>4h</td>\n",
       "      <td>1 stop</td>\n",
       "      <td>5</td>\n",
       "    </tr>\n",
       "    <tr>\n",
       "      <th>2</th>\n",
       "      <td>Jet Airways</td>\n",
       "      <td>21/05/2019</td>\n",
       "      <td>Delhi</td>\n",
       "      <td>Cochin</td>\n",
       "      <td>DEL → BOM → COK</td>\n",
       "      <td>19:15</td>\n",
       "      <td>19:00 22 May</td>\n",
       "      <td>23h 45m</td>\n",
       "      <td>1 stop</td>\n",
       "      <td>3</td>\n",
       "    </tr>\n",
       "    <tr>\n",
       "      <th>3</th>\n",
       "      <td>Multiple carriers</td>\n",
       "      <td>21/05/2019</td>\n",
       "      <td>Delhi</td>\n",
       "      <td>Cochin</td>\n",
       "      <td>DEL → BOM → COK</td>\n",
       "      <td>08:00</td>\n",
       "      <td>21:00</td>\n",
       "      <td>13h</td>\n",
       "      <td>1 stop</td>\n",
       "      <td>5</td>\n",
       "    </tr>\n",
       "    <tr>\n",
       "      <th>4</th>\n",
       "      <td>Air Asia</td>\n",
       "      <td>24/06/2019</td>\n",
       "      <td>Banglore</td>\n",
       "      <td>Delhi</td>\n",
       "      <td>BLR → DEL</td>\n",
       "      <td>23:55</td>\n",
       "      <td>02:45 25 Jun</td>\n",
       "      <td>2h 50m</td>\n",
       "      <td>non-stop</td>\n",
       "      <td>5</td>\n",
       "    </tr>\n",
       "  </tbody>\n",
       "</table>\n",
       "</div>"
      ],
      "text/plain": [
       "             Airline Date_of_Journey    Source Destination            Route  \\\n",
       "0        Jet Airways       6/06/2019     Delhi      Cochin  DEL → BOM → COK   \n",
       "1             IndiGo      12/05/2019   Kolkata    Banglore  CCU → MAA → BLR   \n",
       "2        Jet Airways      21/05/2019     Delhi      Cochin  DEL → BOM → COK   \n",
       "3  Multiple carriers      21/05/2019     Delhi      Cochin  DEL → BOM → COK   \n",
       "4           Air Asia      24/06/2019  Banglore       Delhi        BLR → DEL   \n",
       "\n",
       "  Dep_Time  Arrival_Time Duration Total_Stops  Additional_Info  \n",
       "0    17:30  04:25 07 Jun  10h 55m      1 stop                5  \n",
       "1    06:20         10:20       4h      1 stop                5  \n",
       "2    19:15  19:00 22 May  23h 45m      1 stop                3  \n",
       "3    08:00         21:00      13h      1 stop                5  \n",
       "4    23:55  02:45 25 Jun   2h 50m    non-stop                5  "
      ]
     },
     "execution_count": 46,
     "metadata": {},
     "output_type": "execute_result"
    }
   ],
   "source": [
    "df.head()"
   ]
  },
  {
   "cell_type": "code",
   "execution_count": 47,
   "id": "dc14015e",
   "metadata": {},
   "outputs": [],
   "source": [
    "from sklearn.preprocessing import LabelEncoder\n",
    "LE=LabelEncoder()\n",
    "df['Airline']=LE.fit_transform(df['Airline'])"
   ]
  },
  {
   "cell_type": "code",
   "execution_count": 48,
   "id": "65db34b2",
   "metadata": {},
   "outputs": [
    {
     "data": {
      "text/plain": [
       "array([ 4,  3,  6,  0,  1,  9,  8, 10,  2,  7,  5])"
      ]
     },
     "execution_count": 48,
     "metadata": {},
     "output_type": "execute_result"
    }
   ],
   "source": [
    "df.Airline.unique()"
   ]
  },
  {
   "cell_type": "code",
   "execution_count": 49,
   "id": "3a57cbb5",
   "metadata": {},
   "outputs": [
    {
     "data": {
      "text/html": [
       "<div>\n",
       "<style scoped>\n",
       "    .dataframe tbody tr th:only-of-type {\n",
       "        vertical-align: middle;\n",
       "    }\n",
       "\n",
       "    .dataframe tbody tr th {\n",
       "        vertical-align: top;\n",
       "    }\n",
       "\n",
       "    .dataframe thead th {\n",
       "        text-align: right;\n",
       "    }\n",
       "</style>\n",
       "<table border=\"1\" class=\"dataframe\">\n",
       "  <thead>\n",
       "    <tr style=\"text-align: right;\">\n",
       "      <th></th>\n",
       "      <th>Airline</th>\n",
       "      <th>Date_of_Journey</th>\n",
       "      <th>Source</th>\n",
       "      <th>Destination</th>\n",
       "      <th>Route</th>\n",
       "      <th>Dep_Time</th>\n",
       "      <th>Arrival_Time</th>\n",
       "      <th>Duration</th>\n",
       "      <th>Total_Stops</th>\n",
       "      <th>Additional_Info</th>\n",
       "    </tr>\n",
       "  </thead>\n",
       "  <tbody>\n",
       "    <tr>\n",
       "      <th>0</th>\n",
       "      <td>4</td>\n",
       "      <td>6/06/2019</td>\n",
       "      <td>Delhi</td>\n",
       "      <td>Cochin</td>\n",
       "      <td>DEL → BOM → COK</td>\n",
       "      <td>17:30</td>\n",
       "      <td>04:25 07 Jun</td>\n",
       "      <td>10h 55m</td>\n",
       "      <td>1 stop</td>\n",
       "      <td>5</td>\n",
       "    </tr>\n",
       "    <tr>\n",
       "      <th>1</th>\n",
       "      <td>3</td>\n",
       "      <td>12/05/2019</td>\n",
       "      <td>Kolkata</td>\n",
       "      <td>Banglore</td>\n",
       "      <td>CCU → MAA → BLR</td>\n",
       "      <td>06:20</td>\n",
       "      <td>10:20</td>\n",
       "      <td>4h</td>\n",
       "      <td>1 stop</td>\n",
       "      <td>5</td>\n",
       "    </tr>\n",
       "    <tr>\n",
       "      <th>2</th>\n",
       "      <td>4</td>\n",
       "      <td>21/05/2019</td>\n",
       "      <td>Delhi</td>\n",
       "      <td>Cochin</td>\n",
       "      <td>DEL → BOM → COK</td>\n",
       "      <td>19:15</td>\n",
       "      <td>19:00 22 May</td>\n",
       "      <td>23h 45m</td>\n",
       "      <td>1 stop</td>\n",
       "      <td>3</td>\n",
       "    </tr>\n",
       "    <tr>\n",
       "      <th>3</th>\n",
       "      <td>6</td>\n",
       "      <td>21/05/2019</td>\n",
       "      <td>Delhi</td>\n",
       "      <td>Cochin</td>\n",
       "      <td>DEL → BOM → COK</td>\n",
       "      <td>08:00</td>\n",
       "      <td>21:00</td>\n",
       "      <td>13h</td>\n",
       "      <td>1 stop</td>\n",
       "      <td>5</td>\n",
       "    </tr>\n",
       "    <tr>\n",
       "      <th>4</th>\n",
       "      <td>0</td>\n",
       "      <td>24/06/2019</td>\n",
       "      <td>Banglore</td>\n",
       "      <td>Delhi</td>\n",
       "      <td>BLR → DEL</td>\n",
       "      <td>23:55</td>\n",
       "      <td>02:45 25 Jun</td>\n",
       "      <td>2h 50m</td>\n",
       "      <td>non-stop</td>\n",
       "      <td>5</td>\n",
       "    </tr>\n",
       "  </tbody>\n",
       "</table>\n",
       "</div>"
      ],
      "text/plain": [
       "   Airline Date_of_Journey    Source Destination            Route Dep_Time  \\\n",
       "0        4       6/06/2019     Delhi      Cochin  DEL → BOM → COK    17:30   \n",
       "1        3      12/05/2019   Kolkata    Banglore  CCU → MAA → BLR    06:20   \n",
       "2        4      21/05/2019     Delhi      Cochin  DEL → BOM → COK    19:15   \n",
       "3        6      21/05/2019     Delhi      Cochin  DEL → BOM → COK    08:00   \n",
       "4        0      24/06/2019  Banglore       Delhi        BLR → DEL    23:55   \n",
       "\n",
       "   Arrival_Time Duration Total_Stops  Additional_Info  \n",
       "0  04:25 07 Jun  10h 55m      1 stop                5  \n",
       "1         10:20       4h      1 stop                5  \n",
       "2  19:00 22 May  23h 45m      1 stop                3  \n",
       "3         21:00      13h      1 stop                5  \n",
       "4  02:45 25 Jun   2h 50m    non-stop                5  "
      ]
     },
     "execution_count": 49,
     "metadata": {},
     "output_type": "execute_result"
    }
   ],
   "source": [
    "df.head()\n"
   ]
  },
  {
   "cell_type": "code",
   "execution_count": 50,
   "id": "ba5bae7e",
   "metadata": {},
   "outputs": [],
   "source": [
    "from sklearn.preprocessing import LabelEncoder\n",
    "LE=LabelEncoder()\n",
    "df['Date_of_Journey']=LE.fit_transform(df['Date_of_Journey'])"
   ]
  },
  {
   "cell_type": "code",
   "execution_count": 51,
   "id": "58c1d035",
   "metadata": {},
   "outputs": [
    {
     "data": {
      "text/plain": [
       "array([39, 10, 22, 27, 11,  8,  6, 12, 18, 20, 15, 14, 35,  2, 24, 36, 42,\n",
       "       16, 37,  7, 32, 28, 43, 34,  5, 19, 13, 38, 40, 33, 31, 23, 21, 17,\n",
       "       41, 26,  0,  3, 30,  1, 29,  4, 25,  9])"
      ]
     },
     "execution_count": 51,
     "metadata": {},
     "output_type": "execute_result"
    }
   ],
   "source": [
    "df.Date_of_Journey.unique()"
   ]
  },
  {
   "cell_type": "code",
   "execution_count": 55,
   "id": "c1948491",
   "metadata": {},
   "outputs": [
    {
     "data": {
      "text/html": [
       "<div>\n",
       "<style scoped>\n",
       "    .dataframe tbody tr th:only-of-type {\n",
       "        vertical-align: middle;\n",
       "    }\n",
       "\n",
       "    .dataframe tbody tr th {\n",
       "        vertical-align: top;\n",
       "    }\n",
       "\n",
       "    .dataframe thead th {\n",
       "        text-align: right;\n",
       "    }\n",
       "</style>\n",
       "<table border=\"1\" class=\"dataframe\">\n",
       "  <thead>\n",
       "    <tr style=\"text-align: right;\">\n",
       "      <th></th>\n",
       "      <th>Airline</th>\n",
       "      <th>Date_of_Journey</th>\n",
       "      <th>Source</th>\n",
       "      <th>Destination</th>\n",
       "      <th>Route</th>\n",
       "      <th>Dep_Time</th>\n",
       "      <th>Arrival_Time</th>\n",
       "      <th>Duration</th>\n",
       "      <th>Total_Stops</th>\n",
       "      <th>Additional_Info</th>\n",
       "    </tr>\n",
       "  </thead>\n",
       "  <tbody>\n",
       "    <tr>\n",
       "      <th>0</th>\n",
       "      <td>4</td>\n",
       "      <td>39</td>\n",
       "      <td>2</td>\n",
       "      <td>Cochin</td>\n",
       "      <td>DEL → BOM → COK</td>\n",
       "      <td>17:30</td>\n",
       "      <td>04:25 07 Jun</td>\n",
       "      <td>10h 55m</td>\n",
       "      <td>1 stop</td>\n",
       "      <td>5</td>\n",
       "    </tr>\n",
       "    <tr>\n",
       "      <th>1</th>\n",
       "      <td>3</td>\n",
       "      <td>10</td>\n",
       "      <td>3</td>\n",
       "      <td>Banglore</td>\n",
       "      <td>CCU → MAA → BLR</td>\n",
       "      <td>06:20</td>\n",
       "      <td>10:20</td>\n",
       "      <td>4h</td>\n",
       "      <td>1 stop</td>\n",
       "      <td>5</td>\n",
       "    </tr>\n",
       "    <tr>\n",
       "      <th>2</th>\n",
       "      <td>4</td>\n",
       "      <td>22</td>\n",
       "      <td>2</td>\n",
       "      <td>Cochin</td>\n",
       "      <td>DEL → BOM → COK</td>\n",
       "      <td>19:15</td>\n",
       "      <td>19:00 22 May</td>\n",
       "      <td>23h 45m</td>\n",
       "      <td>1 stop</td>\n",
       "      <td>3</td>\n",
       "    </tr>\n",
       "    <tr>\n",
       "      <th>3</th>\n",
       "      <td>6</td>\n",
       "      <td>22</td>\n",
       "      <td>2</td>\n",
       "      <td>Cochin</td>\n",
       "      <td>DEL → BOM → COK</td>\n",
       "      <td>08:00</td>\n",
       "      <td>21:00</td>\n",
       "      <td>13h</td>\n",
       "      <td>1 stop</td>\n",
       "      <td>5</td>\n",
       "    </tr>\n",
       "    <tr>\n",
       "      <th>4</th>\n",
       "      <td>0</td>\n",
       "      <td>27</td>\n",
       "      <td>0</td>\n",
       "      <td>Delhi</td>\n",
       "      <td>BLR → DEL</td>\n",
       "      <td>23:55</td>\n",
       "      <td>02:45 25 Jun</td>\n",
       "      <td>2h 50m</td>\n",
       "      <td>non-stop</td>\n",
       "      <td>5</td>\n",
       "    </tr>\n",
       "  </tbody>\n",
       "</table>\n",
       "</div>"
      ],
      "text/plain": [
       "   Airline  Date_of_Journey  Source Destination            Route Dep_Time  \\\n",
       "0        4               39       2      Cochin  DEL → BOM → COK    17:30   \n",
       "1        3               10       3    Banglore  CCU → MAA → BLR    06:20   \n",
       "2        4               22       2      Cochin  DEL → BOM → COK    19:15   \n",
       "3        6               22       2      Cochin  DEL → BOM → COK    08:00   \n",
       "4        0               27       0       Delhi        BLR → DEL    23:55   \n",
       "\n",
       "   Arrival_Time Duration Total_Stops  Additional_Info  \n",
       "0  04:25 07 Jun  10h 55m      1 stop                5  \n",
       "1         10:20       4h      1 stop                5  \n",
       "2  19:00 22 May  23h 45m      1 stop                3  \n",
       "3         21:00      13h      1 stop                5  \n",
       "4  02:45 25 Jun   2h 50m    non-stop                5  "
      ]
     },
     "execution_count": 55,
     "metadata": {},
     "output_type": "execute_result"
    }
   ],
   "source": [
    "df.head()\n"
   ]
  },
  {
   "cell_type": "code",
   "execution_count": 53,
   "id": "e45f38b3",
   "metadata": {},
   "outputs": [],
   "source": [
    "from sklearn.preprocessing import LabelEncoder\n",
    "LE=LabelEncoder()\n",
    "df['Source']=LE.fit_transform(df['Source'])"
   ]
  },
  {
   "cell_type": "code",
   "execution_count": 54,
   "id": "db2b3995",
   "metadata": {},
   "outputs": [
    {
     "data": {
      "text/plain": [
       "array([2, 3, 0, 4, 1])"
      ]
     },
     "execution_count": 54,
     "metadata": {},
     "output_type": "execute_result"
    }
   ],
   "source": [
    "df.Source.unique()"
   ]
  },
  {
   "cell_type": "code",
   "execution_count": 57,
   "id": "2458fcd4",
   "metadata": {},
   "outputs": [
    {
     "data": {
      "text/html": [
       "<div>\n",
       "<style scoped>\n",
       "    .dataframe tbody tr th:only-of-type {\n",
       "        vertical-align: middle;\n",
       "    }\n",
       "\n",
       "    .dataframe tbody tr th {\n",
       "        vertical-align: top;\n",
       "    }\n",
       "\n",
       "    .dataframe thead th {\n",
       "        text-align: right;\n",
       "    }\n",
       "</style>\n",
       "<table border=\"1\" class=\"dataframe\">\n",
       "  <thead>\n",
       "    <tr style=\"text-align: right;\">\n",
       "      <th></th>\n",
       "      <th>Airline</th>\n",
       "      <th>Date_of_Journey</th>\n",
       "      <th>Source</th>\n",
       "      <th>Destination</th>\n",
       "      <th>Route</th>\n",
       "      <th>Dep_Time</th>\n",
       "      <th>Arrival_Time</th>\n",
       "      <th>Duration</th>\n",
       "      <th>Total_Stops</th>\n",
       "      <th>Additional_Info</th>\n",
       "    </tr>\n",
       "  </thead>\n",
       "  <tbody>\n",
       "    <tr>\n",
       "      <th>0</th>\n",
       "      <td>4</td>\n",
       "      <td>39</td>\n",
       "      <td>2</td>\n",
       "      <td>Cochin</td>\n",
       "      <td>DEL → BOM → COK</td>\n",
       "      <td>17:30</td>\n",
       "      <td>04:25 07 Jun</td>\n",
       "      <td>10h 55m</td>\n",
       "      <td>1 stop</td>\n",
       "      <td>5</td>\n",
       "    </tr>\n",
       "    <tr>\n",
       "      <th>1</th>\n",
       "      <td>3</td>\n",
       "      <td>10</td>\n",
       "      <td>3</td>\n",
       "      <td>Banglore</td>\n",
       "      <td>CCU → MAA → BLR</td>\n",
       "      <td>06:20</td>\n",
       "      <td>10:20</td>\n",
       "      <td>4h</td>\n",
       "      <td>1 stop</td>\n",
       "      <td>5</td>\n",
       "    </tr>\n",
       "    <tr>\n",
       "      <th>2</th>\n",
       "      <td>4</td>\n",
       "      <td>22</td>\n",
       "      <td>2</td>\n",
       "      <td>Cochin</td>\n",
       "      <td>DEL → BOM → COK</td>\n",
       "      <td>19:15</td>\n",
       "      <td>19:00 22 May</td>\n",
       "      <td>23h 45m</td>\n",
       "      <td>1 stop</td>\n",
       "      <td>3</td>\n",
       "    </tr>\n",
       "    <tr>\n",
       "      <th>3</th>\n",
       "      <td>6</td>\n",
       "      <td>22</td>\n",
       "      <td>2</td>\n",
       "      <td>Cochin</td>\n",
       "      <td>DEL → BOM → COK</td>\n",
       "      <td>08:00</td>\n",
       "      <td>21:00</td>\n",
       "      <td>13h</td>\n",
       "      <td>1 stop</td>\n",
       "      <td>5</td>\n",
       "    </tr>\n",
       "    <tr>\n",
       "      <th>4</th>\n",
       "      <td>0</td>\n",
       "      <td>27</td>\n",
       "      <td>0</td>\n",
       "      <td>Delhi</td>\n",
       "      <td>BLR → DEL</td>\n",
       "      <td>23:55</td>\n",
       "      <td>02:45 25 Jun</td>\n",
       "      <td>2h 50m</td>\n",
       "      <td>non-stop</td>\n",
       "      <td>5</td>\n",
       "    </tr>\n",
       "  </tbody>\n",
       "</table>\n",
       "</div>"
      ],
      "text/plain": [
       "   Airline  Date_of_Journey  Source Destination            Route Dep_Time  \\\n",
       "0        4               39       2      Cochin  DEL → BOM → COK    17:30   \n",
       "1        3               10       3    Banglore  CCU → MAA → BLR    06:20   \n",
       "2        4               22       2      Cochin  DEL → BOM → COK    19:15   \n",
       "3        6               22       2      Cochin  DEL → BOM → COK    08:00   \n",
       "4        0               27       0       Delhi        BLR → DEL    23:55   \n",
       "\n",
       "   Arrival_Time Duration Total_Stops  Additional_Info  \n",
       "0  04:25 07 Jun  10h 55m      1 stop                5  \n",
       "1         10:20       4h      1 stop                5  \n",
       "2  19:00 22 May  23h 45m      1 stop                3  \n",
       "3         21:00      13h      1 stop                5  \n",
       "4  02:45 25 Jun   2h 50m    non-stop                5  "
      ]
     },
     "execution_count": 57,
     "metadata": {},
     "output_type": "execute_result"
    }
   ],
   "source": [
    "df.head()\n"
   ]
  },
  {
   "cell_type": "code",
   "execution_count": 58,
   "id": "6a808e34",
   "metadata": {},
   "outputs": [
    {
     "data": {
      "text/plain": [
       "array([1, 0, 2, 5, 3, 4])"
      ]
     },
     "execution_count": 58,
     "metadata": {},
     "output_type": "execute_result"
    }
   ],
   "source": [
    "from sklearn.preprocessing import LabelEncoder\n",
    "LE=LabelEncoder()\n",
    "df['Destination']=LE.fit_transform(df['Destination'])\n",
    "df.Destination.unique()"
   ]
  },
  {
   "cell_type": "code",
   "execution_count": 59,
   "id": "19f8f0b8",
   "metadata": {},
   "outputs": [
    {
     "data": {
      "text/html": [
       "<div>\n",
       "<style scoped>\n",
       "    .dataframe tbody tr th:only-of-type {\n",
       "        vertical-align: middle;\n",
       "    }\n",
       "\n",
       "    .dataframe tbody tr th {\n",
       "        vertical-align: top;\n",
       "    }\n",
       "\n",
       "    .dataframe thead th {\n",
       "        text-align: right;\n",
       "    }\n",
       "</style>\n",
       "<table border=\"1\" class=\"dataframe\">\n",
       "  <thead>\n",
       "    <tr style=\"text-align: right;\">\n",
       "      <th></th>\n",
       "      <th>Airline</th>\n",
       "      <th>Date_of_Journey</th>\n",
       "      <th>Source</th>\n",
       "      <th>Destination</th>\n",
       "      <th>Route</th>\n",
       "      <th>Dep_Time</th>\n",
       "      <th>Arrival_Time</th>\n",
       "      <th>Duration</th>\n",
       "      <th>Total_Stops</th>\n",
       "      <th>Additional_Info</th>\n",
       "    </tr>\n",
       "  </thead>\n",
       "  <tbody>\n",
       "    <tr>\n",
       "      <th>0</th>\n",
       "      <td>4</td>\n",
       "      <td>39</td>\n",
       "      <td>2</td>\n",
       "      <td>1</td>\n",
       "      <td>DEL → BOM → COK</td>\n",
       "      <td>17:30</td>\n",
       "      <td>04:25 07 Jun</td>\n",
       "      <td>10h 55m</td>\n",
       "      <td>1 stop</td>\n",
       "      <td>5</td>\n",
       "    </tr>\n",
       "    <tr>\n",
       "      <th>1</th>\n",
       "      <td>3</td>\n",
       "      <td>10</td>\n",
       "      <td>3</td>\n",
       "      <td>0</td>\n",
       "      <td>CCU → MAA → BLR</td>\n",
       "      <td>06:20</td>\n",
       "      <td>10:20</td>\n",
       "      <td>4h</td>\n",
       "      <td>1 stop</td>\n",
       "      <td>5</td>\n",
       "    </tr>\n",
       "    <tr>\n",
       "      <th>2</th>\n",
       "      <td>4</td>\n",
       "      <td>22</td>\n",
       "      <td>2</td>\n",
       "      <td>1</td>\n",
       "      <td>DEL → BOM → COK</td>\n",
       "      <td>19:15</td>\n",
       "      <td>19:00 22 May</td>\n",
       "      <td>23h 45m</td>\n",
       "      <td>1 stop</td>\n",
       "      <td>3</td>\n",
       "    </tr>\n",
       "    <tr>\n",
       "      <th>3</th>\n",
       "      <td>6</td>\n",
       "      <td>22</td>\n",
       "      <td>2</td>\n",
       "      <td>1</td>\n",
       "      <td>DEL → BOM → COK</td>\n",
       "      <td>08:00</td>\n",
       "      <td>21:00</td>\n",
       "      <td>13h</td>\n",
       "      <td>1 stop</td>\n",
       "      <td>5</td>\n",
       "    </tr>\n",
       "    <tr>\n",
       "      <th>4</th>\n",
       "      <td>0</td>\n",
       "      <td>27</td>\n",
       "      <td>0</td>\n",
       "      <td>2</td>\n",
       "      <td>BLR → DEL</td>\n",
       "      <td>23:55</td>\n",
       "      <td>02:45 25 Jun</td>\n",
       "      <td>2h 50m</td>\n",
       "      <td>non-stop</td>\n",
       "      <td>5</td>\n",
       "    </tr>\n",
       "  </tbody>\n",
       "</table>\n",
       "</div>"
      ],
      "text/plain": [
       "   Airline  Date_of_Journey  Source  Destination            Route Dep_Time  \\\n",
       "0        4               39       2            1  DEL → BOM → COK    17:30   \n",
       "1        3               10       3            0  CCU → MAA → BLR    06:20   \n",
       "2        4               22       2            1  DEL → BOM → COK    19:15   \n",
       "3        6               22       2            1  DEL → BOM → COK    08:00   \n",
       "4        0               27       0            2        BLR → DEL    23:55   \n",
       "\n",
       "   Arrival_Time Duration Total_Stops  Additional_Info  \n",
       "0  04:25 07 Jun  10h 55m      1 stop                5  \n",
       "1         10:20       4h      1 stop                5  \n",
       "2  19:00 22 May  23h 45m      1 stop                3  \n",
       "3         21:00      13h      1 stop                5  \n",
       "4  02:45 25 Jun   2h 50m    non-stop                5  "
      ]
     },
     "execution_count": 59,
     "metadata": {},
     "output_type": "execute_result"
    }
   ],
   "source": [
    "df.head()\n"
   ]
  },
  {
   "cell_type": "code",
   "execution_count": 60,
   "id": "8cc449b0",
   "metadata": {},
   "outputs": [
    {
     "data": {
      "text/plain": [
       "array([76, 65, 16, 24, 57, 43, 45, 92, 83,  5, 51, 88, 74, 33, 68, 99, 46,\n",
       "       75, 84, 93, 60, 50, 78, 62, 91, 58, 77, 56, 15, 10, 40,  0, 30, 80,\n",
       "       87, 82, 52, 18,  4, 85, 70, 96, 94, 67, 20,  8,  6, 69, 39, 21, 61,\n",
       "       47, 72, 25, 73, 19,  3, 79, 71, 48, 23, 64, 97, 14, 98, 29, 44, 89,\n",
       "       95, 81,  7,  2, 36, 55, 11,  1, 37, 54, 90, 63, 66, 35, 13, 27, 49,\n",
       "       31, 34, 53, 17,  9, 86, 41, 26, 22, 38, 28, 12, 42, 59, 32])"
      ]
     },
     "execution_count": 60,
     "metadata": {},
     "output_type": "execute_result"
    }
   ],
   "source": [
    "from sklearn.preprocessing import LabelEncoder\n",
    "LE=LabelEncoder()\n",
    "df['Route']=LE.fit_transform(df['Route'])\n",
    "df.Route.unique()"
   ]
  },
  {
   "cell_type": "code",
   "execution_count": 61,
   "id": "0f352bce",
   "metadata": {},
   "outputs": [
    {
     "data": {
      "text/html": [
       "<div>\n",
       "<style scoped>\n",
       "    .dataframe tbody tr th:only-of-type {\n",
       "        vertical-align: middle;\n",
       "    }\n",
       "\n",
       "    .dataframe tbody tr th {\n",
       "        vertical-align: top;\n",
       "    }\n",
       "\n",
       "    .dataframe thead th {\n",
       "        text-align: right;\n",
       "    }\n",
       "</style>\n",
       "<table border=\"1\" class=\"dataframe\">\n",
       "  <thead>\n",
       "    <tr style=\"text-align: right;\">\n",
       "      <th></th>\n",
       "      <th>Airline</th>\n",
       "      <th>Date_of_Journey</th>\n",
       "      <th>Source</th>\n",
       "      <th>Destination</th>\n",
       "      <th>Route</th>\n",
       "      <th>Dep_Time</th>\n",
       "      <th>Arrival_Time</th>\n",
       "      <th>Duration</th>\n",
       "      <th>Total_Stops</th>\n",
       "      <th>Additional_Info</th>\n",
       "    </tr>\n",
       "  </thead>\n",
       "  <tbody>\n",
       "    <tr>\n",
       "      <th>0</th>\n",
       "      <td>4</td>\n",
       "      <td>39</td>\n",
       "      <td>2</td>\n",
       "      <td>1</td>\n",
       "      <td>76</td>\n",
       "      <td>17:30</td>\n",
       "      <td>04:25 07 Jun</td>\n",
       "      <td>10h 55m</td>\n",
       "      <td>1 stop</td>\n",
       "      <td>5</td>\n",
       "    </tr>\n",
       "    <tr>\n",
       "      <th>1</th>\n",
       "      <td>3</td>\n",
       "      <td>10</td>\n",
       "      <td>3</td>\n",
       "      <td>0</td>\n",
       "      <td>65</td>\n",
       "      <td>06:20</td>\n",
       "      <td>10:20</td>\n",
       "      <td>4h</td>\n",
       "      <td>1 stop</td>\n",
       "      <td>5</td>\n",
       "    </tr>\n",
       "    <tr>\n",
       "      <th>2</th>\n",
       "      <td>4</td>\n",
       "      <td>22</td>\n",
       "      <td>2</td>\n",
       "      <td>1</td>\n",
       "      <td>76</td>\n",
       "      <td>19:15</td>\n",
       "      <td>19:00 22 May</td>\n",
       "      <td>23h 45m</td>\n",
       "      <td>1 stop</td>\n",
       "      <td>3</td>\n",
       "    </tr>\n",
       "    <tr>\n",
       "      <th>3</th>\n",
       "      <td>6</td>\n",
       "      <td>22</td>\n",
       "      <td>2</td>\n",
       "      <td>1</td>\n",
       "      <td>76</td>\n",
       "      <td>08:00</td>\n",
       "      <td>21:00</td>\n",
       "      <td>13h</td>\n",
       "      <td>1 stop</td>\n",
       "      <td>5</td>\n",
       "    </tr>\n",
       "    <tr>\n",
       "      <th>4</th>\n",
       "      <td>0</td>\n",
       "      <td>27</td>\n",
       "      <td>0</td>\n",
       "      <td>2</td>\n",
       "      <td>16</td>\n",
       "      <td>23:55</td>\n",
       "      <td>02:45 25 Jun</td>\n",
       "      <td>2h 50m</td>\n",
       "      <td>non-stop</td>\n",
       "      <td>5</td>\n",
       "    </tr>\n",
       "  </tbody>\n",
       "</table>\n",
       "</div>"
      ],
      "text/plain": [
       "   Airline  Date_of_Journey  Source  Destination  Route Dep_Time  \\\n",
       "0        4               39       2            1     76    17:30   \n",
       "1        3               10       3            0     65    06:20   \n",
       "2        4               22       2            1     76    19:15   \n",
       "3        6               22       2            1     76    08:00   \n",
       "4        0               27       0            2     16    23:55   \n",
       "\n",
       "   Arrival_Time Duration Total_Stops  Additional_Info  \n",
       "0  04:25 07 Jun  10h 55m      1 stop                5  \n",
       "1         10:20       4h      1 stop                5  \n",
       "2  19:00 22 May  23h 45m      1 stop                3  \n",
       "3         21:00      13h      1 stop                5  \n",
       "4  02:45 25 Jun   2h 50m    non-stop                5  "
      ]
     },
     "execution_count": 61,
     "metadata": {},
     "output_type": "execute_result"
    }
   ],
   "source": [
    "df.head()\n"
   ]
  },
  {
   "cell_type": "code",
   "execution_count": 62,
   "id": "6ead93cc",
   "metadata": {},
   "outputs": [
    {
     "data": {
      "text/plain": [
       "array([138,  31, 156,  48, 198, 146,  44, 116,  70, 127, 101,  36,  58,\n",
       "        24, 181,  96,  68, 193,  75, 164,  21, 177, 124, 102, 192, 162,\n",
       "        40,  26, 132, 152,  71, 135,  93, 191, 176, 141,  62, 103,  66,\n",
       "         5,  84, 133,  27,  39, 130, 160,  10, 179,  82,  88, 183,  25,\n",
       "        47,  59,  51,  63,  69, 112, 186,  38, 163, 158, 113,  22,  34,\n",
       "       136, 180,  45,  37, 139,  79, 167, 169,  23, 114, 175, 107, 161,\n",
       "        52, 184, 178,   6,  53, 172, 105, 109,  78, 159, 117,  29, 188,\n",
       "        54, 110,  65,   3,  56, 154,  57,  83,  15, 104,  64, 142, 121,\n",
       "         9,   1, 153, 195,  81,  20,  19,  91,  35, 145,  98,  61,   7,\n",
       "       197,  46,  87, 168,  50, 137,  67, 122,  74, 108,  33,  86, 155,\n",
       "       173, 115, 131, 128,  73,  13,  11,  12, 148, 119, 157,  95,  94,\n",
       "        60, 170,  90,  77,  55,  42, 111,  76,  16, 123, 118, 165, 151,\n",
       "       125, 196, 129,  41,  97,  28, 174,  80,  30, 144, 150,  92,  18,\n",
       "       185,  43,  17, 189,  14, 147, 140,   2,  85, 187, 120, 106, 171,\n",
       "        99,   8, 134, 143, 182, 190,  49,  32, 166, 149, 100,   0,   4,\n",
       "       126,  72,  89, 194])"
      ]
     },
     "execution_count": 62,
     "metadata": {},
     "output_type": "execute_result"
    }
   ],
   "source": [
    "from sklearn.preprocessing import LabelEncoder\n",
    "LE=LabelEncoder()\n",
    "df['Dep_Time']=LE.fit_transform(df['Dep_Time'])\n",
    "df.Dep_Time.unique()"
   ]
  },
  {
   "cell_type": "code",
   "execution_count": 63,
   "id": "2b5de92f",
   "metadata": {},
   "outputs": [
    {
     "data": {
      "text/html": [
       "<div>\n",
       "<style scoped>\n",
       "    .dataframe tbody tr th:only-of-type {\n",
       "        vertical-align: middle;\n",
       "    }\n",
       "\n",
       "    .dataframe tbody tr th {\n",
       "        vertical-align: top;\n",
       "    }\n",
       "\n",
       "    .dataframe thead th {\n",
       "        text-align: right;\n",
       "    }\n",
       "</style>\n",
       "<table border=\"1\" class=\"dataframe\">\n",
       "  <thead>\n",
       "    <tr style=\"text-align: right;\">\n",
       "      <th></th>\n",
       "      <th>Airline</th>\n",
       "      <th>Date_of_Journey</th>\n",
       "      <th>Source</th>\n",
       "      <th>Destination</th>\n",
       "      <th>Route</th>\n",
       "      <th>Dep_Time</th>\n",
       "      <th>Arrival_Time</th>\n",
       "      <th>Duration</th>\n",
       "      <th>Total_Stops</th>\n",
       "      <th>Additional_Info</th>\n",
       "    </tr>\n",
       "  </thead>\n",
       "  <tbody>\n",
       "    <tr>\n",
       "      <th>0</th>\n",
       "      <td>4</td>\n",
       "      <td>39</td>\n",
       "      <td>2</td>\n",
       "      <td>1</td>\n",
       "      <td>76</td>\n",
       "      <td>138</td>\n",
       "      <td>04:25 07 Jun</td>\n",
       "      <td>10h 55m</td>\n",
       "      <td>1 stop</td>\n",
       "      <td>5</td>\n",
       "    </tr>\n",
       "    <tr>\n",
       "      <th>1</th>\n",
       "      <td>3</td>\n",
       "      <td>10</td>\n",
       "      <td>3</td>\n",
       "      <td>0</td>\n",
       "      <td>65</td>\n",
       "      <td>31</td>\n",
       "      <td>10:20</td>\n",
       "      <td>4h</td>\n",
       "      <td>1 stop</td>\n",
       "      <td>5</td>\n",
       "    </tr>\n",
       "    <tr>\n",
       "      <th>2</th>\n",
       "      <td>4</td>\n",
       "      <td>22</td>\n",
       "      <td>2</td>\n",
       "      <td>1</td>\n",
       "      <td>76</td>\n",
       "      <td>156</td>\n",
       "      <td>19:00 22 May</td>\n",
       "      <td>23h 45m</td>\n",
       "      <td>1 stop</td>\n",
       "      <td>3</td>\n",
       "    </tr>\n",
       "    <tr>\n",
       "      <th>3</th>\n",
       "      <td>6</td>\n",
       "      <td>22</td>\n",
       "      <td>2</td>\n",
       "      <td>1</td>\n",
       "      <td>76</td>\n",
       "      <td>48</td>\n",
       "      <td>21:00</td>\n",
       "      <td>13h</td>\n",
       "      <td>1 stop</td>\n",
       "      <td>5</td>\n",
       "    </tr>\n",
       "    <tr>\n",
       "      <th>4</th>\n",
       "      <td>0</td>\n",
       "      <td>27</td>\n",
       "      <td>0</td>\n",
       "      <td>2</td>\n",
       "      <td>16</td>\n",
       "      <td>198</td>\n",
       "      <td>02:45 25 Jun</td>\n",
       "      <td>2h 50m</td>\n",
       "      <td>non-stop</td>\n",
       "      <td>5</td>\n",
       "    </tr>\n",
       "  </tbody>\n",
       "</table>\n",
       "</div>"
      ],
      "text/plain": [
       "   Airline  Date_of_Journey  Source  Destination  Route  Dep_Time  \\\n",
       "0        4               39       2            1     76       138   \n",
       "1        3               10       3            0     65        31   \n",
       "2        4               22       2            1     76       156   \n",
       "3        6               22       2            1     76        48   \n",
       "4        0               27       0            2     16       198   \n",
       "\n",
       "   Arrival_Time Duration Total_Stops  Additional_Info  \n",
       "0  04:25 07 Jun  10h 55m      1 stop                5  \n",
       "1         10:20       4h      1 stop                5  \n",
       "2  19:00 22 May  23h 45m      1 stop                3  \n",
       "3         21:00      13h      1 stop                5  \n",
       "4  02:45 25 Jun   2h 50m    non-stop                5  "
      ]
     },
     "execution_count": 63,
     "metadata": {},
     "output_type": "execute_result"
    }
   ],
   "source": [
    "df.head()\n"
   ]
  },
  {
   "cell_type": "code",
   "execution_count": 64,
   "id": "f1811730",
   "metadata": {},
   "outputs": [
    {
     "data": {
      "text/plain": [
       "array([150, 353, 566, 633, 135, 432, 662, 620, 442, 554, 488, 577, 355,\n",
       "       428, 258, 661, 657, 157, 263, 119, 344, 287, 555, 702, 161, 516,\n",
       "        87, 122, 427, 674, 274, 678, 410, 598, 111,  32, 230, 125, 610,\n",
       "       548, 481, 663, 455, 603, 499, 399, 408, 527, 240, 570, 419, 549,\n",
       "       318, 660, 659, 485, 218,  34, 546, 449, 565, 647, 484, 366, 398,\n",
       "       421, 190, 517, 347,  83, 289, 107, 363, 261, 267, 535, 578, 624,\n",
       "       220, 158, 211, 539, 350, 120, 600, 345,  68, 640, 324, 658, 590,\n",
       "       538, 109, 151, 619, 357, 461, 276, 611, 431, 507, 597, 138, 440,\n",
       "       493, 189, 379, 667, 403, 323,  36, 504, 177, 266,  16, 607, 412,\n",
       "       634, 482, 518, 278,  62, 510, 508,  30, 143, 365, 542, 621,  64,\n",
       "       648, 382, 103,  65, 316, 474, 581, 460, 390, 162, 249, 377, 509,\n",
       "       395, 381, 255, 224, 506, 116, 104, 483, 650, 334,  85, 606, 144,\n",
       "       254, 137, 616,  75, 388, 467, 685, 106, 329, 115, 148, 595, 639,\n",
       "       437, 463, 282, 141, 622, 127, 438,  40, 691, 194, 464,  74, 495,\n",
       "       147, 310, 614, 675, 327, 340, 268, 459, 309, 519, 284, 409, 394,\n",
       "       701, 112, 295, 465, 511, 281, 501, 226, 153, 445, 405, 352, 564,\n",
       "       380, 215, 533, 690, 585, 201, 452, 536, 560, 668, 108, 696, 642,\n",
       "       291, 273, 231, 166, 556, 101, 145, 568,  78, 550, 243, 206, 270,\n",
       "       458,  96, 217, 118, 264,  51, 524, 146, 358, 698, 699, 569, 173,\n",
       "        69, 433, 360, 429, 471, 596, 167, 152, 453, 203, 515, 159, 315,\n",
       "       684, 551, 302, 219, 692, 652, 110, 451, 349, 423, 512, 528, 237,\n",
       "       351, 497, 325, 591, 525,  55, 646, 626, 645,  31, 436, 530, 123,\n",
       "       204, 601,  47, 643, 492,  12, 222, 594, 563, 117, 447, 312, 486,\n",
       "       331, 232, 416,  84, 277, 553, 299, 683, 322, 303, 523, 385, 552,\n",
       "       181, 154, 180, 100, 372, 602, 163, 209, 448, 544, 234, 262, 383,\n",
       "       682,   4, 490, 113, 687, 221, 537, 500, 387,  11, 644, 589, 156,\n",
       "       478, 197, 239, 306, 250,  67,  95,  89, 514,  50,   9, 417, 534,\n",
       "       450, 582, 168, 384, 688, 599, 401, 406, 369, 335, 477, 195,  76,\n",
       "       443, 411, 435, 454, 386, 175,  63, 227, 418, 233, 185, 279, 669,\n",
       "       164, 317, 526, 170,  15, 121,   2, 247, 557, 588,  79, 700, 294,\n",
       "       256, 235, 176, 155, 342,  82, 632, 130, 502,   6, 114, 571, 338,\n",
       "       574,  81, 397, 225, 271, 330, 183, 415, 296, 300, 586,  22, 562,\n",
       "        90,  43,  23, 293, 126, 532, 561, 393, 520, 476, 359, 192, 321,\n",
       "       314,  71,  61, 305, 193, 609, 404,  59, 627, 308, 304,   8, 188,\n",
       "       400, 424, 320, 223, 292, 260, 498,  13,  39, 697, 252, 625, 689,\n",
       "       513, 608, 179,  18, 462,  48,  56, 105, 592, 456, 182, 580, 430,\n",
       "       703, 241, 613, 307, 200, 184, 656,  28, 346, 202, 695, 579, 311,\n",
       "       629, 333, 573, 413, 666, 301, 567, 676, 392, 457,  20, 494, 172,\n",
       "        27, 142, 543, 664, 178, 272,  70, 654, 402, 251, 677, 328, 337,\n",
       "       434, 364, 198, 313,  94, 641, 214, 605,  60,  25,  14, 426, 628,\n",
       "       259, 636,  53, 326, 468, 638, 343,   7,  77, 265, 446, 649, 673,\n",
       "       396, 472, 285, 693, 470, 319,   3, 186, 165, 631, 174, 129, 637,\n",
       "        33, 371, 480,  92, 615, 420, 583,  41, 653, 479, 288, 496, 373,\n",
       "       391, 205, 280, 290, 283, 378, 375, 102, 216,  99, 473, 489, 593,\n",
       "        45, 134, 370,  49, 236, 671, 286, 576,  86, 354, 545, 332, 348,\n",
       "        93, 361, 339, 238,  10,  58, 604, 208, 612, 244, 522, 529, 212,\n",
       "       367, 680, 681, 487,  97, 503, 196, 207, 665, 124, 572, 547, 491,\n",
       "        46, 275, 623, 362,  66, 133, 253, 297, 139, 199, 531, 374, 505,\n",
       "        91, 635, 128,  19, 630, 389, 132, 559, 670, 229, 149,  80, 521,\n",
       "        52, 140,  38, 414, 469,  26, 651, 213, 257, 228,  35, 541, 575,\n",
       "       441, 136, 336,   5, 587, 356, 269, 191,  24,  29, 694, 686,  88,\n",
       "       672, 466, 368, 298, 679, 376,  72, 475,  98, 618, 422, 169, 407,\n",
       "       341,   0, 187, 171, 210, 425,   1, 246, 439, 540, 248, 131, 558,\n",
       "        73, 444,  57,  17,  54,  44, 655, 584,  21, 245, 160,  42, 242,\n",
       "        37, 617])"
      ]
     },
     "execution_count": 64,
     "metadata": {},
     "output_type": "execute_result"
    }
   ],
   "source": [
    "from sklearn.preprocessing import LabelEncoder\n",
    "LE=LabelEncoder()\n",
    "df['Arrival_Time']=LE.fit_transform(df['Arrival_Time'])\n",
    "df.Arrival_Time.unique()\n"
   ]
  },
  {
   "cell_type": "code",
   "execution_count": 65,
   "id": "f2bff57e",
   "metadata": {},
   "outputs": [
    {
     "data": {
      "text/html": [
       "<div>\n",
       "<style scoped>\n",
       "    .dataframe tbody tr th:only-of-type {\n",
       "        vertical-align: middle;\n",
       "    }\n",
       "\n",
       "    .dataframe tbody tr th {\n",
       "        vertical-align: top;\n",
       "    }\n",
       "\n",
       "    .dataframe thead th {\n",
       "        text-align: right;\n",
       "    }\n",
       "</style>\n",
       "<table border=\"1\" class=\"dataframe\">\n",
       "  <thead>\n",
       "    <tr style=\"text-align: right;\">\n",
       "      <th></th>\n",
       "      <th>Airline</th>\n",
       "      <th>Date_of_Journey</th>\n",
       "      <th>Source</th>\n",
       "      <th>Destination</th>\n",
       "      <th>Route</th>\n",
       "      <th>Dep_Time</th>\n",
       "      <th>Arrival_Time</th>\n",
       "      <th>Duration</th>\n",
       "      <th>Total_Stops</th>\n",
       "      <th>Additional_Info</th>\n",
       "    </tr>\n",
       "  </thead>\n",
       "  <tbody>\n",
       "    <tr>\n",
       "      <th>0</th>\n",
       "      <td>4</td>\n",
       "      <td>39</td>\n",
       "      <td>2</td>\n",
       "      <td>1</td>\n",
       "      <td>76</td>\n",
       "      <td>138</td>\n",
       "      <td>150</td>\n",
       "      <td>10h 55m</td>\n",
       "      <td>1 stop</td>\n",
       "      <td>5</td>\n",
       "    </tr>\n",
       "    <tr>\n",
       "      <th>1</th>\n",
       "      <td>3</td>\n",
       "      <td>10</td>\n",
       "      <td>3</td>\n",
       "      <td>0</td>\n",
       "      <td>65</td>\n",
       "      <td>31</td>\n",
       "      <td>353</td>\n",
       "      <td>4h</td>\n",
       "      <td>1 stop</td>\n",
       "      <td>5</td>\n",
       "    </tr>\n",
       "    <tr>\n",
       "      <th>2</th>\n",
       "      <td>4</td>\n",
       "      <td>22</td>\n",
       "      <td>2</td>\n",
       "      <td>1</td>\n",
       "      <td>76</td>\n",
       "      <td>156</td>\n",
       "      <td>566</td>\n",
       "      <td>23h 45m</td>\n",
       "      <td>1 stop</td>\n",
       "      <td>3</td>\n",
       "    </tr>\n",
       "    <tr>\n",
       "      <th>3</th>\n",
       "      <td>6</td>\n",
       "      <td>22</td>\n",
       "      <td>2</td>\n",
       "      <td>1</td>\n",
       "      <td>76</td>\n",
       "      <td>48</td>\n",
       "      <td>633</td>\n",
       "      <td>13h</td>\n",
       "      <td>1 stop</td>\n",
       "      <td>5</td>\n",
       "    </tr>\n",
       "    <tr>\n",
       "      <th>4</th>\n",
       "      <td>0</td>\n",
       "      <td>27</td>\n",
       "      <td>0</td>\n",
       "      <td>2</td>\n",
       "      <td>16</td>\n",
       "      <td>198</td>\n",
       "      <td>135</td>\n",
       "      <td>2h 50m</td>\n",
       "      <td>non-stop</td>\n",
       "      <td>5</td>\n",
       "    </tr>\n",
       "  </tbody>\n",
       "</table>\n",
       "</div>"
      ],
      "text/plain": [
       "   Airline  Date_of_Journey  Source  Destination  Route  Dep_Time  \\\n",
       "0        4               39       2            1     76       138   \n",
       "1        3               10       3            0     65        31   \n",
       "2        4               22       2            1     76       156   \n",
       "3        6               22       2            1     76        48   \n",
       "4        0               27       0            2     16       198   \n",
       "\n",
       "   Arrival_Time Duration Total_Stops  Additional_Info  \n",
       "0           150  10h 55m      1 stop                5  \n",
       "1           353       4h      1 stop                5  \n",
       "2           566  23h 45m      1 stop                3  \n",
       "3           633      13h      1 stop                5  \n",
       "4           135   2h 50m    non-stop                5  "
      ]
     },
     "execution_count": 65,
     "metadata": {},
     "output_type": "execute_result"
    }
   ],
   "source": [
    "df.head()\n"
   ]
  },
  {
   "cell_type": "code",
   "execution_count": 66,
   "id": "f19dc00a",
   "metadata": {},
   "outputs": [
    {
     "data": {
      "text/plain": [
       "array([ 10, 248, 148,  36, 216,  93,  69, 261, 215, 283, 202, 311,   2,\n",
       "       254,  83,   9, 310,  26, 309,  55,  57,  18,  41,  28, 212, 168,\n",
       "       102, 284,  19, 295, 241, 110, 214,  90,   7,  29, 111, 147, 210,\n",
       "       146, 191, 199, 267, 179, 266, 209, 217, 289, 262, 172,  38, 178,\n",
       "       263, 304, 287, 122,  70, 293,  81, 269,  44,  22,  39,  92, 197,\n",
       "       259, 143, 108, 109,  40, 274,   1, 253,  12,  27,  59,  99,  43,\n",
       "       317, 213, 286, 141,   4, 270, 137, 303,  17,  65, 294,  33, 167,\n",
       "         3, 301,  32,  25, 135, 292, 129, 277, 211, 171, 230,  16,  60,\n",
       "        51, 296, 123, 183,  79, 319,  78,  14, 139,  88, 142, 166, 149,\n",
       "        50, 161,   5, 104, 275, 188, 312, 260, 291, 278, 201,  52, 106,\n",
       "       236, 255, 276, 127, 246, 257,  71, 280,  20, 272, 134, 100, 152,\n",
       "        53, 118,  72, 298, 300, 151, 103, 165, 125, 256,  94, 258,  77,\n",
       "       196, 162, 282, 299, 175, 308, 121, 144, 190, 126,  63,  47, 200,\n",
       "        54,  13, 113, 154,  24, 114, 192, 119,  23,  30, 164,   0,  98,\n",
       "        97, 307, 251,  56, 140, 316, 173, 174, 249, 314, 184,  21, 290,\n",
       "       265, 264, 233,  82,  66, 243,  74, 170,  31,  34,   6, 225, 120,\n",
       "       237, 160, 112, 157, 232, 145, 273, 313, 306, 181,  64, 268, 116,\n",
       "       150, 132, 115,  45, 244, 229, 169,  89, 153, 205, 195,  62, 242,\n",
       "        42, 305, 279, 219,  68, 130, 182, 235, 204,  46, 206,  11, 252,\n",
       "       124,  37,  86, 231, 281, 176,  76, 234, 245,  49, 133,  84, 224,\n",
       "       163, 117,  95, 177, 222, 218, 187, 159,  61, 285, 198,  48,  96,\n",
       "       193, 297, 240,  73,  35, 101, 207, 186, 223, 208, 228, 226,  58,\n",
       "        67, 136, 105, 221,  91, 203, 156, 315, 158, 128,   8,  87,  75,\n",
       "       194,  80, 302, 180, 220, 189, 185, 131, 107,  15, 247, 138, 227,\n",
       "        85, 288, 250, 155, 239, 318, 238, 271])"
      ]
     },
     "execution_count": 66,
     "metadata": {},
     "output_type": "execute_result"
    }
   ],
   "source": [
    "from sklearn.preprocessing import LabelEncoder\n",
    "LE=LabelEncoder()\n",
    "df['Duration']=LE.fit_transform(df['Duration'])\n",
    "df['Total_Stops']=LE.fit_transform(df['Total_Stops'])\n",
    "df.Duration.unique()"
   ]
  },
  {
   "cell_type": "code",
   "execution_count": 67,
   "id": "0935c378",
   "metadata": {},
   "outputs": [
    {
     "data": {
      "text/plain": [
       "array([0, 4, 1, 2, 3])"
      ]
     },
     "execution_count": 67,
     "metadata": {},
     "output_type": "execute_result"
    }
   ],
   "source": [
    "df.Total_Stops.unique()\n"
   ]
  },
  {
   "cell_type": "code",
   "execution_count": 68,
   "id": "251d650c",
   "metadata": {},
   "outputs": [
    {
     "data": {
      "text/html": [
       "<div>\n",
       "<style scoped>\n",
       "    .dataframe tbody tr th:only-of-type {\n",
       "        vertical-align: middle;\n",
       "    }\n",
       "\n",
       "    .dataframe tbody tr th {\n",
       "        vertical-align: top;\n",
       "    }\n",
       "\n",
       "    .dataframe thead th {\n",
       "        text-align: right;\n",
       "    }\n",
       "</style>\n",
       "<table border=\"1\" class=\"dataframe\">\n",
       "  <thead>\n",
       "    <tr style=\"text-align: right;\">\n",
       "      <th></th>\n",
       "      <th>Airline</th>\n",
       "      <th>Date_of_Journey</th>\n",
       "      <th>Source</th>\n",
       "      <th>Destination</th>\n",
       "      <th>Route</th>\n",
       "      <th>Dep_Time</th>\n",
       "      <th>Arrival_Time</th>\n",
       "      <th>Duration</th>\n",
       "      <th>Total_Stops</th>\n",
       "      <th>Additional_Info</th>\n",
       "    </tr>\n",
       "  </thead>\n",
       "  <tbody>\n",
       "    <tr>\n",
       "      <th>0</th>\n",
       "      <td>4</td>\n",
       "      <td>39</td>\n",
       "      <td>2</td>\n",
       "      <td>1</td>\n",
       "      <td>76</td>\n",
       "      <td>138</td>\n",
       "      <td>150</td>\n",
       "      <td>10</td>\n",
       "      <td>0</td>\n",
       "      <td>5</td>\n",
       "    </tr>\n",
       "    <tr>\n",
       "      <th>1</th>\n",
       "      <td>3</td>\n",
       "      <td>10</td>\n",
       "      <td>3</td>\n",
       "      <td>0</td>\n",
       "      <td>65</td>\n",
       "      <td>31</td>\n",
       "      <td>353</td>\n",
       "      <td>248</td>\n",
       "      <td>0</td>\n",
       "      <td>5</td>\n",
       "    </tr>\n",
       "    <tr>\n",
       "      <th>2</th>\n",
       "      <td>4</td>\n",
       "      <td>22</td>\n",
       "      <td>2</td>\n",
       "      <td>1</td>\n",
       "      <td>76</td>\n",
       "      <td>156</td>\n",
       "      <td>566</td>\n",
       "      <td>148</td>\n",
       "      <td>0</td>\n",
       "      <td>3</td>\n",
       "    </tr>\n",
       "    <tr>\n",
       "      <th>3</th>\n",
       "      <td>6</td>\n",
       "      <td>22</td>\n",
       "      <td>2</td>\n",
       "      <td>1</td>\n",
       "      <td>76</td>\n",
       "      <td>48</td>\n",
       "      <td>633</td>\n",
       "      <td>36</td>\n",
       "      <td>0</td>\n",
       "      <td>5</td>\n",
       "    </tr>\n",
       "    <tr>\n",
       "      <th>4</th>\n",
       "      <td>0</td>\n",
       "      <td>27</td>\n",
       "      <td>0</td>\n",
       "      <td>2</td>\n",
       "      <td>16</td>\n",
       "      <td>198</td>\n",
       "      <td>135</td>\n",
       "      <td>216</td>\n",
       "      <td>4</td>\n",
       "      <td>5</td>\n",
       "    </tr>\n",
       "  </tbody>\n",
       "</table>\n",
       "</div>"
      ],
      "text/plain": [
       "   Airline  Date_of_Journey  Source  Destination  Route  Dep_Time  \\\n",
       "0        4               39       2            1     76       138   \n",
       "1        3               10       3            0     65        31   \n",
       "2        4               22       2            1     76       156   \n",
       "3        6               22       2            1     76        48   \n",
       "4        0               27       0            2     16       198   \n",
       "\n",
       "   Arrival_Time  Duration  Total_Stops  Additional_Info  \n",
       "0           150        10            0                5  \n",
       "1           353       248            0                5  \n",
       "2           566       148            0                3  \n",
       "3           633        36            0                5  \n",
       "4           135       216            4                5  "
      ]
     },
     "execution_count": 68,
     "metadata": {},
     "output_type": "execute_result"
    }
   ],
   "source": [
    "df.head()\n"
   ]
  },
  {
   "cell_type": "markdown",
   "id": "aec3b356",
   "metadata": {},
   "source": [
    "Importing The Dataset\n"
   ]
  },
  {
   "cell_type": "code",
   "execution_count": 70,
   "id": "70237362",
   "metadata": {},
   "outputs": [
    {
     "data": {
      "text/html": [
       "<div>\n",
       "<style scoped>\n",
       "    .dataframe tbody tr th:only-of-type {\n",
       "        vertical-align: middle;\n",
       "    }\n",
       "\n",
       "    .dataframe tbody tr th {\n",
       "        vertical-align: top;\n",
       "    }\n",
       "\n",
       "    .dataframe thead th {\n",
       "        text-align: right;\n",
       "    }\n",
       "</style>\n",
       "<table border=\"1\" class=\"dataframe\">\n",
       "  <thead>\n",
       "    <tr style=\"text-align: right;\">\n",
       "      <th></th>\n",
       "      <th>Airline</th>\n",
       "      <th>Date_of_Journey</th>\n",
       "      <th>Source</th>\n",
       "      <th>Destination</th>\n",
       "      <th>Route</th>\n",
       "      <th>Dep_Time</th>\n",
       "      <th>Arrival_Time</th>\n",
       "      <th>Duration</th>\n",
       "      <th>Total_Stops</th>\n",
       "      <th>Additional_Info</th>\n",
       "    </tr>\n",
       "  </thead>\n",
       "  <tbody>\n",
       "    <tr>\n",
       "      <th>0</th>\n",
       "      <td>Jet Airways</td>\n",
       "      <td>6/06/2019</td>\n",
       "      <td>Delhi</td>\n",
       "      <td>Cochin</td>\n",
       "      <td>DEL → BOM → COK</td>\n",
       "      <td>17:30</td>\n",
       "      <td>04:25 07 Jun</td>\n",
       "      <td>10h 55m</td>\n",
       "      <td>1 stop</td>\n",
       "      <td>No info</td>\n",
       "    </tr>\n",
       "    <tr>\n",
       "      <th>1</th>\n",
       "      <td>IndiGo</td>\n",
       "      <td>12/05/2019</td>\n",
       "      <td>Kolkata</td>\n",
       "      <td>Banglore</td>\n",
       "      <td>CCU → MAA → BLR</td>\n",
       "      <td>06:20</td>\n",
       "      <td>10:20</td>\n",
       "      <td>4h</td>\n",
       "      <td>1 stop</td>\n",
       "      <td>No info</td>\n",
       "    </tr>\n",
       "    <tr>\n",
       "      <th>2</th>\n",
       "      <td>Jet Airways</td>\n",
       "      <td>21/05/2019</td>\n",
       "      <td>Delhi</td>\n",
       "      <td>Cochin</td>\n",
       "      <td>DEL → BOM → COK</td>\n",
       "      <td>19:15</td>\n",
       "      <td>19:00 22 May</td>\n",
       "      <td>23h 45m</td>\n",
       "      <td>1 stop</td>\n",
       "      <td>In-flight meal not included</td>\n",
       "    </tr>\n",
       "    <tr>\n",
       "      <th>3</th>\n",
       "      <td>Multiple carriers</td>\n",
       "      <td>21/05/2019</td>\n",
       "      <td>Delhi</td>\n",
       "      <td>Cochin</td>\n",
       "      <td>DEL → BOM → COK</td>\n",
       "      <td>08:00</td>\n",
       "      <td>21:00</td>\n",
       "      <td>13h</td>\n",
       "      <td>1 stop</td>\n",
       "      <td>No info</td>\n",
       "    </tr>\n",
       "    <tr>\n",
       "      <th>4</th>\n",
       "      <td>Air Asia</td>\n",
       "      <td>24/06/2019</td>\n",
       "      <td>Banglore</td>\n",
       "      <td>Delhi</td>\n",
       "      <td>BLR → DEL</td>\n",
       "      <td>23:55</td>\n",
       "      <td>02:45 25 Jun</td>\n",
       "      <td>2h 50m</td>\n",
       "      <td>non-stop</td>\n",
       "      <td>No info</td>\n",
       "    </tr>\n",
       "  </tbody>\n",
       "</table>\n",
       "</div>"
      ],
      "text/plain": [
       "             Airline Date_of_Journey    Source Destination            Route  \\\n",
       "0        Jet Airways       6/06/2019     Delhi      Cochin  DEL → BOM → COK   \n",
       "1             IndiGo      12/05/2019   Kolkata    Banglore  CCU → MAA → BLR   \n",
       "2        Jet Airways      21/05/2019     Delhi      Cochin  DEL → BOM → COK   \n",
       "3  Multiple carriers      21/05/2019     Delhi      Cochin  DEL → BOM → COK   \n",
       "4           Air Asia      24/06/2019  Banglore       Delhi        BLR → DEL   \n",
       "\n",
       "  Dep_Time  Arrival_Time Duration Total_Stops              Additional_Info  \n",
       "0    17:30  04:25 07 Jun  10h 55m      1 stop                      No info  \n",
       "1    06:20         10:20       4h      1 stop                      No info  \n",
       "2    19:15  19:00 22 May  23h 45m      1 stop  In-flight meal not included  \n",
       "3    08:00         21:00      13h      1 stop                      No info  \n",
       "4    23:55  02:45 25 Jun   2h 50m    non-stop                      No info  "
      ]
     },
     "execution_count": 70,
     "metadata": {},
     "output_type": "execute_result"
    }
   ],
   "source": [
    "df = pd.read_excel(\"C:/Users/Shiva Labade/Documents/Internship project/Flight Price Prediction Project Excel sheet.xlsx\")\n",
    "df.head()"
   ]
  },
  {
   "cell_type": "code",
   "execution_count": 71,
   "id": "33e6afa6",
   "metadata": {},
   "outputs": [
    {
     "data": {
      "text/plain": [
       "Airline            0\n",
       "Date_of_Journey    0\n",
       "Source             0\n",
       "Destination        0\n",
       "Route              0\n",
       "Dep_Time           0\n",
       "Arrival_Time       0\n",
       "Duration           0\n",
       "Total_Stops        0\n",
       "Additional_Info    0\n",
       "dtype: int64"
      ]
     },
     "execution_count": 71,
     "metadata": {},
     "output_type": "execute_result"
    }
   ],
   "source": [
    "df.isnull().sum()"
   ]
  },
  {
   "cell_type": "markdown",
   "id": "79f72fbb",
   "metadata": {},
   "source": [
    "Here Route and Total_Stops contains sum values and remaining values will be zero\n",
    "\n"
   ]
  },
  {
   "cell_type": "code",
   "execution_count": 76,
   "id": "86b0cc96",
   "metadata": {},
   "outputs": [
    {
     "data": {
      "text/html": [
       "<div>\n",
       "<style scoped>\n",
       "    .dataframe tbody tr th:only-of-type {\n",
       "        vertical-align: middle;\n",
       "    }\n",
       "\n",
       "    .dataframe tbody tr th {\n",
       "        vertical-align: top;\n",
       "    }\n",
       "\n",
       "    .dataframe thead th {\n",
       "        text-align: right;\n",
       "    }\n",
       "</style>\n",
       "<table border=\"1\" class=\"dataframe\">\n",
       "  <thead>\n",
       "    <tr style=\"text-align: right;\">\n",
       "      <th></th>\n",
       "      <th>Airline</th>\n",
       "      <th>Date_of_Journey</th>\n",
       "      <th>Source</th>\n",
       "      <th>Destination</th>\n",
       "      <th>Route</th>\n",
       "      <th>Dep_Time</th>\n",
       "      <th>Arrival_Time</th>\n",
       "      <th>Duration</th>\n",
       "      <th>Total_Stops</th>\n",
       "      <th>Additional_Info</th>\n",
       "    </tr>\n",
       "  </thead>\n",
       "  <tbody>\n",
       "    <tr>\n",
       "      <th>count</th>\n",
       "      <td>2671</td>\n",
       "      <td>2671</td>\n",
       "      <td>2671</td>\n",
       "      <td>2671</td>\n",
       "      <td>2671</td>\n",
       "      <td>2671</td>\n",
       "      <td>2671</td>\n",
       "      <td>2671</td>\n",
       "      <td>2671</td>\n",
       "      <td>2671</td>\n",
       "    </tr>\n",
       "    <tr>\n",
       "      <th>unique</th>\n",
       "      <td>11</td>\n",
       "      <td>44</td>\n",
       "      <td>5</td>\n",
       "      <td>6</td>\n",
       "      <td>100</td>\n",
       "      <td>199</td>\n",
       "      <td>704</td>\n",
       "      <td>320</td>\n",
       "      <td>5</td>\n",
       "      <td>6</td>\n",
       "    </tr>\n",
       "    <tr>\n",
       "      <th>top</th>\n",
       "      <td>Jet Airways</td>\n",
       "      <td>9/05/2019</td>\n",
       "      <td>Delhi</td>\n",
       "      <td>Cochin</td>\n",
       "      <td>DEL → BOM → COK</td>\n",
       "      <td>10:00</td>\n",
       "      <td>19:00</td>\n",
       "      <td>2h 50m</td>\n",
       "      <td>1 stop</td>\n",
       "      <td>No info</td>\n",
       "    </tr>\n",
       "    <tr>\n",
       "      <th>freq</th>\n",
       "      <td>897</td>\n",
       "      <td>144</td>\n",
       "      <td>1145</td>\n",
       "      <td>1145</td>\n",
       "      <td>624</td>\n",
       "      <td>62</td>\n",
       "      <td>113</td>\n",
       "      <td>122</td>\n",
       "      <td>1431</td>\n",
       "      <td>2148</td>\n",
       "    </tr>\n",
       "  </tbody>\n",
       "</table>\n",
       "</div>"
      ],
      "text/plain": [
       "            Airline Date_of_Journey Source Destination            Route  \\\n",
       "count          2671            2671   2671        2671             2671   \n",
       "unique           11              44      5           6              100   \n",
       "top     Jet Airways       9/05/2019  Delhi      Cochin  DEL → BOM → COK   \n",
       "freq            897             144   1145        1145              624   \n",
       "\n",
       "       Dep_Time Arrival_Time Duration Total_Stops Additional_Info  \n",
       "count      2671         2671     2671        2671            2671  \n",
       "unique      199          704      320           5               6  \n",
       "top       10:00        19:00   2h 50m      1 stop         No info  \n",
       "freq         62          113      122        1431            2148  "
      ]
     },
     "execution_count": 76,
     "metadata": {},
     "output_type": "execute_result"
    }
   ],
   "source": [
    "df.describe()\n"
   ]
  },
  {
   "cell_type": "markdown",
   "id": "2e5bc03f",
   "metadata": {},
   "source": [
    "Correlation of the columns with the target columns\n"
   ]
  },
  {
   "cell_type": "code",
   "execution_count": 79,
   "id": "3bb74bcb",
   "metadata": {},
   "outputs": [
    {
     "data": {
      "text/html": [
       "<div>\n",
       "<style scoped>\n",
       "    .dataframe tbody tr th:only-of-type {\n",
       "        vertical-align: middle;\n",
       "    }\n",
       "\n",
       "    .dataframe tbody tr th {\n",
       "        vertical-align: top;\n",
       "    }\n",
       "\n",
       "    .dataframe thead th {\n",
       "        text-align: right;\n",
       "    }\n",
       "</style>\n",
       "<table border=\"1\" class=\"dataframe\">\n",
       "  <thead>\n",
       "    <tr style=\"text-align: right;\">\n",
       "      <th></th>\n",
       "    </tr>\n",
       "  </thead>\n",
       "  <tbody>\n",
       "  </tbody>\n",
       "</table>\n",
       "</div>"
      ],
      "text/plain": [
       "Empty DataFrame\n",
       "Columns: []\n",
       "Index: []"
      ]
     },
     "execution_count": 79,
     "metadata": {},
     "output_type": "execute_result"
    }
   ],
   "source": [
    "df.corr()\n"
   ]
  },
  {
   "cell_type": "code",
   "execution_count": 81,
   "id": "653780d1",
   "metadata": {},
   "outputs": [
    {
     "data": {
      "text/plain": [
       "Series([], dtype: float64)"
      ]
     },
     "execution_count": 81,
     "metadata": {},
     "output_type": "execute_result"
    }
   ],
   "source": [
    "df.skew()\n"
   ]
  },
  {
   "cell_type": "markdown",
   "id": "9da21c7b",
   "metadata": {},
   "source": [
    "Dataset contains skew value\n",
    "\n"
   ]
  },
  {
   "cell_type": "markdown",
   "id": "d25fac8e",
   "metadata": {},
   "source": [
    "Outlier Check\n"
   ]
  },
  {
   "cell_type": "code",
   "execution_count": 82,
   "id": "949a02f4",
   "metadata": {},
   "outputs": [
    {
     "data": {
      "text/plain": [
       "Airline            object\n",
       "Date_of_Journey    object\n",
       "Source             object\n",
       "Destination        object\n",
       "Route              object\n",
       "Dep_Time           object\n",
       "Arrival_Time       object\n",
       "Duration           object\n",
       "Total_Stops        object\n",
       "Additional_Info    object\n",
       "dtype: object"
      ]
     },
     "execution_count": 82,
     "metadata": {},
     "output_type": "execute_result"
    }
   ],
   "source": [
    "df.dtypes\n"
   ]
  },
  {
   "cell_type": "code",
   "execution_count": 84,
   "id": "1dd017e8",
   "metadata": {},
   "outputs": [
    {
     "data": {
      "text/plain": [
       "(2671, 10)"
      ]
     },
     "execution_count": 84,
     "metadata": {},
     "output_type": "execute_result"
    }
   ],
   "source": [
    "df.shape\n"
   ]
  },
  {
   "cell_type": "markdown",
   "id": "eeb998d2",
   "metadata": {},
   "source": [
    "Dataset contains 2671 rows and 10 columns\n",
    "\n"
   ]
  },
  {
   "cell_type": "code",
   "execution_count": 86,
   "id": "80b094a7",
   "metadata": {},
   "outputs": [
    {
     "data": {
      "text/plain": [
       "<function seaborn.axisgrid.pairplot(data, *, hue=None, hue_order=None, palette=None, vars=None, x_vars=None, y_vars=None, kind='scatter', diag_kind='auto', markers=None, height=2.5, aspect=1, corner=False, dropna=False, plot_kws=None, diag_kws=None, grid_kws=None, size=None)>"
      ]
     },
     "execution_count": 86,
     "metadata": {},
     "output_type": "execute_result"
    }
   ],
   "source": [
    "sns.pairplot\n"
   ]
  },
  {
   "cell_type": "markdown",
   "id": "5bdfc34f",
   "metadata": {},
   "source": [
    "considering the outlier removal\n"
   ]
  },
  {
   "cell_type": "code",
   "execution_count": 87,
   "id": "783fe790",
   "metadata": {},
   "outputs": [
    {
     "data": {
      "text/html": [
       "<div>\n",
       "<style scoped>\n",
       "    .dataframe tbody tr th:only-of-type {\n",
       "        vertical-align: middle;\n",
       "    }\n",
       "\n",
       "    .dataframe tbody tr th {\n",
       "        vertical-align: top;\n",
       "    }\n",
       "\n",
       "    .dataframe thead th {\n",
       "        text-align: right;\n",
       "    }\n",
       "</style>\n",
       "<table border=\"1\" class=\"dataframe\">\n",
       "  <thead>\n",
       "    <tr style=\"text-align: right;\">\n",
       "      <th></th>\n",
       "      <th>Airline</th>\n",
       "      <th>Source</th>\n",
       "      <th>Destination</th>\n",
       "      <th>Route</th>\n",
       "      <th>Dep_Time</th>\n",
       "      <th>Arrival_Time</th>\n",
       "      <th>Duration</th>\n",
       "      <th>Total_Stops</th>\n",
       "      <th>Additional_Info</th>\n",
       "    </tr>\n",
       "  </thead>\n",
       "  <tbody>\n",
       "    <tr>\n",
       "      <th>0</th>\n",
       "      <td>Jet Airways</td>\n",
       "      <td>Delhi</td>\n",
       "      <td>Cochin</td>\n",
       "      <td>DEL → BOM → COK</td>\n",
       "      <td>17:30</td>\n",
       "      <td>04:25 07 Jun</td>\n",
       "      <td>10h 55m</td>\n",
       "      <td>1 stop</td>\n",
       "      <td>No info</td>\n",
       "    </tr>\n",
       "    <tr>\n",
       "      <th>1</th>\n",
       "      <td>IndiGo</td>\n",
       "      <td>Kolkata</td>\n",
       "      <td>Banglore</td>\n",
       "      <td>CCU → MAA → BLR</td>\n",
       "      <td>06:20</td>\n",
       "      <td>10:20</td>\n",
       "      <td>4h</td>\n",
       "      <td>1 stop</td>\n",
       "      <td>No info</td>\n",
       "    </tr>\n",
       "    <tr>\n",
       "      <th>2</th>\n",
       "      <td>Jet Airways</td>\n",
       "      <td>Delhi</td>\n",
       "      <td>Cochin</td>\n",
       "      <td>DEL → BOM → COK</td>\n",
       "      <td>19:15</td>\n",
       "      <td>19:00 22 May</td>\n",
       "      <td>23h 45m</td>\n",
       "      <td>1 stop</td>\n",
       "      <td>In-flight meal not included</td>\n",
       "    </tr>\n",
       "    <tr>\n",
       "      <th>3</th>\n",
       "      <td>Multiple carriers</td>\n",
       "      <td>Delhi</td>\n",
       "      <td>Cochin</td>\n",
       "      <td>DEL → BOM → COK</td>\n",
       "      <td>08:00</td>\n",
       "      <td>21:00</td>\n",
       "      <td>13h</td>\n",
       "      <td>1 stop</td>\n",
       "      <td>No info</td>\n",
       "    </tr>\n",
       "    <tr>\n",
       "      <th>4</th>\n",
       "      <td>Air Asia</td>\n",
       "      <td>Banglore</td>\n",
       "      <td>Delhi</td>\n",
       "      <td>BLR → DEL</td>\n",
       "      <td>23:55</td>\n",
       "      <td>02:45 25 Jun</td>\n",
       "      <td>2h 50m</td>\n",
       "      <td>non-stop</td>\n",
       "      <td>No info</td>\n",
       "    </tr>\n",
       "  </tbody>\n",
       "</table>\n",
       "</div>"
      ],
      "text/plain": [
       "             Airline    Source Destination            Route Dep_Time  \\\n",
       "0        Jet Airways     Delhi      Cochin  DEL → BOM → COK    17:30   \n",
       "1             IndiGo   Kolkata    Banglore  CCU → MAA → BLR    06:20   \n",
       "2        Jet Airways     Delhi      Cochin  DEL → BOM → COK    19:15   \n",
       "3  Multiple carriers     Delhi      Cochin  DEL → BOM → COK    08:00   \n",
       "4           Air Asia  Banglore       Delhi        BLR → DEL    23:55   \n",
       "\n",
       "   Arrival_Time Duration Total_Stops              Additional_Info  \n",
       "0  04:25 07 Jun  10h 55m      1 stop                      No info  \n",
       "1         10:20       4h      1 stop                      No info  \n",
       "2  19:00 22 May  23h 45m      1 stop  In-flight meal not included  \n",
       "3         21:00      13h      1 stop                      No info  \n",
       "4  02:45 25 Jun   2h 50m    non-stop                      No info  "
      ]
     },
     "execution_count": 87,
     "metadata": {},
     "output_type": "execute_result"
    }
   ],
   "source": [
    "df.drop('Date_of_Journey',axis=1,inplace=True)\n",
    "df.head()"
   ]
  },
  {
   "cell_type": "code",
   "execution_count": 88,
   "id": "86c5d02d",
   "metadata": {},
   "outputs": [
    {
     "data": {
      "text/plain": [
       "(2671, 9)"
      ]
     },
     "execution_count": 88,
     "metadata": {},
     "output_type": "execute_result"
    }
   ],
   "source": [
    "df.shape\n"
   ]
  },
  {
   "cell_type": "code",
   "execution_count": 89,
   "id": "e77313b1",
   "metadata": {},
   "outputs": [
    {
     "data": {
      "text/plain": [
       "Index(['Airline', 'Source', 'Destination', 'Route', 'Dep_Time', 'Arrival_Time',\n",
       "       'Duration', 'Total_Stops', 'Additional_Info'],\n",
       "      dtype='object')"
      ]
     },
     "execution_count": 89,
     "metadata": {},
     "output_type": "execute_result"
    }
   ],
   "source": [
    "df.columns\n"
   ]
  },
  {
   "cell_type": "markdown",
   "id": "18c109f2",
   "metadata": {},
   "source": [
    "Encoding Method\n"
   ]
  },
  {
   "cell_type": "code",
   "execution_count": 90,
   "id": "e88b3dbc",
   "metadata": {},
   "outputs": [],
   "source": [
    "from sklearn.preprocessing import LabelEncoder\n",
    "LE=LabelEncoder()\n",
    "df['Airline']=LE.fit_transform(df['Airline'])"
   ]
  },
  {
   "cell_type": "code",
   "execution_count": 91,
   "id": "e401c528",
   "metadata": {},
   "outputs": [
    {
     "data": {
      "text/plain": [
       "array([ 4,  3,  6,  0,  1,  9,  8, 10,  2,  7,  5])"
      ]
     },
     "execution_count": 91,
     "metadata": {},
     "output_type": "execute_result"
    }
   ],
   "source": [
    "df.Airline.unique()"
   ]
  },
  {
   "cell_type": "code",
   "execution_count": 92,
   "id": "32f07790",
   "metadata": {},
   "outputs": [
    {
     "data": {
      "text/html": [
       "<div>\n",
       "<style scoped>\n",
       "    .dataframe tbody tr th:only-of-type {\n",
       "        vertical-align: middle;\n",
       "    }\n",
       "\n",
       "    .dataframe tbody tr th {\n",
       "        vertical-align: top;\n",
       "    }\n",
       "\n",
       "    .dataframe thead th {\n",
       "        text-align: right;\n",
       "    }\n",
       "</style>\n",
       "<table border=\"1\" class=\"dataframe\">\n",
       "  <thead>\n",
       "    <tr style=\"text-align: right;\">\n",
       "      <th></th>\n",
       "      <th>Airline</th>\n",
       "      <th>Source</th>\n",
       "      <th>Destination</th>\n",
       "      <th>Route</th>\n",
       "      <th>Dep_Time</th>\n",
       "      <th>Arrival_Time</th>\n",
       "      <th>Duration</th>\n",
       "      <th>Total_Stops</th>\n",
       "      <th>Additional_Info</th>\n",
       "    </tr>\n",
       "  </thead>\n",
       "  <tbody>\n",
       "    <tr>\n",
       "      <th>0</th>\n",
       "      <td>4</td>\n",
       "      <td>Delhi</td>\n",
       "      <td>Cochin</td>\n",
       "      <td>DEL → BOM → COK</td>\n",
       "      <td>17:30</td>\n",
       "      <td>04:25 07 Jun</td>\n",
       "      <td>10h 55m</td>\n",
       "      <td>1 stop</td>\n",
       "      <td>No info</td>\n",
       "    </tr>\n",
       "    <tr>\n",
       "      <th>1</th>\n",
       "      <td>3</td>\n",
       "      <td>Kolkata</td>\n",
       "      <td>Banglore</td>\n",
       "      <td>CCU → MAA → BLR</td>\n",
       "      <td>06:20</td>\n",
       "      <td>10:20</td>\n",
       "      <td>4h</td>\n",
       "      <td>1 stop</td>\n",
       "      <td>No info</td>\n",
       "    </tr>\n",
       "    <tr>\n",
       "      <th>2</th>\n",
       "      <td>4</td>\n",
       "      <td>Delhi</td>\n",
       "      <td>Cochin</td>\n",
       "      <td>DEL → BOM → COK</td>\n",
       "      <td>19:15</td>\n",
       "      <td>19:00 22 May</td>\n",
       "      <td>23h 45m</td>\n",
       "      <td>1 stop</td>\n",
       "      <td>In-flight meal not included</td>\n",
       "    </tr>\n",
       "    <tr>\n",
       "      <th>3</th>\n",
       "      <td>6</td>\n",
       "      <td>Delhi</td>\n",
       "      <td>Cochin</td>\n",
       "      <td>DEL → BOM → COK</td>\n",
       "      <td>08:00</td>\n",
       "      <td>21:00</td>\n",
       "      <td>13h</td>\n",
       "      <td>1 stop</td>\n",
       "      <td>No info</td>\n",
       "    </tr>\n",
       "    <tr>\n",
       "      <th>4</th>\n",
       "      <td>0</td>\n",
       "      <td>Banglore</td>\n",
       "      <td>Delhi</td>\n",
       "      <td>BLR → DEL</td>\n",
       "      <td>23:55</td>\n",
       "      <td>02:45 25 Jun</td>\n",
       "      <td>2h 50m</td>\n",
       "      <td>non-stop</td>\n",
       "      <td>No info</td>\n",
       "    </tr>\n",
       "  </tbody>\n",
       "</table>\n",
       "</div>"
      ],
      "text/plain": [
       "   Airline    Source Destination            Route Dep_Time  Arrival_Time  \\\n",
       "0        4     Delhi      Cochin  DEL → BOM → COK    17:30  04:25 07 Jun   \n",
       "1        3   Kolkata    Banglore  CCU → MAA → BLR    06:20         10:20   \n",
       "2        4     Delhi      Cochin  DEL → BOM → COK    19:15  19:00 22 May   \n",
       "3        6     Delhi      Cochin  DEL → BOM → COK    08:00         21:00   \n",
       "4        0  Banglore       Delhi        BLR → DEL    23:55  02:45 25 Jun   \n",
       "\n",
       "  Duration Total_Stops              Additional_Info  \n",
       "0  10h 55m      1 stop                      No info  \n",
       "1       4h      1 stop                      No info  \n",
       "2  23h 45m      1 stop  In-flight meal not included  \n",
       "3      13h      1 stop                      No info  \n",
       "4   2h 50m    non-stop                      No info  "
      ]
     },
     "execution_count": 92,
     "metadata": {},
     "output_type": "execute_result"
    }
   ],
   "source": [
    "df.head()"
   ]
  },
  {
   "cell_type": "code",
   "execution_count": 93,
   "id": "e3b28495",
   "metadata": {},
   "outputs": [],
   "source": [
    "from sklearn.preprocessing import LabelEncoder\n",
    "LE=LabelEncoder()\n",
    "df['Source']=LE.fit_transform(df['Source'])"
   ]
  },
  {
   "cell_type": "code",
   "execution_count": 94,
   "id": "b143fde3",
   "metadata": {},
   "outputs": [
    {
     "data": {
      "text/plain": [
       "array([2, 3, 0, 4, 1])"
      ]
     },
     "execution_count": 94,
     "metadata": {},
     "output_type": "execute_result"
    }
   ],
   "source": [
    "df.Source.unique()"
   ]
  },
  {
   "cell_type": "code",
   "execution_count": 95,
   "id": "74fced66",
   "metadata": {},
   "outputs": [
    {
     "data": {
      "text/html": [
       "<div>\n",
       "<style scoped>\n",
       "    .dataframe tbody tr th:only-of-type {\n",
       "        vertical-align: middle;\n",
       "    }\n",
       "\n",
       "    .dataframe tbody tr th {\n",
       "        vertical-align: top;\n",
       "    }\n",
       "\n",
       "    .dataframe thead th {\n",
       "        text-align: right;\n",
       "    }\n",
       "</style>\n",
       "<table border=\"1\" class=\"dataframe\">\n",
       "  <thead>\n",
       "    <tr style=\"text-align: right;\">\n",
       "      <th></th>\n",
       "      <th>Airline</th>\n",
       "      <th>Source</th>\n",
       "      <th>Destination</th>\n",
       "      <th>Route</th>\n",
       "      <th>Dep_Time</th>\n",
       "      <th>Arrival_Time</th>\n",
       "      <th>Duration</th>\n",
       "      <th>Total_Stops</th>\n",
       "      <th>Additional_Info</th>\n",
       "    </tr>\n",
       "  </thead>\n",
       "  <tbody>\n",
       "    <tr>\n",
       "      <th>0</th>\n",
       "      <td>4</td>\n",
       "      <td>2</td>\n",
       "      <td>Cochin</td>\n",
       "      <td>DEL → BOM → COK</td>\n",
       "      <td>17:30</td>\n",
       "      <td>04:25 07 Jun</td>\n",
       "      <td>10h 55m</td>\n",
       "      <td>1 stop</td>\n",
       "      <td>No info</td>\n",
       "    </tr>\n",
       "    <tr>\n",
       "      <th>1</th>\n",
       "      <td>3</td>\n",
       "      <td>3</td>\n",
       "      <td>Banglore</td>\n",
       "      <td>CCU → MAA → BLR</td>\n",
       "      <td>06:20</td>\n",
       "      <td>10:20</td>\n",
       "      <td>4h</td>\n",
       "      <td>1 stop</td>\n",
       "      <td>No info</td>\n",
       "    </tr>\n",
       "    <tr>\n",
       "      <th>2</th>\n",
       "      <td>4</td>\n",
       "      <td>2</td>\n",
       "      <td>Cochin</td>\n",
       "      <td>DEL → BOM → COK</td>\n",
       "      <td>19:15</td>\n",
       "      <td>19:00 22 May</td>\n",
       "      <td>23h 45m</td>\n",
       "      <td>1 stop</td>\n",
       "      <td>In-flight meal not included</td>\n",
       "    </tr>\n",
       "    <tr>\n",
       "      <th>3</th>\n",
       "      <td>6</td>\n",
       "      <td>2</td>\n",
       "      <td>Cochin</td>\n",
       "      <td>DEL → BOM → COK</td>\n",
       "      <td>08:00</td>\n",
       "      <td>21:00</td>\n",
       "      <td>13h</td>\n",
       "      <td>1 stop</td>\n",
       "      <td>No info</td>\n",
       "    </tr>\n",
       "    <tr>\n",
       "      <th>4</th>\n",
       "      <td>0</td>\n",
       "      <td>0</td>\n",
       "      <td>Delhi</td>\n",
       "      <td>BLR → DEL</td>\n",
       "      <td>23:55</td>\n",
       "      <td>02:45 25 Jun</td>\n",
       "      <td>2h 50m</td>\n",
       "      <td>non-stop</td>\n",
       "      <td>No info</td>\n",
       "    </tr>\n",
       "  </tbody>\n",
       "</table>\n",
       "</div>"
      ],
      "text/plain": [
       "   Airline  Source Destination            Route Dep_Time  Arrival_Time  \\\n",
       "0        4       2      Cochin  DEL → BOM → COK    17:30  04:25 07 Jun   \n",
       "1        3       3    Banglore  CCU → MAA → BLR    06:20         10:20   \n",
       "2        4       2      Cochin  DEL → BOM → COK    19:15  19:00 22 May   \n",
       "3        6       2      Cochin  DEL → BOM → COK    08:00         21:00   \n",
       "4        0       0       Delhi        BLR → DEL    23:55  02:45 25 Jun   \n",
       "\n",
       "  Duration Total_Stops              Additional_Info  \n",
       "0  10h 55m      1 stop                      No info  \n",
       "1       4h      1 stop                      No info  \n",
       "2  23h 45m      1 stop  In-flight meal not included  \n",
       "3      13h      1 stop                      No info  \n",
       "4   2h 50m    non-stop                      No info  "
      ]
     },
     "execution_count": 95,
     "metadata": {},
     "output_type": "execute_result"
    }
   ],
   "source": [
    "df.head()"
   ]
  },
  {
   "cell_type": "code",
   "execution_count": 96,
   "id": "346032ce",
   "metadata": {},
   "outputs": [],
   "source": [
    "from sklearn.preprocessing import LabelEncoder\n",
    "LE=LabelEncoder()\n",
    "df['Destination']=LE.fit_transform(df['Destination'])"
   ]
  },
  {
   "cell_type": "code",
   "execution_count": 97,
   "id": "77fcf6ea",
   "metadata": {},
   "outputs": [
    {
     "data": {
      "text/plain": [
       "array([1, 0, 2, 5, 3, 4])"
      ]
     },
     "execution_count": 97,
     "metadata": {},
     "output_type": "execute_result"
    }
   ],
   "source": [
    "df.Destination.unique()"
   ]
  },
  {
   "cell_type": "code",
   "execution_count": 98,
   "id": "5da75e44",
   "metadata": {},
   "outputs": [
    {
     "data": {
      "text/html": [
       "<div>\n",
       "<style scoped>\n",
       "    .dataframe tbody tr th:only-of-type {\n",
       "        vertical-align: middle;\n",
       "    }\n",
       "\n",
       "    .dataframe tbody tr th {\n",
       "        vertical-align: top;\n",
       "    }\n",
       "\n",
       "    .dataframe thead th {\n",
       "        text-align: right;\n",
       "    }\n",
       "</style>\n",
       "<table border=\"1\" class=\"dataframe\">\n",
       "  <thead>\n",
       "    <tr style=\"text-align: right;\">\n",
       "      <th></th>\n",
       "      <th>Airline</th>\n",
       "      <th>Source</th>\n",
       "      <th>Destination</th>\n",
       "      <th>Route</th>\n",
       "      <th>Dep_Time</th>\n",
       "      <th>Arrival_Time</th>\n",
       "      <th>Duration</th>\n",
       "      <th>Total_Stops</th>\n",
       "      <th>Additional_Info</th>\n",
       "    </tr>\n",
       "  </thead>\n",
       "  <tbody>\n",
       "    <tr>\n",
       "      <th>0</th>\n",
       "      <td>4</td>\n",
       "      <td>2</td>\n",
       "      <td>1</td>\n",
       "      <td>DEL → BOM → COK</td>\n",
       "      <td>17:30</td>\n",
       "      <td>04:25 07 Jun</td>\n",
       "      <td>10h 55m</td>\n",
       "      <td>1 stop</td>\n",
       "      <td>No info</td>\n",
       "    </tr>\n",
       "    <tr>\n",
       "      <th>1</th>\n",
       "      <td>3</td>\n",
       "      <td>3</td>\n",
       "      <td>0</td>\n",
       "      <td>CCU → MAA → BLR</td>\n",
       "      <td>06:20</td>\n",
       "      <td>10:20</td>\n",
       "      <td>4h</td>\n",
       "      <td>1 stop</td>\n",
       "      <td>No info</td>\n",
       "    </tr>\n",
       "    <tr>\n",
       "      <th>2</th>\n",
       "      <td>4</td>\n",
       "      <td>2</td>\n",
       "      <td>1</td>\n",
       "      <td>DEL → BOM → COK</td>\n",
       "      <td>19:15</td>\n",
       "      <td>19:00 22 May</td>\n",
       "      <td>23h 45m</td>\n",
       "      <td>1 stop</td>\n",
       "      <td>In-flight meal not included</td>\n",
       "    </tr>\n",
       "    <tr>\n",
       "      <th>3</th>\n",
       "      <td>6</td>\n",
       "      <td>2</td>\n",
       "      <td>1</td>\n",
       "      <td>DEL → BOM → COK</td>\n",
       "      <td>08:00</td>\n",
       "      <td>21:00</td>\n",
       "      <td>13h</td>\n",
       "      <td>1 stop</td>\n",
       "      <td>No info</td>\n",
       "    </tr>\n",
       "    <tr>\n",
       "      <th>4</th>\n",
       "      <td>0</td>\n",
       "      <td>0</td>\n",
       "      <td>2</td>\n",
       "      <td>BLR → DEL</td>\n",
       "      <td>23:55</td>\n",
       "      <td>02:45 25 Jun</td>\n",
       "      <td>2h 50m</td>\n",
       "      <td>non-stop</td>\n",
       "      <td>No info</td>\n",
       "    </tr>\n",
       "  </tbody>\n",
       "</table>\n",
       "</div>"
      ],
      "text/plain": [
       "   Airline  Source  Destination            Route Dep_Time  Arrival_Time  \\\n",
       "0        4       2            1  DEL → BOM → COK    17:30  04:25 07 Jun   \n",
       "1        3       3            0  CCU → MAA → BLR    06:20         10:20   \n",
       "2        4       2            1  DEL → BOM → COK    19:15  19:00 22 May   \n",
       "3        6       2            1  DEL → BOM → COK    08:00         21:00   \n",
       "4        0       0            2        BLR → DEL    23:55  02:45 25 Jun   \n",
       "\n",
       "  Duration Total_Stops              Additional_Info  \n",
       "0  10h 55m      1 stop                      No info  \n",
       "1       4h      1 stop                      No info  \n",
       "2  23h 45m      1 stop  In-flight meal not included  \n",
       "3      13h      1 stop                      No info  \n",
       "4   2h 50m    non-stop                      No info  "
      ]
     },
     "execution_count": 98,
     "metadata": {},
     "output_type": "execute_result"
    }
   ],
   "source": [
    "df.head()\n"
   ]
  },
  {
   "cell_type": "code",
   "execution_count": 99,
   "id": "640f3208",
   "metadata": {},
   "outputs": [
    {
     "data": {
      "text/html": [
       "<div>\n",
       "<style scoped>\n",
       "    .dataframe tbody tr th:only-of-type {\n",
       "        vertical-align: middle;\n",
       "    }\n",
       "\n",
       "    .dataframe tbody tr th {\n",
       "        vertical-align: top;\n",
       "    }\n",
       "\n",
       "    .dataframe thead th {\n",
       "        text-align: right;\n",
       "    }\n",
       "</style>\n",
       "<table border=\"1\" class=\"dataframe\">\n",
       "  <thead>\n",
       "    <tr style=\"text-align: right;\">\n",
       "      <th></th>\n",
       "      <th>Airline</th>\n",
       "      <th>Source</th>\n",
       "      <th>Destination</th>\n",
       "      <th>Route</th>\n",
       "      <th>Dep_Time</th>\n",
       "      <th>Arrival_Time</th>\n",
       "      <th>Duration</th>\n",
       "      <th>Total_Stops</th>\n",
       "      <th>Additional_Info</th>\n",
       "    </tr>\n",
       "  </thead>\n",
       "  <tbody>\n",
       "    <tr>\n",
       "      <th>0</th>\n",
       "      <td>4</td>\n",
       "      <td>2</td>\n",
       "      <td>1</td>\n",
       "      <td>DEL → BOM → COK</td>\n",
       "      <td>17:30</td>\n",
       "      <td>150</td>\n",
       "      <td>10h 55m</td>\n",
       "      <td>1 stop</td>\n",
       "      <td>No info</td>\n",
       "    </tr>\n",
       "    <tr>\n",
       "      <th>1</th>\n",
       "      <td>3</td>\n",
       "      <td>3</td>\n",
       "      <td>0</td>\n",
       "      <td>CCU → MAA → BLR</td>\n",
       "      <td>06:20</td>\n",
       "      <td>353</td>\n",
       "      <td>4h</td>\n",
       "      <td>1 stop</td>\n",
       "      <td>No info</td>\n",
       "    </tr>\n",
       "    <tr>\n",
       "      <th>2</th>\n",
       "      <td>4</td>\n",
       "      <td>2</td>\n",
       "      <td>1</td>\n",
       "      <td>DEL → BOM → COK</td>\n",
       "      <td>19:15</td>\n",
       "      <td>566</td>\n",
       "      <td>23h 45m</td>\n",
       "      <td>1 stop</td>\n",
       "      <td>In-flight meal not included</td>\n",
       "    </tr>\n",
       "    <tr>\n",
       "      <th>3</th>\n",
       "      <td>6</td>\n",
       "      <td>2</td>\n",
       "      <td>1</td>\n",
       "      <td>DEL → BOM → COK</td>\n",
       "      <td>08:00</td>\n",
       "      <td>633</td>\n",
       "      <td>13h</td>\n",
       "      <td>1 stop</td>\n",
       "      <td>No info</td>\n",
       "    </tr>\n",
       "    <tr>\n",
       "      <th>4</th>\n",
       "      <td>0</td>\n",
       "      <td>0</td>\n",
       "      <td>2</td>\n",
       "      <td>BLR → DEL</td>\n",
       "      <td>23:55</td>\n",
       "      <td>135</td>\n",
       "      <td>2h 50m</td>\n",
       "      <td>non-stop</td>\n",
       "      <td>No info</td>\n",
       "    </tr>\n",
       "  </tbody>\n",
       "</table>\n",
       "</div>"
      ],
      "text/plain": [
       "   Airline  Source  Destination            Route Dep_Time  Arrival_Time  \\\n",
       "0        4       2            1  DEL → BOM → COK    17:30           150   \n",
       "1        3       3            0  CCU → MAA → BLR    06:20           353   \n",
       "2        4       2            1  DEL → BOM → COK    19:15           566   \n",
       "3        6       2            1  DEL → BOM → COK    08:00           633   \n",
       "4        0       0            2        BLR → DEL    23:55           135   \n",
       "\n",
       "  Duration Total_Stops              Additional_Info  \n",
       "0  10h 55m      1 stop                      No info  \n",
       "1       4h      1 stop                      No info  \n",
       "2  23h 45m      1 stop  In-flight meal not included  \n",
       "3      13h      1 stop                      No info  \n",
       "4   2h 50m    non-stop                      No info  "
      ]
     },
     "execution_count": 99,
     "metadata": {},
     "output_type": "execute_result"
    }
   ],
   "source": [
    "from sklearn.preprocessing import LabelEncoder\n",
    "LE=LabelEncoder()\n",
    "df['Arrival_Time']=LE.fit_transform(df['Arrival_Time'])\n",
    "df.head()"
   ]
  },
  {
   "cell_type": "code",
   "execution_count": 100,
   "id": "81e391c6",
   "metadata": {},
   "outputs": [
    {
     "data": {
      "text/plain": [
       "array([5, 3, 4, 0, 1, 2])"
      ]
     },
     "execution_count": 100,
     "metadata": {},
     "output_type": "execute_result"
    }
   ],
   "source": [
    "from sklearn.preprocessing import LabelEncoder\n",
    "LE=LabelEncoder()\n",
    "df['Additional_Info']=LE.fit_transform(df['Additional_Info'])\n",
    "df.Additional_Info.unique()"
   ]
  },
  {
   "cell_type": "code",
   "execution_count": 101,
   "id": "456d6672",
   "metadata": {},
   "outputs": [
    {
     "data": {
      "text/html": [
       "<div>\n",
       "<style scoped>\n",
       "    .dataframe tbody tr th:only-of-type {\n",
       "        vertical-align: middle;\n",
       "    }\n",
       "\n",
       "    .dataframe tbody tr th {\n",
       "        vertical-align: top;\n",
       "    }\n",
       "\n",
       "    .dataframe thead th {\n",
       "        text-align: right;\n",
       "    }\n",
       "</style>\n",
       "<table border=\"1\" class=\"dataframe\">\n",
       "  <thead>\n",
       "    <tr style=\"text-align: right;\">\n",
       "      <th></th>\n",
       "      <th>Airline</th>\n",
       "      <th>Source</th>\n",
       "      <th>Destination</th>\n",
       "      <th>Route</th>\n",
       "      <th>Dep_Time</th>\n",
       "      <th>Arrival_Time</th>\n",
       "      <th>Duration</th>\n",
       "      <th>Total_Stops</th>\n",
       "      <th>Additional_Info</th>\n",
       "    </tr>\n",
       "  </thead>\n",
       "  <tbody>\n",
       "    <tr>\n",
       "      <th>0</th>\n",
       "      <td>4</td>\n",
       "      <td>2</td>\n",
       "      <td>1</td>\n",
       "      <td>DEL → BOM → COK</td>\n",
       "      <td>17:30</td>\n",
       "      <td>150</td>\n",
       "      <td>10h 55m</td>\n",
       "      <td>1 stop</td>\n",
       "      <td>5</td>\n",
       "    </tr>\n",
       "    <tr>\n",
       "      <th>1</th>\n",
       "      <td>3</td>\n",
       "      <td>3</td>\n",
       "      <td>0</td>\n",
       "      <td>CCU → MAA → BLR</td>\n",
       "      <td>06:20</td>\n",
       "      <td>353</td>\n",
       "      <td>4h</td>\n",
       "      <td>1 stop</td>\n",
       "      <td>5</td>\n",
       "    </tr>\n",
       "    <tr>\n",
       "      <th>2</th>\n",
       "      <td>4</td>\n",
       "      <td>2</td>\n",
       "      <td>1</td>\n",
       "      <td>DEL → BOM → COK</td>\n",
       "      <td>19:15</td>\n",
       "      <td>566</td>\n",
       "      <td>23h 45m</td>\n",
       "      <td>1 stop</td>\n",
       "      <td>3</td>\n",
       "    </tr>\n",
       "    <tr>\n",
       "      <th>3</th>\n",
       "      <td>6</td>\n",
       "      <td>2</td>\n",
       "      <td>1</td>\n",
       "      <td>DEL → BOM → COK</td>\n",
       "      <td>08:00</td>\n",
       "      <td>633</td>\n",
       "      <td>13h</td>\n",
       "      <td>1 stop</td>\n",
       "      <td>5</td>\n",
       "    </tr>\n",
       "    <tr>\n",
       "      <th>4</th>\n",
       "      <td>0</td>\n",
       "      <td>0</td>\n",
       "      <td>2</td>\n",
       "      <td>BLR → DEL</td>\n",
       "      <td>23:55</td>\n",
       "      <td>135</td>\n",
       "      <td>2h 50m</td>\n",
       "      <td>non-stop</td>\n",
       "      <td>5</td>\n",
       "    </tr>\n",
       "  </tbody>\n",
       "</table>\n",
       "</div>"
      ],
      "text/plain": [
       "   Airline  Source  Destination            Route Dep_Time  Arrival_Time  \\\n",
       "0        4       2            1  DEL → BOM → COK    17:30           150   \n",
       "1        3       3            0  CCU → MAA → BLR    06:20           353   \n",
       "2        4       2            1  DEL → BOM → COK    19:15           566   \n",
       "3        6       2            1  DEL → BOM → COK    08:00           633   \n",
       "4        0       0            2        BLR → DEL    23:55           135   \n",
       "\n",
       "  Duration Total_Stops  Additional_Info  \n",
       "0  10h 55m      1 stop                5  \n",
       "1       4h      1 stop                5  \n",
       "2  23h 45m      1 stop                3  \n",
       "3      13h      1 stop                5  \n",
       "4   2h 50m    non-stop                5  "
      ]
     },
     "execution_count": 101,
     "metadata": {},
     "output_type": "execute_result"
    }
   ],
   "source": [
    "df.head()"
   ]
  },
  {
   "cell_type": "code",
   "execution_count": 102,
   "id": "1d7bc026",
   "metadata": {},
   "outputs": [
    {
     "data": {
      "text/plain": [
       "array([ 10, 248, 148,  36, 216,  93,  69, 261, 215, 283, 202, 311,   2,\n",
       "       254,  83,   9, 310,  26, 309,  55,  57,  18,  41,  28, 212, 168,\n",
       "       102, 284,  19, 295, 241, 110, 214,  90,   7,  29, 111, 147, 210,\n",
       "       146, 191, 199, 267, 179, 266, 209, 217, 289, 262, 172,  38, 178,\n",
       "       263, 304, 287, 122,  70, 293,  81, 269,  44,  22,  39,  92, 197,\n",
       "       259, 143, 108, 109,  40, 274,   1, 253,  12,  27,  59,  99,  43,\n",
       "       317, 213, 286, 141,   4, 270, 137, 303,  17,  65, 294,  33, 167,\n",
       "         3, 301,  32,  25, 135, 292, 129, 277, 211, 171, 230,  16,  60,\n",
       "        51, 296, 123, 183,  79, 319,  78,  14, 139,  88, 142, 166, 149,\n",
       "        50, 161,   5, 104, 275, 188, 312, 260, 291, 278, 201,  52, 106,\n",
       "       236, 255, 276, 127, 246, 257,  71, 280,  20, 272, 134, 100, 152,\n",
       "        53, 118,  72, 298, 300, 151, 103, 165, 125, 256,  94, 258,  77,\n",
       "       196, 162, 282, 299, 175, 308, 121, 144, 190, 126,  63,  47, 200,\n",
       "        54,  13, 113, 154,  24, 114, 192, 119,  23,  30, 164,   0,  98,\n",
       "        97, 307, 251,  56, 140, 316, 173, 174, 249, 314, 184,  21, 290,\n",
       "       265, 264, 233,  82,  66, 243,  74, 170,  31,  34,   6, 225, 120,\n",
       "       237, 160, 112, 157, 232, 145, 273, 313, 306, 181,  64, 268, 116,\n",
       "       150, 132, 115,  45, 244, 229, 169,  89, 153, 205, 195,  62, 242,\n",
       "        42, 305, 279, 219,  68, 130, 182, 235, 204,  46, 206,  11, 252,\n",
       "       124,  37,  86, 231, 281, 176,  76, 234, 245,  49, 133,  84, 224,\n",
       "       163, 117,  95, 177, 222, 218, 187, 159,  61, 285, 198,  48,  96,\n",
       "       193, 297, 240,  73,  35, 101, 207, 186, 223, 208, 228, 226,  58,\n",
       "        67, 136, 105, 221,  91, 203, 156, 315, 158, 128,   8,  87,  75,\n",
       "       194,  80, 302, 180, 220, 189, 185, 131, 107,  15, 247, 138, 227,\n",
       "        85, 288, 250, 155, 239, 318, 238, 271])"
      ]
     },
     "execution_count": 102,
     "metadata": {},
     "output_type": "execute_result"
    }
   ],
   "source": [
    "from sklearn.preprocessing import LabelEncoder\n",
    "LE=LabelEncoder()\n",
    "df['Duration']=LE.fit_transform(df['Duration'])\n",
    "df.Duration.unique()"
   ]
  },
  {
   "cell_type": "code",
   "execution_count": 103,
   "id": "33aa54c3",
   "metadata": {},
   "outputs": [
    {
     "data": {
      "text/html": [
       "<div>\n",
       "<style scoped>\n",
       "    .dataframe tbody tr th:only-of-type {\n",
       "        vertical-align: middle;\n",
       "    }\n",
       "\n",
       "    .dataframe tbody tr th {\n",
       "        vertical-align: top;\n",
       "    }\n",
       "\n",
       "    .dataframe thead th {\n",
       "        text-align: right;\n",
       "    }\n",
       "</style>\n",
       "<table border=\"1\" class=\"dataframe\">\n",
       "  <thead>\n",
       "    <tr style=\"text-align: right;\">\n",
       "      <th></th>\n",
       "      <th>Airline</th>\n",
       "      <th>Source</th>\n",
       "      <th>Destination</th>\n",
       "      <th>Route</th>\n",
       "      <th>Dep_Time</th>\n",
       "      <th>Arrival_Time</th>\n",
       "      <th>Duration</th>\n",
       "      <th>Total_Stops</th>\n",
       "      <th>Additional_Info</th>\n",
       "    </tr>\n",
       "  </thead>\n",
       "  <tbody>\n",
       "    <tr>\n",
       "      <th>0</th>\n",
       "      <td>4</td>\n",
       "      <td>2</td>\n",
       "      <td>1</td>\n",
       "      <td>DEL → BOM → COK</td>\n",
       "      <td>17:30</td>\n",
       "      <td>150</td>\n",
       "      <td>10</td>\n",
       "      <td>1 stop</td>\n",
       "      <td>5</td>\n",
       "    </tr>\n",
       "    <tr>\n",
       "      <th>1</th>\n",
       "      <td>3</td>\n",
       "      <td>3</td>\n",
       "      <td>0</td>\n",
       "      <td>CCU → MAA → BLR</td>\n",
       "      <td>06:20</td>\n",
       "      <td>353</td>\n",
       "      <td>248</td>\n",
       "      <td>1 stop</td>\n",
       "      <td>5</td>\n",
       "    </tr>\n",
       "    <tr>\n",
       "      <th>2</th>\n",
       "      <td>4</td>\n",
       "      <td>2</td>\n",
       "      <td>1</td>\n",
       "      <td>DEL → BOM → COK</td>\n",
       "      <td>19:15</td>\n",
       "      <td>566</td>\n",
       "      <td>148</td>\n",
       "      <td>1 stop</td>\n",
       "      <td>3</td>\n",
       "    </tr>\n",
       "    <tr>\n",
       "      <th>3</th>\n",
       "      <td>6</td>\n",
       "      <td>2</td>\n",
       "      <td>1</td>\n",
       "      <td>DEL → BOM → COK</td>\n",
       "      <td>08:00</td>\n",
       "      <td>633</td>\n",
       "      <td>36</td>\n",
       "      <td>1 stop</td>\n",
       "      <td>5</td>\n",
       "    </tr>\n",
       "    <tr>\n",
       "      <th>4</th>\n",
       "      <td>0</td>\n",
       "      <td>0</td>\n",
       "      <td>2</td>\n",
       "      <td>BLR → DEL</td>\n",
       "      <td>23:55</td>\n",
       "      <td>135</td>\n",
       "      <td>216</td>\n",
       "      <td>non-stop</td>\n",
       "      <td>5</td>\n",
       "    </tr>\n",
       "  </tbody>\n",
       "</table>\n",
       "</div>"
      ],
      "text/plain": [
       "   Airline  Source  Destination            Route Dep_Time  Arrival_Time  \\\n",
       "0        4       2            1  DEL → BOM → COK    17:30           150   \n",
       "1        3       3            0  CCU → MAA → BLR    06:20           353   \n",
       "2        4       2            1  DEL → BOM → COK    19:15           566   \n",
       "3        6       2            1  DEL → BOM → COK    08:00           633   \n",
       "4        0       0            2        BLR → DEL    23:55           135   \n",
       "\n",
       "   Duration Total_Stops  Additional_Info  \n",
       "0        10      1 stop                5  \n",
       "1       248      1 stop                5  \n",
       "2       148      1 stop                3  \n",
       "3        36      1 stop                5  \n",
       "4       216    non-stop                5  "
      ]
     },
     "execution_count": 103,
     "metadata": {},
     "output_type": "execute_result"
    }
   ],
   "source": [
    "df.head()"
   ]
  },
  {
   "cell_type": "code",
   "execution_count": 104,
   "id": "d259874c",
   "metadata": {},
   "outputs": [
    {
     "data": {
      "text/plain": [
       "array([138,  31, 156,  48, 198, 146,  44, 116,  70, 127, 101,  36,  58,\n",
       "        24, 181,  96,  68, 193,  75, 164,  21, 177, 124, 102, 192, 162,\n",
       "        40,  26, 132, 152,  71, 135,  93, 191, 176, 141,  62, 103,  66,\n",
       "         5,  84, 133,  27,  39, 130, 160,  10, 179,  82,  88, 183,  25,\n",
       "        47,  59,  51,  63,  69, 112, 186,  38, 163, 158, 113,  22,  34,\n",
       "       136, 180,  45,  37, 139,  79, 167, 169,  23, 114, 175, 107, 161,\n",
       "        52, 184, 178,   6,  53, 172, 105, 109,  78, 159, 117,  29, 188,\n",
       "        54, 110,  65,   3,  56, 154,  57,  83,  15, 104,  64, 142, 121,\n",
       "         9,   1, 153, 195,  81,  20,  19,  91,  35, 145,  98,  61,   7,\n",
       "       197,  46,  87, 168,  50, 137,  67, 122,  74, 108,  33,  86, 155,\n",
       "       173, 115, 131, 128,  73,  13,  11,  12, 148, 119, 157,  95,  94,\n",
       "        60, 170,  90,  77,  55,  42, 111,  76,  16, 123, 118, 165, 151,\n",
       "       125, 196, 129,  41,  97,  28, 174,  80,  30, 144, 150,  92,  18,\n",
       "       185,  43,  17, 189,  14, 147, 140,   2,  85, 187, 120, 106, 171,\n",
       "        99,   8, 134, 143, 182, 190,  49,  32, 166, 149, 100,   0,   4,\n",
       "       126,  72,  89, 194])"
      ]
     },
     "execution_count": 104,
     "metadata": {},
     "output_type": "execute_result"
    }
   ],
   "source": [
    "from sklearn.preprocessing import LabelEncoder\n",
    "LE=LabelEncoder()\n",
    "df['Dep_Time']=LE.fit_transform(df['Dep_Time'])\n",
    "df.Dep_Time.unique()"
   ]
  },
  {
   "cell_type": "code",
   "execution_count": 105,
   "id": "c4aaf9ac",
   "metadata": {},
   "outputs": [
    {
     "data": {
      "text/html": [
       "<div>\n",
       "<style scoped>\n",
       "    .dataframe tbody tr th:only-of-type {\n",
       "        vertical-align: middle;\n",
       "    }\n",
       "\n",
       "    .dataframe tbody tr th {\n",
       "        vertical-align: top;\n",
       "    }\n",
       "\n",
       "    .dataframe thead th {\n",
       "        text-align: right;\n",
       "    }\n",
       "</style>\n",
       "<table border=\"1\" class=\"dataframe\">\n",
       "  <thead>\n",
       "    <tr style=\"text-align: right;\">\n",
       "      <th></th>\n",
       "      <th>Airline</th>\n",
       "      <th>Source</th>\n",
       "      <th>Destination</th>\n",
       "      <th>Route</th>\n",
       "      <th>Dep_Time</th>\n",
       "      <th>Arrival_Time</th>\n",
       "      <th>Duration</th>\n",
       "      <th>Total_Stops</th>\n",
       "      <th>Additional_Info</th>\n",
       "    </tr>\n",
       "  </thead>\n",
       "  <tbody>\n",
       "    <tr>\n",
       "      <th>0</th>\n",
       "      <td>4</td>\n",
       "      <td>2</td>\n",
       "      <td>1</td>\n",
       "      <td>DEL → BOM → COK</td>\n",
       "      <td>138</td>\n",
       "      <td>150</td>\n",
       "      <td>10</td>\n",
       "      <td>1 stop</td>\n",
       "      <td>5</td>\n",
       "    </tr>\n",
       "    <tr>\n",
       "      <th>1</th>\n",
       "      <td>3</td>\n",
       "      <td>3</td>\n",
       "      <td>0</td>\n",
       "      <td>CCU → MAA → BLR</td>\n",
       "      <td>31</td>\n",
       "      <td>353</td>\n",
       "      <td>248</td>\n",
       "      <td>1 stop</td>\n",
       "      <td>5</td>\n",
       "    </tr>\n",
       "    <tr>\n",
       "      <th>2</th>\n",
       "      <td>4</td>\n",
       "      <td>2</td>\n",
       "      <td>1</td>\n",
       "      <td>DEL → BOM → COK</td>\n",
       "      <td>156</td>\n",
       "      <td>566</td>\n",
       "      <td>148</td>\n",
       "      <td>1 stop</td>\n",
       "      <td>3</td>\n",
       "    </tr>\n",
       "    <tr>\n",
       "      <th>3</th>\n",
       "      <td>6</td>\n",
       "      <td>2</td>\n",
       "      <td>1</td>\n",
       "      <td>DEL → BOM → COK</td>\n",
       "      <td>48</td>\n",
       "      <td>633</td>\n",
       "      <td>36</td>\n",
       "      <td>1 stop</td>\n",
       "      <td>5</td>\n",
       "    </tr>\n",
       "    <tr>\n",
       "      <th>4</th>\n",
       "      <td>0</td>\n",
       "      <td>0</td>\n",
       "      <td>2</td>\n",
       "      <td>BLR → DEL</td>\n",
       "      <td>198</td>\n",
       "      <td>135</td>\n",
       "      <td>216</td>\n",
       "      <td>non-stop</td>\n",
       "      <td>5</td>\n",
       "    </tr>\n",
       "  </tbody>\n",
       "</table>\n",
       "</div>"
      ],
      "text/plain": [
       "   Airline  Source  Destination            Route  Dep_Time  Arrival_Time  \\\n",
       "0        4       2            1  DEL → BOM → COK       138           150   \n",
       "1        3       3            0  CCU → MAA → BLR        31           353   \n",
       "2        4       2            1  DEL → BOM → COK       156           566   \n",
       "3        6       2            1  DEL → BOM → COK        48           633   \n",
       "4        0       0            2        BLR → DEL       198           135   \n",
       "\n",
       "   Duration Total_Stops  Additional_Info  \n",
       "0        10      1 stop                5  \n",
       "1       248      1 stop                5  \n",
       "2       148      1 stop                3  \n",
       "3        36      1 stop                5  \n",
       "4       216    non-stop                5  "
      ]
     },
     "execution_count": 105,
     "metadata": {},
     "output_type": "execute_result"
    }
   ],
   "source": [
    "df.head()"
   ]
  },
  {
   "cell_type": "code",
   "execution_count": 106,
   "id": "7d4d0335",
   "metadata": {},
   "outputs": [
    {
     "data": {
      "text/plain": [
       "Index(['Airline', 'Source', 'Destination', 'Route', 'Dep_Time', 'Arrival_Time',\n",
       "       'Duration', 'Total_Stops', 'Additional_Info'],\n",
       "      dtype='object')"
      ]
     },
     "execution_count": 106,
     "metadata": {},
     "output_type": "execute_result"
    }
   ],
   "source": [
    "df.columns"
   ]
  },
  {
   "cell_type": "code",
   "execution_count": 107,
   "id": "3b16a242",
   "metadata": {},
   "outputs": [
    {
     "data": {
      "text/html": [
       "<div>\n",
       "<style scoped>\n",
       "    .dataframe tbody tr th:only-of-type {\n",
       "        vertical-align: middle;\n",
       "    }\n",
       "\n",
       "    .dataframe tbody tr th {\n",
       "        vertical-align: top;\n",
       "    }\n",
       "\n",
       "    .dataframe thead th {\n",
       "        text-align: right;\n",
       "    }\n",
       "</style>\n",
       "<table border=\"1\" class=\"dataframe\">\n",
       "  <thead>\n",
       "    <tr style=\"text-align: right;\">\n",
       "      <th></th>\n",
       "      <th>Airline</th>\n",
       "      <th>Source</th>\n",
       "      <th>Destination</th>\n",
       "      <th>Dep_Time</th>\n",
       "      <th>Arrival_Time</th>\n",
       "      <th>Duration</th>\n",
       "      <th>Additional_Info</th>\n",
       "    </tr>\n",
       "  </thead>\n",
       "  <tbody>\n",
       "    <tr>\n",
       "      <th>0</th>\n",
       "      <td>4</td>\n",
       "      <td>2</td>\n",
       "      <td>1</td>\n",
       "      <td>138</td>\n",
       "      <td>150</td>\n",
       "      <td>10</td>\n",
       "      <td>5</td>\n",
       "    </tr>\n",
       "    <tr>\n",
       "      <th>1</th>\n",
       "      <td>3</td>\n",
       "      <td>3</td>\n",
       "      <td>0</td>\n",
       "      <td>31</td>\n",
       "      <td>353</td>\n",
       "      <td>248</td>\n",
       "      <td>5</td>\n",
       "    </tr>\n",
       "    <tr>\n",
       "      <th>2</th>\n",
       "      <td>4</td>\n",
       "      <td>2</td>\n",
       "      <td>1</td>\n",
       "      <td>156</td>\n",
       "      <td>566</td>\n",
       "      <td>148</td>\n",
       "      <td>3</td>\n",
       "    </tr>\n",
       "    <tr>\n",
       "      <th>3</th>\n",
       "      <td>6</td>\n",
       "      <td>2</td>\n",
       "      <td>1</td>\n",
       "      <td>48</td>\n",
       "      <td>633</td>\n",
       "      <td>36</td>\n",
       "      <td>5</td>\n",
       "    </tr>\n",
       "    <tr>\n",
       "      <th>4</th>\n",
       "      <td>0</td>\n",
       "      <td>0</td>\n",
       "      <td>2</td>\n",
       "      <td>198</td>\n",
       "      <td>135</td>\n",
       "      <td>216</td>\n",
       "      <td>5</td>\n",
       "    </tr>\n",
       "  </tbody>\n",
       "</table>\n",
       "</div>"
      ],
      "text/plain": [
       "   Airline  Source  Destination  Dep_Time  Arrival_Time  Duration  \\\n",
       "0        4       2            1       138           150        10   \n",
       "1        3       3            0        31           353       248   \n",
       "2        4       2            1       156           566       148   \n",
       "3        6       2            1        48           633        36   \n",
       "4        0       0            2       198           135       216   \n",
       "\n",
       "   Additional_Info  \n",
       "0                5  \n",
       "1                5  \n",
       "2                3  \n",
       "3                5  \n",
       "4                5  "
      ]
     },
     "execution_count": 107,
     "metadata": {},
     "output_type": "execute_result"
    }
   ],
   "source": [
    "df.drop(['Route','Total_Stops'],axis=1,inplace=True)\n",
    "df.head()"
   ]
  },
  {
   "cell_type": "markdown",
   "id": "5e02c6ff",
   "metadata": {},
   "source": [
    "Missing Value Handaling Method\n"
   ]
  },
  {
   "cell_type": "code",
   "execution_count": 108,
   "id": "ddcdd951",
   "metadata": {},
   "outputs": [
    {
     "data": {
      "text/plain": [
       "Airline            0\n",
       "Source             0\n",
       "Destination        0\n",
       "Dep_Time           0\n",
       "Arrival_Time       0\n",
       "Duration           0\n",
       "Additional_Info    0\n",
       "dtype: int64"
      ]
     },
     "execution_count": 108,
     "metadata": {},
     "output_type": "execute_result"
    }
   ],
   "source": [
    "df.isnull().sum()"
   ]
  },
  {
   "cell_type": "code",
   "execution_count": 109,
   "id": "c9420e9a",
   "metadata": {},
   "outputs": [],
   "source": [
    "df[\"Airline\"]=df[\"Airline\"].fillna(df[\"Airline\"].mean())\n",
    "df[\"Source\"]=df[\"Source\"].fillna(df[\"Source\"].median())"
   ]
  },
  {
   "cell_type": "markdown",
   "id": "c86a48dc",
   "metadata": {},
   "source": [
    "Checking Skewness"
   ]
  },
  {
   "cell_type": "code",
   "execution_count": 110,
   "id": "2a7d6d8e",
   "metadata": {},
   "outputs": [
    {
     "data": {
      "text/plain": [
       "Airline            0.483882\n",
       "Source            -0.424997\n",
       "Destination        1.263630\n",
       "Dep_Time           0.178928\n",
       "Arrival_Time      -0.523661\n",
       "Duration          -0.275404\n",
       "Additional_Info   -1.719119\n",
       "dtype: float64"
      ]
     },
     "execution_count": 110,
     "metadata": {},
     "output_type": "execute_result"
    }
   ],
   "source": [
    "df.skew()"
   ]
  },
  {
   "cell_type": "markdown",
   "id": "257158f9",
   "metadata": {},
   "source": [
    "Removing The Outliers\n"
   ]
  },
  {
   "cell_type": "code",
   "execution_count": 111,
   "id": "d7b4d0e1",
   "metadata": {},
   "outputs": [
    {
     "data": {
      "text/plain": [
       "array([[0.01190758, 0.03256662, 0.29488167, ..., 1.47808348, 1.69830361,\n",
       "        0.48039397],\n",
       "       [0.42377921, 0.87708559, 0.97622158, ..., 0.4274359 , 0.83658895,\n",
       "        0.48039397],\n",
       "       [0.01190758, 0.03256662, 0.29488167, ..., 0.67496772, 0.22849195,\n",
       "        2.14897547],\n",
       "       ...,\n",
       "       [0.01190758, 0.03256662, 0.29488167, ..., 1.47290787, 1.15611322,\n",
       "        0.48039397],\n",
       "       [1.29515278, 0.03256662, 0.29488167, ..., 0.73189937, 1.16576315,\n",
       "        0.48039397],\n",
       "       [0.88328115, 0.03256662, 0.29488167, ..., 0.73189937, 1.28292205,\n",
       "        0.48039397]])"
      ]
     },
     "execution_count": 111,
     "metadata": {},
     "output_type": "execute_result"
    }
   ],
   "source": [
    "from scipy.stats import zscore\n",
    "z=np.abs(zscore(df))\n",
    "z"
   ]
  },
  {
   "cell_type": "code",
   "execution_count": 112,
   "id": "1fc85b2d",
   "metadata": {},
   "outputs": [
    {
     "name": "stdout",
     "output_type": "stream",
     "text": [
      "(array([ 954, 1802, 1861], dtype=int64), array([6, 6, 6], dtype=int64))\n"
     ]
    }
   ],
   "source": [
    "threshold=3\n",
    "print(np.where(z>3))"
   ]
  },
  {
   "cell_type": "code",
   "execution_count": 113,
   "id": "b5a02009",
   "metadata": {},
   "outputs": [
    {
     "data": {
      "text/html": [
       "<div>\n",
       "<style scoped>\n",
       "    .dataframe tbody tr th:only-of-type {\n",
       "        vertical-align: middle;\n",
       "    }\n",
       "\n",
       "    .dataframe tbody tr th {\n",
       "        vertical-align: top;\n",
       "    }\n",
       "\n",
       "    .dataframe thead th {\n",
       "        text-align: right;\n",
       "    }\n",
       "</style>\n",
       "<table border=\"1\" class=\"dataframe\">\n",
       "  <thead>\n",
       "    <tr style=\"text-align: right;\">\n",
       "      <th></th>\n",
       "      <th>Airline</th>\n",
       "      <th>Source</th>\n",
       "      <th>Destination</th>\n",
       "      <th>Dep_Time</th>\n",
       "      <th>Arrival_Time</th>\n",
       "      <th>Duration</th>\n",
       "      <th>Additional_Info</th>\n",
       "    </tr>\n",
       "  </thead>\n",
       "  <tbody>\n",
       "    <tr>\n",
       "      <th>0</th>\n",
       "      <td>4</td>\n",
       "      <td>2</td>\n",
       "      <td>1</td>\n",
       "      <td>138</td>\n",
       "      <td>150</td>\n",
       "      <td>10</td>\n",
       "      <td>5</td>\n",
       "    </tr>\n",
       "    <tr>\n",
       "      <th>1</th>\n",
       "      <td>3</td>\n",
       "      <td>3</td>\n",
       "      <td>0</td>\n",
       "      <td>31</td>\n",
       "      <td>353</td>\n",
       "      <td>248</td>\n",
       "      <td>5</td>\n",
       "    </tr>\n",
       "    <tr>\n",
       "      <th>2</th>\n",
       "      <td>4</td>\n",
       "      <td>2</td>\n",
       "      <td>1</td>\n",
       "      <td>156</td>\n",
       "      <td>566</td>\n",
       "      <td>148</td>\n",
       "      <td>3</td>\n",
       "    </tr>\n",
       "    <tr>\n",
       "      <th>3</th>\n",
       "      <td>6</td>\n",
       "      <td>2</td>\n",
       "      <td>1</td>\n",
       "      <td>48</td>\n",
       "      <td>633</td>\n",
       "      <td>36</td>\n",
       "      <td>5</td>\n",
       "    </tr>\n",
       "    <tr>\n",
       "      <th>4</th>\n",
       "      <td>0</td>\n",
       "      <td>0</td>\n",
       "      <td>2</td>\n",
       "      <td>198</td>\n",
       "      <td>135</td>\n",
       "      <td>216</td>\n",
       "      <td>5</td>\n",
       "    </tr>\n",
       "    <tr>\n",
       "      <th>...</th>\n",
       "      <td>...</td>\n",
       "      <td>...</td>\n",
       "      <td>...</td>\n",
       "      <td>...</td>\n",
       "      <td>...</td>\n",
       "      <td>...</td>\n",
       "      <td>...</td>\n",
       "    </tr>\n",
       "    <tr>\n",
       "      <th>2666</th>\n",
       "      <td>1</td>\n",
       "      <td>3</td>\n",
       "      <td>0</td>\n",
       "      <td>170</td>\n",
       "      <td>617</td>\n",
       "      <td>150</td>\n",
       "      <td>5</td>\n",
       "    </tr>\n",
       "    <tr>\n",
       "      <th>2667</th>\n",
       "      <td>3</td>\n",
       "      <td>3</td>\n",
       "      <td>0</td>\n",
       "      <td>106</td>\n",
       "      <td>507</td>\n",
       "      <td>213</td>\n",
       "      <td>5</td>\n",
       "    </tr>\n",
       "    <tr>\n",
       "      <th>2668</th>\n",
       "      <td>4</td>\n",
       "      <td>2</td>\n",
       "      <td>1</td>\n",
       "      <td>183</td>\n",
       "      <td>151</td>\n",
       "      <td>278</td>\n",
       "      <td>5</td>\n",
       "    </tr>\n",
       "    <tr>\n",
       "      <th>2669</th>\n",
       "      <td>1</td>\n",
       "      <td>2</td>\n",
       "      <td>1</td>\n",
       "      <td>11</td>\n",
       "      <td>577</td>\n",
       "      <td>60</td>\n",
       "      <td>5</td>\n",
       "    </tr>\n",
       "    <tr>\n",
       "      <th>2670</th>\n",
       "      <td>6</td>\n",
       "      <td>2</td>\n",
       "      <td>1</td>\n",
       "      <td>15</td>\n",
       "      <td>577</td>\n",
       "      <td>49</td>\n",
       "      <td>5</td>\n",
       "    </tr>\n",
       "  </tbody>\n",
       "</table>\n",
       "<p>2668 rows × 7 columns</p>\n",
       "</div>"
      ],
      "text/plain": [
       "      Airline  Source  Destination  Dep_Time  Arrival_Time  Duration  \\\n",
       "0           4       2            1       138           150        10   \n",
       "1           3       3            0        31           353       248   \n",
       "2           4       2            1       156           566       148   \n",
       "3           6       2            1        48           633        36   \n",
       "4           0       0            2       198           135       216   \n",
       "...       ...     ...          ...       ...           ...       ...   \n",
       "2666        1       3            0       170           617       150   \n",
       "2667        3       3            0       106           507       213   \n",
       "2668        4       2            1       183           151       278   \n",
       "2669        1       2            1        11           577        60   \n",
       "2670        6       2            1        15           577        49   \n",
       "\n",
       "      Additional_Info  \n",
       "0                   5  \n",
       "1                   5  \n",
       "2                   3  \n",
       "3                   5  \n",
       "4                   5  \n",
       "...               ...  \n",
       "2666                5  \n",
       "2667                5  \n",
       "2668                5  \n",
       "2669                5  \n",
       "2670                5  \n",
       "\n",
       "[2668 rows x 7 columns]"
      ]
     },
     "execution_count": 113,
     "metadata": {},
     "output_type": "execute_result"
    }
   ],
   "source": [
    "df_new=df[(z<3).all(axis=1)]\n",
    "df_new"
   ]
  },
  {
   "cell_type": "code",
   "execution_count": 114,
   "id": "272aa4f7",
   "metadata": {},
   "outputs": [
    {
     "data": {
      "text/plain": [
       "(2671, 7)"
      ]
     },
     "execution_count": 114,
     "metadata": {},
     "output_type": "execute_result"
    }
   ],
   "source": [
    "df.shape"
   ]
  },
  {
   "cell_type": "markdown",
   "id": "9b4c0e6e",
   "metadata": {},
   "source": [
    "Dataset Contains 2668 rows and 7 columns\n",
    "\n"
   ]
  },
  {
   "cell_type": "code",
   "execution_count": 116,
   "id": "a19fbc06",
   "metadata": {},
   "outputs": [
    {
     "data": {
      "text/plain": [
       "(2668, 7)"
      ]
     },
     "execution_count": 116,
     "metadata": {},
     "output_type": "execute_result"
    }
   ],
   "source": [
    "df_new.shape"
   ]
  },
  {
   "cell_type": "markdown",
   "id": "264a55e6",
   "metadata": {},
   "source": [
    "StandardScalar Method\n"
   ]
  },
  {
   "cell_type": "code",
   "execution_count": 117,
   "id": "e1c0116a",
   "metadata": {},
   "outputs": [],
   "source": [
    "from sklearn.preprocessing import StandardScaler\n",
    "\n",
    "scaler = StandardScaler()\n",
    "scaledX = scaler.fit_transform(df)"
   ]
  },
  {
   "cell_type": "code",
   "execution_count": 118,
   "id": "3b931e0b",
   "metadata": {},
   "outputs": [
    {
     "data": {
      "text/plain": [
       "array([[ 0.01190758,  0.03256662, -0.29488167, ..., -1.47808348,\n",
       "        -1.69830361,  0.48039397],\n",
       "       [-0.42377921,  0.87708559, -0.97622158, ..., -0.4274359 ,\n",
       "         0.83658895,  0.48039397],\n",
       "       [ 0.01190758,  0.03256662, -0.29488167, ...,  0.67496772,\n",
       "        -0.22849195, -2.14897547],\n",
       "       ...,\n",
       "       [ 0.01190758,  0.03256662, -0.29488167, ..., -1.47290787,\n",
       "         1.15611322,  0.48039397],\n",
       "       [-1.29515278,  0.03256662, -0.29488167, ...,  0.73189937,\n",
       "        -1.16576315,  0.48039397],\n",
       "       [ 0.88328115,  0.03256662, -0.29488167, ...,  0.73189937,\n",
       "        -1.28292205,  0.48039397]])"
      ]
     },
     "execution_count": 118,
     "metadata": {},
     "output_type": "execute_result"
    }
   ],
   "source": [
    "scaledX"
   ]
  },
  {
   "cell_type": "code",
   "execution_count": 119,
   "id": "8f9a1458",
   "metadata": {},
   "outputs": [],
   "source": [
    "from sklearn.decomposition import PCA\n",
    "\n",
    "testpca = PCA()\n",
    "Y = testpca.fit(scaledX)"
   ]
  },
  {
   "cell_type": "code",
   "execution_count": 120,
   "id": "1cb26a81",
   "metadata": {},
   "outputs": [
    {
     "data": {
      "text/plain": [
       "array([0.230185  , 0.15924407, 0.15564498, 0.14101593, 0.13692838,\n",
       "       0.12072586, 0.05625577])"
      ]
     },
     "execution_count": 120,
     "metadata": {},
     "output_type": "execute_result"
    }
   ],
   "source": [
    "Y.explained_variance_ratio_"
   ]
  },
  {
   "cell_type": "code",
   "execution_count": 121,
   "id": "83175bc2",
   "metadata": {},
   "outputs": [
    {
     "data": {
      "text/plain": [
       "array([ 23.01850026,  38.94290705,  54.50740509,  68.60899837,\n",
       "        82.3018368 ,  94.37442278, 100.        ])"
      ]
     },
     "execution_count": 121,
     "metadata": {},
     "output_type": "execute_result"
    }
   ],
   "source": [
    "var_cumu = np.cumsum(Y.explained_variance_ratio_)*100\n",
    "var_cumu"
   ]
  },
  {
   "cell_type": "code",
   "execution_count": 122,
   "id": "892e36fd",
   "metadata": {},
   "outputs": [
    {
     "name": "stdout",
     "output_type": "stream",
     "text": [
      "Number of components explaining 99% variance: 6\n"
     ]
    }
   ],
   "source": [
    "k = np.argmax(var_cumu>99)\n",
    "print(\"Number of components explaining 99% variance:\",k)"
   ]
  },
  {
   "cell_type": "code",
   "execution_count": 123,
   "id": "6cac1c4d",
   "metadata": {},
   "outputs": [
    {
     "data": {
      "image/png": "[encoded data removed]",
      "text/plain": [
       "<Figure size 432x288 with 1 Axes>"
      ]
     },
     "metadata": {
      "needs_background": "light"
     },
     "output_type": "display_data"
    }
   ],
   "source": [
    "plt.ylabel('Cumulative Expalined varience')\n",
    "plt.xlabel('Principle components')\n",
    "plt.axvline(x=k, color=\"k\",linestyle=\"--\")\n",
    "plt.axhline(y=9, color=\"r\",linestyle=\"--\")\n",
    "\n",
    "plt.plot(var_cumu)\n",
    "plt.show()"
   ]
  },
  {
   "cell_type": "markdown",
   "id": "afff389d",
   "metadata": {},
   "source": [
    "Here ylabel contains cumulative explained varience and xlabel contains principle components.\n",
    "\n"
   ]
  },
  {
   "cell_type": "markdown",
   "id": "85b2b7fe",
   "metadata": {},
   "source": [
    "Model Building\n"
   ]
  },
  {
   "cell_type": "code",
   "execution_count": 124,
   "id": "b6ad774a",
   "metadata": {},
   "outputs": [
    {
     "data": {
      "text/html": [
       "<div>\n",
       "<style scoped>\n",
       "    .dataframe tbody tr th:only-of-type {\n",
       "        vertical-align: middle;\n",
       "    }\n",
       "\n",
       "    .dataframe tbody tr th {\n",
       "        vertical-align: top;\n",
       "    }\n",
       "\n",
       "    .dataframe thead th {\n",
       "        text-align: right;\n",
       "    }\n",
       "</style>\n",
       "<table border=\"1\" class=\"dataframe\">\n",
       "  <thead>\n",
       "    <tr style=\"text-align: right;\">\n",
       "      <th></th>\n",
       "      <th>Airline</th>\n",
       "      <th>Destination</th>\n",
       "      <th>Dep_Time</th>\n",
       "      <th>Arrival_Time</th>\n",
       "      <th>Duration</th>\n",
       "      <th>Additional_Info</th>\n",
       "    </tr>\n",
       "  </thead>\n",
       "  <tbody>\n",
       "    <tr>\n",
       "      <th>0</th>\n",
       "      <td>4</td>\n",
       "      <td>1</td>\n",
       "      <td>138</td>\n",
       "      <td>150</td>\n",
       "      <td>10</td>\n",
       "      <td>5</td>\n",
       "    </tr>\n",
       "    <tr>\n",
       "      <th>1</th>\n",
       "      <td>3</td>\n",
       "      <td>0</td>\n",
       "      <td>31</td>\n",
       "      <td>353</td>\n",
       "      <td>248</td>\n",
       "      <td>5</td>\n",
       "    </tr>\n",
       "    <tr>\n",
       "      <th>2</th>\n",
       "      <td>4</td>\n",
       "      <td>1</td>\n",
       "      <td>156</td>\n",
       "      <td>566</td>\n",
       "      <td>148</td>\n",
       "      <td>3</td>\n",
       "    </tr>\n",
       "    <tr>\n",
       "      <th>3</th>\n",
       "      <td>6</td>\n",
       "      <td>1</td>\n",
       "      <td>48</td>\n",
       "      <td>633</td>\n",
       "      <td>36</td>\n",
       "      <td>5</td>\n",
       "    </tr>\n",
       "    <tr>\n",
       "      <th>4</th>\n",
       "      <td>0</td>\n",
       "      <td>2</td>\n",
       "      <td>198</td>\n",
       "      <td>135</td>\n",
       "      <td>216</td>\n",
       "      <td>5</td>\n",
       "    </tr>\n",
       "  </tbody>\n",
       "</table>\n",
       "</div>"
      ],
      "text/plain": [
       "   Airline  Destination  Dep_Time  Arrival_Time  Duration  Additional_Info\n",
       "0        4            1       138           150        10                5\n",
       "1        3            0        31           353       248                5\n",
       "2        4            1       156           566       148                3\n",
       "3        6            1        48           633        36                5\n",
       "4        0            2       198           135       216                5"
      ]
     },
     "execution_count": 124,
     "metadata": {},
     "output_type": "execute_result"
    }
   ],
   "source": [
    "x_train = df.drop(['Source'],axis=1)\n",
    "y_train = df.Source\n",
    "x_train.head()\n",
    "\n"
   ]
  },
  {
   "cell_type": "code",
   "execution_count": 125,
   "id": "90b8dbb1",
   "metadata": {},
   "outputs": [
    {
     "data": {
      "text/plain": [
       "0    2\n",
       "1    3\n",
       "2    2\n",
       "3    2\n",
       "4    0\n",
       "Name: Source, dtype: int32"
      ]
     },
     "execution_count": 125,
     "metadata": {},
     "output_type": "execute_result"
    }
   ],
   "source": [
    "y_train.head()"
   ]
  },
  {
   "cell_type": "code",
   "execution_count": 126,
   "id": "c59e5f0b",
   "metadata": {},
   "outputs": [
    {
     "data": {
      "text/plain": [
       "(2671, 6)"
      ]
     },
     "execution_count": 126,
     "metadata": {},
     "output_type": "execute_result"
    }
   ],
   "source": [
    "x_train.shape\n"
   ]
  },
  {
   "cell_type": "code",
   "execution_count": 127,
   "id": "c22dc86b",
   "metadata": {},
   "outputs": [
    {
     "data": {
      "text/plain": [
       "(2671,)"
      ]
     },
     "execution_count": 127,
     "metadata": {},
     "output_type": "execute_result"
    }
   ],
   "source": [
    "y_train.shape\n"
   ]
  },
  {
   "cell_type": "markdown",
   "id": "9cda03c1",
   "metadata": {},
   "source": [
    "Regressor Methods\n"
   ]
  },
  {
   "cell_type": "code",
   "execution_count": 128,
   "id": "a368d0f7",
   "metadata": {},
   "outputs": [],
   "source": [
    "from sklearn.model_selection import train_test_split\n",
    "\n",
    "from sklearn.metrics import accuracy_score"
   ]
  },
  {
   "cell_type": "code",
   "execution_count": 129,
   "id": "5319cf68",
   "metadata": {},
   "outputs": [],
   "source": [
    "x= df.drop(['Source'],axis=1)\n",
    "y = df[\"Source\"]\n",
    "x_train, x_test, y_train, y_test=train_test_split(x, y, random_state=0, test_size=0.2)"
   ]
  },
  {
   "cell_type": "code",
   "execution_count": 130,
   "id": "cc00169f",
   "metadata": {
    "scrolled": false
   },
   "outputs": [
    {
     "name": "stdout",
     "output_type": "stream",
     "text": [
      "0.0\n",
      "0.1934294858246657\n",
      "0.03367175148507369\n",
      "0.19047619047619047\n",
      "0.0\n",
      "0.0\n",
      "0.0\n",
      "0.0\n",
      "0.03367175148507369\n",
      "0.0\n",
      "0.13883218797250715\n",
      "0.13468700594029476\n",
      "0.0\n",
      "0.23570226039551584\n",
      "0.03367175148507369\n",
      "0.03367175148507369\n",
      "0.0\n",
      "0.0\n",
      "0.0\n",
      "0.0\n",
      "0.0\n",
      "0.2693740118805895\n",
      "0.13883218797250715\n",
      "0.03367175148507369\n",
      "0.0\n",
      "0.0\n",
      "0.03367175148507369\n",
      "0.0\n",
      "0.0\n",
      "0.0\n",
      "0.047619047619047616\n",
      "0.0\n",
      "0.03367175148507369\n",
      "0.0\n",
      "0.0\n",
      "0.0\n",
      "0.0\n",
      "0.0\n",
      "0.0\n",
      "0.0\n",
      "0.19047619047619047\n",
      "0.0\n",
      "0.13468700594029476\n",
      "0.03367175148507369\n",
      "0.13883218797250715\n",
      "0.0\n",
      "0.0\n",
      "0.03367175148507369\n",
      "0.0\n",
      "0.0\n",
      "0.0\n",
      "0.0\n",
      "0.0\n",
      "0.13468700594029476\n",
      "0.13468700594029476\n",
      "0.0\n",
      "0.03367175148507369\n",
      "0.0\n",
      "0.0\n",
      "0.03367175148507369\n",
      "0.1934294858246657\n",
      "0.0\n",
      "0.0\n",
      "0.0\n",
      "0.0\n",
      "0.03367175148507369\n",
      "0.0\n",
      "0.0\n",
      "0.0\n",
      "0.0\n",
      "0.0\n",
      "0.13468700594029476\n",
      "0.03367175148507369\n",
      "0.0\n",
      "0.047619047619047616\n",
      "0.0\n",
      "0.0\n",
      "0.0\n",
      "0.0\n",
      "0.0\n",
      "0.03367175148507369\n",
      "0.03367175148507369\n",
      "0.0\n",
      "0.0\n",
      "0.03367175148507369\n",
      "0.19047619047619047\n",
      "0.03367175148507369\n",
      "0.0\n",
      "0.0\n",
      "0.03367175148507369\n",
      "0.0\n",
      "0.0\n",
      "0.19047619047619047\n",
      "0.047619047619047616\n",
      "0.0\n",
      "0.0\n",
      "0.13468700594029476\n",
      "0.0\n",
      "0.0\n",
      "0.23328473740792172\n",
      "0.0\n",
      "0.0\n",
      "0.0\n",
      "0.047619047619047616\n",
      "0.03367175148507369\n",
      "0.03367175148507369\n",
      "0.03367175148507369\n",
      "0.0\n",
      "0.0\n",
      "0.0\n",
      "0.19047619047619047\n",
      "0.03367175148507369\n",
      "0.03367175148507369\n",
      "0.03367175148507369\n",
      "0.03367175148507369\n",
      "0.0\n",
      "0.0\n",
      "0.13468700594029476\n",
      "0.0\n",
      "0.047619047619047616\n",
      "0.19047619047619047\n",
      "0.0\n",
      "0.13468700594029476\n",
      "0.0\n",
      "0.0\n",
      "0.0\n",
      "0.0\n",
      "0.0\n",
      "0.047619047619047616\n",
      "0.13883218797250715\n",
      "0.23570226039551584\n",
      "0.0\n",
      "0.03367175148507369\n",
      "0.0\n",
      "0.0\n",
      "0.13883218797250715\n",
      "0.0\n",
      "0.0\n",
      "0.13883218797250715\n",
      "0.0\n",
      "0.13883218797250715\n",
      "0.03367175148507369\n",
      "0.03367175148507369\n",
      "0.0\n",
      "0.0\n",
      "0.0\n",
      "0.03367175148507369\n",
      "0.0\n",
      "0.13468700594029476\n",
      "0.13468700594029476\n",
      "0.0\n",
      "0.13468700594029476\n",
      "0.0\n",
      "0.3011693009684171\n",
      "0.0\n",
      "0.0\n",
      "0.0\n",
      "0.0\n",
      "0.0\n",
      "0.0\n",
      "0.0\n",
      "0.0\n",
      "0.0\n",
      "0.0\n",
      "0.0\n",
      "0.0\n",
      "0.13468700594029476\n",
      "0.0\n",
      "0.0\n",
      "0.13468700594029476\n",
      "0.0\n",
      "0.13883218797250715\n",
      "0.19047619047619047\n",
      "0.0\n",
      "0.13883218797250715\n",
      "0.13883218797250715\n",
      "0.0\n",
      "0.0\n",
      "0.03367175148507369\n",
      "0.13883218797250715\n",
      "0.0\n",
      "0.03367175148507369\n",
      "0.0\n",
      "0.0\n",
      "0.13468700594029476\n",
      "0.0\n",
      "0.0\n",
      "0.23570226039551584\n",
      "0.13468700594029476\n",
      "0.0\n",
      "0.0\n",
      "0.03367175148507369\n",
      "0.19920476822239894\n",
      "0.03367175148507369\n",
      "0.0\n",
      "0.0\n",
      "0.1934294858246657\n",
      "0.0\n",
      "0.1934294858246657\n",
      "0.1934294858246657\n"
     ]
    }
   ],
   "source": [
    "from sklearn.metrics import mean_squared_error\n",
    "for i in range(200):\n",
    "    x_train, x_test, y_train, y_test = train_test_split(x, y, test_size=0.33, random_state=i)\n",
    "    from sklearn.tree import DecisionTreeRegressor\n",
    "    lm=DecisionTreeRegressor()\n",
    "    lm.fit(x_train,y_train)\n",
    "    y_pred=lm.predict(x_test)\n",
    "    mse=mean_squared_error(y_test,y_pred)\n",
    "    rmse = np.sqrt(mse)\n",
    "    print(rmse)"
   ]
  },
  {
   "cell_type": "code",
   "execution_count": 131,
   "id": "34daedd8",
   "metadata": {},
   "outputs": [
    {
     "data": {
      "text/plain": [
       "DecisionTreeRegressor()"
      ]
     },
     "execution_count": 131,
     "metadata": {},
     "output_type": "execute_result"
    }
   ],
   "source": [
    "from sklearn.tree import DecisionTreeRegressor\n",
    "regressor = DecisionTreeRegressor()\n",
    "regressor.fit(x_train,y_train)"
   ]
  },
  {
   "cell_type": "code",
   "execution_count": 132,
   "id": "1bce842d",
   "metadata": {},
   "outputs": [],
   "source": [
    "y_pred = regressor.predict(x_test)"
   ]
  },
  {
   "cell_type": "code",
   "execution_count": 133,
   "id": "d81f69de",
   "metadata": {},
   "outputs": [
    {
     "data": {
      "text/plain": [
       "array([3., 2., 2., 0., 2., 2., 3., 2., 0., 2., 2., 3., 0., 1., 0., 2., 0.,\n",
       "       2., 3., 0., 3., 3., 2., 2., 4., 3., 2., 3., 0., 0., 3., 3., 0., 0.,\n",
       "       2., 3., 2., 3., 3., 2., 3., 3., 3., 3., 2., 3., 3., 2., 4., 0., 2.,\n",
       "       2., 0., 2., 2., 0., 2., 3., 3., 2., 2., 2., 3., 3., 3., 2., 0., 2.,\n",
       "       3., 3., 2., 0., 2., 2., 2., 2., 2., 0., 2., 3., 0., 3., 2., 2., 0.,\n",
       "       4., 3., 2., 2., 2., 2., 0., 3., 4., 4., 3., 3., 2., 2., 2., 2., 0.,\n",
       "       3., 0., 2., 2., 4., 2., 3., 3., 2., 0., 2., 2., 2., 2., 1., 2., 4.,\n",
       "       2., 2., 2., 0., 4., 2., 2., 0., 2., 0., 2., 2., 3., 0., 2., 2., 3.,\n",
       "       2., 0., 4., 3., 2., 3., 0., 2., 2., 0., 4., 2., 0., 3., 2., 2., 2.,\n",
       "       0., 4., 2., 2., 2., 2., 2., 2., 2., 2., 0., 3., 2., 2., 0., 0., 3.,\n",
       "       0., 0., 3., 2., 2., 2., 2., 4., 3., 2., 3., 2., 3., 3., 2., 2., 4.,\n",
       "       2., 2., 2., 0., 2., 0., 3., 2., 0., 4., 3., 0., 3., 2., 2., 2., 2.,\n",
       "       3., 2., 2., 2., 2., 3., 2., 0., 3., 2., 3., 0., 3., 3., 2., 3., 3.,\n",
       "       3., 0., 3., 2., 3., 3., 0., 2., 0., 3., 0., 3., 2., 3., 2., 2., 2.,\n",
       "       2., 3., 2., 3., 2., 2., 2., 3., 0., 3., 4., 2., 2., 3., 2., 3., 2.,\n",
       "       0., 2., 2., 2., 4., 2., 0., 4., 2., 3., 0., 4., 2., 2., 2., 0., 2.,\n",
       "       3., 2., 0., 3., 2., 2., 4., 3., 2., 3., 0., 3., 2., 0., 1., 3., 3.,\n",
       "       3., 0., 0., 3., 2., 3., 3., 4., 3., 2., 3., 2., 3., 0., 2., 3., 4.,\n",
       "       3., 0., 0., 0., 3., 4., 2., 3., 3., 2., 3., 2., 2., 2., 2., 0., 4.,\n",
       "       3., 2., 3., 0., 3., 2., 0., 2., 1., 2., 2., 0., 2., 3., 0., 2., 2.,\n",
       "       2., 3., 2., 2., 2., 3., 2., 0., 3., 3., 4., 3., 2., 2., 3., 0., 2.,\n",
       "       2., 2., 3., 0., 2., 2., 0., 3., 4., 0., 2., 1., 2., 0., 4., 2., 3.,\n",
       "       4., 2., 2., 3., 3., 2., 3., 2., 2., 3., 0., 3., 3., 2., 3., 2., 3.,\n",
       "       2., 2., 2., 0., 4., 2., 3., 0., 3., 3., 3., 2., 0., 2., 2., 3., 3.,\n",
       "       2., 3., 0., 2., 2., 4., 0., 3., 3., 3., 0., 2., 2., 2., 2., 2., 0.,\n",
       "       0., 2., 2., 0., 4., 0., 2., 0., 2., 2., 4., 3., 3., 3., 2., 0., 2.,\n",
       "       2., 0., 0., 2., 0., 4., 2., 0., 0., 0., 2., 3., 3., 3., 2., 2., 0.,\n",
       "       2., 2., 1., 3., 3., 3., 2., 0., 0., 4., 0., 2., 2., 2., 1., 2., 3.,\n",
       "       0., 2., 4., 2., 2., 4., 0., 2., 2., 2., 4., 3., 0., 2., 3., 0., 2.,\n",
       "       3., 0., 2., 0., 4., 2., 0., 2., 0., 3., 2., 2., 2., 2., 3., 3., 3.,\n",
       "       2., 2., 3., 4., 2., 2., 2., 3., 3., 0., 2., 0., 2., 0., 2., 3., 2.,\n",
       "       2., 2., 3., 3., 3., 3., 3., 2., 2., 2., 3., 0., 0., 0., 3., 2., 3.,\n",
       "       0., 3., 3., 3., 2., 2., 2., 2., 2., 3., 2., 3., 2., 2., 0., 2., 2.,\n",
       "       2., 0., 4., 3., 0., 4., 3., 0., 2., 3., 3., 0., 2., 2., 0., 3., 1.,\n",
       "       2., 0., 2., 3., 3., 0., 2., 0., 4., 3., 3., 2., 0., 2., 2., 2., 2.,\n",
       "       0., 0., 4., 0., 3., 4., 4., 3., 2., 1., 0., 0., 2., 2., 2., 0., 2.,\n",
       "       3., 3., 2., 2., 4., 3., 2., 0., 2., 2., 0., 3., 2., 2., 2., 0., 3.,\n",
       "       3., 4., 3., 2., 2., 3., 2., 3., 0., 2., 2., 2., 2., 2., 3., 3., 3.,\n",
       "       3., 2., 3., 2., 2., 2., 0., 2., 2., 3., 2., 2., 1., 3., 3., 2., 2.,\n",
       "       2., 0., 3., 2., 3., 4., 0., 2., 4., 0., 2., 3., 2., 2., 3., 3., 0.,\n",
       "       2., 3., 0., 3., 0., 3., 3., 2., 4., 3., 2., 3., 2., 3., 0., 2., 3.,\n",
       "       3., 3., 3., 2., 2., 2., 2., 0., 2., 2., 3., 2., 2., 3., 3., 4., 0.,\n",
       "       2., 0., 3., 2., 0., 3., 3., 2., 0., 0., 1., 3., 3., 2., 2., 2., 1.,\n",
       "       3., 3., 2., 3., 0., 2., 0., 3., 2., 0., 2., 0., 2., 0., 2., 3., 3.,\n",
       "       2., 2., 2., 2., 0., 2., 2., 3., 2., 2., 2., 3., 3., 2., 0., 2., 3.,\n",
       "       0., 2., 2., 4., 0., 2., 3., 2., 3., 2., 2., 3., 2., 0., 2., 2., 3.,\n",
       "       2., 3., 3., 3., 2., 0., 2., 0., 4., 3., 0., 4., 2., 2., 2., 2., 3.,\n",
       "       3., 4., 0., 3., 3., 3., 3., 0., 0., 4., 2., 3., 2., 3., 3., 2., 0.,\n",
       "       3., 2., 4., 0., 4., 4., 2., 0., 2., 1., 2., 3., 2., 2., 0., 3., 3.,\n",
       "       2., 2., 2., 3., 4., 2., 3., 2., 2., 4., 0., 4., 2., 2., 2., 4., 2.,\n",
       "       0., 2., 2., 1., 2., 3., 0., 0., 0., 2., 2., 2., 0., 2., 3., 3., 3.,\n",
       "       3., 3., 0., 1., 0., 2., 0., 3., 0., 2., 3., 3., 0., 3., 2.])"
      ]
     },
     "execution_count": 133,
     "metadata": {},
     "output_type": "execute_result"
    }
   ],
   "source": [
    "y_pred"
   ]
  },
  {
   "cell_type": "code",
   "execution_count": 134,
   "id": "c4061d7e",
   "metadata": {},
   "outputs": [
    {
     "data": {
      "text/plain": [
       "100.0"
      ]
     },
     "execution_count": 134,
     "metadata": {},
     "output_type": "execute_result"
    }
   ],
   "source": [
    "dt_accuracy = round(regressor.score(x_train,y_train)*100,2)\n",
    "dt_accuracy"
   ]
  },
  {
   "cell_type": "markdown",
   "id": "bb0c9a79",
   "metadata": {},
   "source": [
    "The Test Accuracy of DecisionTreeRegressor is 100\n",
    "\n"
   ]
  },
  {
   "cell_type": "code",
   "execution_count": 135,
   "id": "84049fa3",
   "metadata": {},
   "outputs": [
    {
     "data": {
      "text/plain": [
       "RandomForestRegressor()"
      ]
     },
     "execution_count": 135,
     "metadata": {},
     "output_type": "execute_result"
    }
   ],
   "source": [
    "from sklearn.ensemble import RandomForestRegressor\n",
    "regressor = RandomForestRegressor()\n",
    "regressor.fit(x_train,y_train)"
   ]
  },
  {
   "cell_type": "code",
   "execution_count": 136,
   "id": "726dcef8",
   "metadata": {},
   "outputs": [
    {
     "data": {
      "text/plain": [
       "array([3.  , 2.  , 2.  , 0.  , 2.  , 2.  , 3.  , 2.  , 0.  , 2.  , 2.  ,\n",
       "       3.  , 0.  , 1.  , 0.36, 2.  , 0.  , 2.  , 3.  , 0.  , 3.  , 3.  ,\n",
       "       2.  , 2.  , 4.  , 3.  , 2.  , 3.  , 0.08, 0.  , 3.  , 3.  , 0.  ,\n",
       "       0.  , 2.  , 3.  , 2.  , 3.  , 3.  , 2.  , 3.  , 3.  , 3.  , 3.  ,\n",
       "       2.  , 3.  , 3.  , 2.  , 3.96, 0.  , 2.  , 2.  , 0.  , 2.  , 2.  ,\n",
       "       0.  , 2.  , 3.  , 3.  , 2.  , 2.  , 2.  , 3.  , 3.  , 3.  , 2.  ,\n",
       "       0.  , 2.  , 3.  , 3.  , 2.  , 0.  , 2.  , 2.  , 2.  , 2.  , 2.  ,\n",
       "       0.  , 2.  , 3.  , 0.08, 3.  , 2.  , 2.  , 0.  , 4.  , 3.  , 2.  ,\n",
       "       2.  , 2.  , 2.  , 0.12, 3.  , 4.  , 4.  , 3.  , 3.  , 2.  , 2.  ,\n",
       "       2.  , 2.  , 0.  , 3.  , 0.  , 2.  , 2.  , 4.  , 2.  , 3.  , 3.  ,\n",
       "       2.  , 0.  , 2.  , 2.  , 2.  , 2.  , 1.  , 2.  , 4.  , 2.  , 2.  ,\n",
       "       2.  , 0.  , 4.  , 2.  , 2.  , 0.  , 2.  , 0.  , 2.  , 2.  , 3.  ,\n",
       "       0.  , 2.  , 2.  , 3.  , 2.  , 0.  , 4.  , 3.  , 2.  , 3.  , 0.  ,\n",
       "       2.  , 2.  , 0.  , 4.  , 2.  , 0.  , 3.  , 2.  , 2.  , 2.  , 0.  ,\n",
       "       4.  , 2.  , 2.  , 2.  , 2.  , 2.  , 2.  , 2.  , 2.  , 0.  , 3.  ,\n",
       "       2.  , 2.  , 0.52, 0.  , 3.  , 0.  , 0.  , 3.  , 2.  , 2.  , 2.  ,\n",
       "       2.  , 2.36, 3.  , 2.  , 3.  , 2.  , 3.  , 3.  , 2.  , 2.  , 4.  ,\n",
       "       2.  , 2.  , 2.  , 0.  , 2.  , 0.  , 3.  , 2.  , 0.  , 4.  , 3.  ,\n",
       "       0.  , 3.  , 2.  , 2.  , 2.  , 2.  , 3.  , 2.  , 2.  , 2.  , 2.  ,\n",
       "       3.  , 2.  , 0.  , 3.  , 2.  , 3.  , 0.  , 3.  , 3.  , 2.  , 3.  ,\n",
       "       3.  , 3.  , 0.  , 3.  , 2.  , 3.  , 3.  , 0.  , 2.  , 0.  , 3.  ,\n",
       "       0.  , 3.  , 2.  , 3.  , 2.  , 2.  , 2.  , 2.  , 3.  , 2.  , 3.  ,\n",
       "       2.  , 2.  , 2.  , 3.  , 0.  , 3.  , 4.  , 2.  , 2.  , 3.  , 2.  ,\n",
       "       3.  , 2.  , 0.  , 2.  , 2.  , 2.  , 4.  , 2.  , 0.  , 4.  , 2.  ,\n",
       "       3.  , 0.  , 4.  , 2.  , 2.  , 2.  , 0.36, 2.  , 3.  , 2.  , 0.  ,\n",
       "       3.  , 2.  , 2.  , 4.  , 3.  , 2.  , 3.  , 0.08, 3.  , 2.  , 0.  ,\n",
       "       1.  , 3.  , 3.  , 3.  , 0.  , 0.  , 3.  , 2.  , 3.  , 3.  , 4.  ,\n",
       "       3.  , 2.  , 3.  , 2.  , 3.  , 0.  , 2.  , 3.  , 4.  , 3.  , 0.  ,\n",
       "       0.  , 0.  , 3.  , 4.  , 2.  , 3.  , 3.  , 2.  , 3.  , 2.  , 2.  ,\n",
       "       2.  , 2.  , 0.  , 4.  , 3.  , 2.  , 3.  , 0.  , 3.  , 2.  , 0.  ,\n",
       "       2.  , 1.  , 2.  , 2.  , 0.  , 2.  , 3.  , 0.  , 2.  , 2.  , 2.  ,\n",
       "       3.  , 2.  , 2.  , 2.  , 3.  , 2.  , 0.  , 3.  , 3.  , 4.  , 3.  ,\n",
       "       2.  , 2.  , 3.  , 0.  , 2.  , 2.  , 2.  , 3.  , 0.  , 2.  , 2.  ,\n",
       "       0.  , 3.  , 2.36, 0.  , 2.  , 1.  , 2.  , 0.  , 4.  , 2.  , 3.  ,\n",
       "       4.  , 2.  , 2.  , 3.  , 3.  , 2.  , 3.  , 2.  , 2.  , 3.  , 0.  ,\n",
       "       3.  , 3.  , 2.  , 3.  , 2.  , 3.  , 2.  , 2.  , 2.  , 0.  , 4.  ,\n",
       "       2.  , 3.  , 0.  , 3.  , 3.  , 3.  , 2.  , 0.  , 2.  , 2.  , 3.  ,\n",
       "       3.  , 2.  , 3.  , 0.  , 2.  , 2.  , 4.  , 0.  , 3.  , 3.  , 3.  ,\n",
       "       0.  , 2.  , 2.  , 2.  , 2.  , 2.  , 0.  , 0.  , 2.  , 2.  , 0.  ,\n",
       "       4.  , 0.08, 2.  , 0.  , 2.  , 2.  , 4.  , 3.  , 3.  , 3.  , 2.  ,\n",
       "       0.  , 2.  , 2.  , 0.  , 0.  , 2.  , 0.  , 4.  , 2.  , 0.  , 0.  ,\n",
       "       0.  , 2.  , 3.  , 3.  , 3.  , 2.  , 2.  , 0.  , 2.  , 2.  , 1.  ,\n",
       "       3.  , 3.  , 3.  , 2.  , 0.  , 0.  , 4.  , 0.36, 2.  , 2.  , 2.  ,\n",
       "       1.  , 2.  , 3.  , 0.  , 2.  , 4.  , 2.  , 2.  , 4.  , 0.  , 2.  ,\n",
       "       2.  , 2.  , 4.  , 3.  , 0.  , 2.  , 3.  , 1.44, 2.  , 3.  , 0.  ,\n",
       "       2.  , 0.32, 4.  , 2.  , 0.  , 2.  , 0.  , 3.  , 2.  , 2.  , 2.  ,\n",
       "       2.  , 3.  , 3.  , 3.  , 2.  , 2.  , 3.  , 3.97, 2.  , 2.  , 2.  ,\n",
       "       3.  , 3.  , 0.  , 2.  , 0.  , 2.  , 0.  , 2.  , 3.  , 2.  , 2.  ,\n",
       "       2.  , 3.  , 3.  , 3.  , 3.  , 3.  , 2.  , 2.  , 2.  , 3.  , 0.  ,\n",
       "       0.  , 0.08, 3.  , 2.  , 3.  , 0.  , 3.  , 3.  , 3.  , 2.  , 2.  ,\n",
       "       2.  , 2.  , 2.  , 3.  , 2.  , 3.  , 2.  , 2.  , 0.  , 2.  , 2.  ,\n",
       "       2.  , 0.  , 4.  , 3.  , 0.  , 4.  , 3.  , 0.  , 2.  , 3.  , 3.  ,\n",
       "       0.  , 2.  , 2.  , 0.  , 3.  , 1.  , 2.  , 0.  , 2.  , 3.  , 3.  ,\n",
       "       0.  , 2.  , 0.  , 4.  , 3.  , 3.  , 2.  , 0.  , 2.  , 2.  , 2.  ,\n",
       "       2.  , 0.  , 0.  , 4.  , 0.  , 3.  , 4.  , 4.  , 3.  , 2.  , 1.  ,\n",
       "       0.  , 0.  , 2.  , 2.  , 2.  , 0.  , 2.  , 3.  , 3.  , 2.  , 2.  ,\n",
       "       4.  , 3.  , 2.  , 0.  , 2.  , 2.  , 0.  , 3.  , 2.  , 2.  , 2.  ,\n",
       "       1.44, 3.  , 3.  , 4.  , 3.  , 2.  , 2.  , 3.  , 2.  , 3.  , 0.  ,\n",
       "       2.  , 2.  , 2.  , 2.  , 2.  , 3.  , 3.  , 3.  , 3.  , 2.  , 3.  ,\n",
       "       2.  , 2.  , 2.  , 0.04, 2.  , 2.  , 3.  , 2.  , 2.  , 1.  , 3.  ,\n",
       "       3.  , 2.  , 2.  , 2.  , 0.  , 3.  , 2.  , 3.  , 4.  , 0.  , 2.  ,\n",
       "       4.  , 0.  , 2.  , 3.  , 2.  , 2.  , 3.  , 3.  , 0.  , 2.  , 3.  ,\n",
       "       0.  , 3.  , 0.  , 3.  , 3.  , 2.  , 4.  , 3.  , 2.  , 3.  , 2.  ,\n",
       "       3.  , 0.  , 2.  , 3.  , 3.  , 3.  , 3.  , 2.  , 2.  , 2.  , 2.  ,\n",
       "       0.  , 2.  , 2.  , 3.  , 2.  , 2.  , 3.  , 3.  , 4.  , 0.  , 2.  ,\n",
       "       0.  , 3.  , 2.  , 0.  , 3.  , 3.  , 2.  , 0.  , 0.  , 1.  , 3.  ,\n",
       "       3.  , 2.  , 2.  , 2.  , 1.  , 3.  , 3.  , 2.  , 3.  , 0.  , 2.  ,\n",
       "       0.  , 3.  , 2.  , 0.  , 2.  , 0.  , 2.  , 0.  , 2.  , 3.  , 3.  ,\n",
       "       2.  , 2.  , 2.  , 2.  , 0.  , 2.  , 2.  , 3.  , 2.  , 2.  , 2.  ,\n",
       "       3.  , 3.  , 2.  , 0.  , 2.  , 3.  , 0.  , 2.  , 2.  , 4.  , 0.  ,\n",
       "       2.  , 3.  , 2.  , 3.  , 2.  , 2.  , 3.  , 2.  , 0.  , 2.  , 2.  ,\n",
       "       3.  , 2.  , 3.  , 3.  , 3.  , 2.  , 0.  , 2.  , 0.  , 4.  , 3.  ,\n",
       "       0.  , 4.  , 2.  , 2.  , 2.  , 2.  , 3.  , 3.  , 4.  , 0.  , 3.  ,\n",
       "       3.  , 3.  , 3.  , 0.  , 0.  , 3.96, 2.  , 3.  , 2.  , 3.  , 3.  ,\n",
       "       2.  , 0.  , 3.  , 2.  , 4.  , 0.  , 4.  , 4.  , 2.  , 0.  , 2.  ,\n",
       "       1.  , 2.  , 3.  , 2.  , 2.  , 0.  , 3.  , 3.  , 2.  , 2.  , 2.  ,\n",
       "       3.  , 4.  , 2.  , 3.  , 2.  , 2.  , 4.  , 0.  , 4.  , 2.  , 2.  ,\n",
       "       2.  , 4.  , 2.  , 0.  , 2.  , 2.  , 1.  , 2.  , 3.  , 0.  , 0.  ,\n",
       "       0.  , 2.  , 2.  , 2.  , 0.  , 2.  , 3.  , 3.  , 3.  , 3.  , 3.  ,\n",
       "       0.  , 1.  , 0.  , 2.  , 0.  , 3.  , 0.  , 2.  , 3.  , 3.  , 0.  ,\n",
       "       3.  , 2.  ])"
      ]
     },
     "execution_count": 136,
     "metadata": {},
     "output_type": "execute_result"
    }
   ],
   "source": [
    "y_pred = regressor.predict(x_test)\n",
    "y_pred"
   ]
  },
  {
   "cell_type": "code",
   "execution_count": 137,
   "id": "deac5e94",
   "metadata": {},
   "outputs": [
    {
     "data": {
      "text/plain": [
       "99.93"
      ]
     },
     "execution_count": 137,
     "metadata": {},
     "output_type": "execute_result"
    }
   ],
   "source": [
    "rf_accuracy = round(regressor.score(x_train,y_train)*100,2)\n",
    "rf_accuracy"
   ]
  },
  {
   "cell_type": "markdown",
   "id": "17eb9f2e",
   "metadata": {},
   "source": [
    "The Test Accuracy of RandomForestRegressor 99.93\n",
    "\n"
   ]
  },
  {
   "cell_type": "code",
   "execution_count": 138,
   "id": "25fee2f4",
   "metadata": {},
   "outputs": [
    {
     "data": {
      "text/plain": [
       "LinearRegression()"
      ]
     },
     "execution_count": 138,
     "metadata": {},
     "output_type": "execute_result"
    }
   ],
   "source": [
    "from sklearn.linear_model import LinearRegression\n",
    "regressor = LinearRegression()\n",
    "regressor.fit(x_train,y_train)"
   ]
  },
  {
   "cell_type": "code",
   "execution_count": 139,
   "id": "a52d21d1",
   "metadata": {
    "scrolled": false
   },
   "outputs": [
    {
     "data": {
      "text/plain": [
       "array([ 2.39156429e+00,  2.47769323e+00,  1.81854315e+00,  1.58439838e+00,\n",
       "        2.12772822e+00,  2.42005904e+00,  2.50283727e+00,  1.78858880e+00,\n",
       "        2.94385100e-04,  1.80123589e+00,  1.82365824e+00,  2.31288841e+00,\n",
       "        3.78286413e-01,  6.56622771e-01,  1.75907823e-02,  2.33870178e+00,\n",
       "        1.57606239e+00,  2.47756692e+00,  2.55282062e+00,  1.57217512e+00,\n",
       "        2.59507305e+00,  2.37392424e+00,  1.87716307e+00,  1.81913603e+00,\n",
       "        1.41511216e+00,  2.47813322e+00,  2.34657676e+00,  2.92096106e+00,\n",
       "        1.72824140e-02,  1.60642151e+00,  2.97967770e+00,  2.93039764e+00,\n",
       "        1.62631530e+00,  1.57221286e+00,  2.48204590e+00,  2.55919220e+00,\n",
       "        2.19551866e+00,  2.48499620e+00,  2.60586240e+00,  2.41353557e+00,\n",
       "        2.72626793e+00,  2.37792607e+00,  2.70315319e+00,  2.62609009e+00,\n",
       "        2.34086455e+00,  2.33672562e+00,  2.71285018e+00,  1.92511335e+00,\n",
       "        1.47568543e+00,  5.86937943e-01,  2.48354554e+00,  1.87344952e+00,\n",
       "        1.60216640e+00,  2.40418614e+00,  2.12806412e+00,  1.16517086e-01,\n",
       "        2.12323307e+00,  2.47813322e+00,  2.88365626e+00,  2.38041350e+00,\n",
       "        2.20934175e+00,  2.51711534e+00,  2.37221081e+00,  2.61751531e+00,\n",
       "        2.97968727e+00,  2.34405466e+00,  1.53080672e+00,  2.56073241e+00,\n",
       "        2.68898940e+00,  2.83098809e+00,  1.86648074e+00,  1.62359491e+00,\n",
       "        2.34547513e+00,  1.87965673e+00,  2.49024340e+00,  1.82726727e+00,\n",
       "        2.01132513e+00,  1.56124456e+00,  2.45873752e+00,  2.60659852e+00,\n",
       "        2.49382819e-02,  2.45495387e+00,  2.52632976e+00,  1.91201201e+00,\n",
       "        1.67796415e+00,  1.31447928e+00,  2.55282062e+00,  2.20770089e+00,\n",
       "        1.88288080e+00,  1.83348813e+00,  2.53919710e+00, -6.71332833e-02,\n",
       "        2.80050242e+00,  1.31790342e+00,  1.43110995e+00,  2.72628708e+00,\n",
       "        2.78336642e+00,  2.24003422e+00,  2.51832642e+00,  1.89194189e+00,\n",
       "        2.35032444e+00,  1.64566657e+00,  2.56246927e+00,  1.60370926e+00,\n",
       "        1.90548216e+00,  2.25438784e+00,  1.37449281e+00,  1.89164898e+00,\n",
       "        3.04631464e+00,  2.67088983e+00,  2.40107621e+00,  6.15846068e-01,\n",
       "        2.24535166e+00,  1.97738872e+00,  2.56468698e+00,  1.89604074e+00,\n",
       "        7.17777463e-01,  1.91014932e+00,  1.37449281e+00,  2.28364325e+00,\n",
       "        1.85726568e+00,  1.82946986e+00,  1.55758694e+00,  1.39529177e+00,\n",
       "        2.17737836e+00,  2.09199683e+00,  4.97540904e-01,  2.00741585e+00,\n",
       "        5.24158471e-01,  2.17728263e+00,  2.24405191e+00,  2.75096402e+00,\n",
       "        1.79008588e-01,  2.33148534e+00,  2.18117576e+00,  2.69312314e+00,\n",
       "        2.40053907e+00,  1.56751345e+00,  1.40263968e+00,  2.66396654e+00,\n",
       "        1.95454913e+00,  2.76535752e+00,  1.56124456e+00,  1.80696683e+00,\n",
       "        2.10292420e+00,  1.58447496e+00,  1.31557259e+00,  1.83969363e+00,\n",
       "        1.58787184e+00,  2.54596244e+00,  1.89164898e+00,  1.91416883e+00,\n",
       "        2.43107733e+00,  1.50855916e+00,  1.36957055e+00,  2.40989030e+00,\n",
       "        2.02194708e+00,  2.02535671e+00,  2.04898192e+00,  2.46043041e+00,\n",
       "        2.29527937e+00,  1.96135506e+00,  1.91017255e+00,  1.57497655e-01,\n",
       "        2.90197405e+00,  1.93743231e+00,  2.47259234e+00,  1.30951473e-02,\n",
       "        1.55699184e+00,  2.38331209e+00,  1.56751345e+00,  1.53277131e+00,\n",
       "        2.41829961e+00,  2.46301630e+00,  2.52276888e+00,  2.49230732e+00,\n",
       "        2.29743395e+00,  8.62162191e-01,  2.51486430e+00,  1.83304570e+00,\n",
       "        2.71694220e+00,  2.29559930e+00,  3.04339703e+00,  2.68847104e+00,\n",
       "        2.39259370e+00,  1.78858880e+00,  1.41287704e+00,  2.17206791e+00,\n",
       "        1.83379075e+00,  2.30753515e+00,  1.53277131e+00,  1.88171531e+00,\n",
       "        1.65448362e+00,  2.51798744e+00,  1.86088112e+00,  1.62631530e+00,\n",
       "        1.25776172e+00,  2.79672668e+00,  6.21058599e-01,  2.39809096e+00,\n",
       "        1.88872164e+00,  2.11365796e+00,  2.28439408e+00,  2.42769547e+00,\n",
       "        2.47813322e+00,  2.41455197e+00,  2.39093459e+00,  2.17213492e+00,\n",
       "        1.83155647e+00,  2.69449503e+00,  1.76627452e+00,  5.86937943e-01,\n",
       "        2.66398569e+00,  2.08361084e+00,  2.31567555e+00,  5.82276274e-01,\n",
       "        2.59341330e+00,  2.60586240e+00,  2.42807577e+00,  2.97340605e+00,\n",
       "        2.75359405e+00,  2.67566155e+00,  1.56050522e+00,  2.96867736e+00,\n",
       "        2.20926516e+00,  2.77994018e+00,  2.55919220e+00,  1.53640126e+00,\n",
       "        2.49840645e+00,  2.13165543e-01,  2.57951822e+00,  1.58970151e+00,\n",
       "        2.76212476e+00,  2.44913945e+00,  2.34254476e+00,  2.39601344e+00,\n",
       "        1.86499387e+00,  2.42005904e+00,  2.47466200e+00,  2.98397137e+00,\n",
       "        2.29555144e+00,  2.61732267e+00,  2.17218279e+00,  1.85611978e+00,\n",
       "        2.05900994e+00,  2.95465851e+00,  1.55758694e+00,  2.74985145e+00,\n",
       "        1.37437808e+00,  1.85726568e+00,  2.00278290e+00,  2.41406690e+00,\n",
       "        2.16586607e+00,  2.32272064e+00,  1.91490855e+00,  5.64732752e-02,\n",
       "        2.22239766e+00,  2.38371794e+00,  1.86638301e+00,  1.31557259e+00,\n",
       "        2.05906738e+00,  1.60370926e+00,  1.36490888e+00,  2.47769323e+00,\n",
       "        2.31814755e+00,  1.56165350e+00,  1.39512272e+00,  2.52622445e+00,\n",
       "        1.97674622e+00,  2.35828280e+00,  5.93978968e-01,  2.43609444e+00,\n",
       "        2.41881836e+00,  2.32626657e+00,  1.59785266e+00,  2.50281812e+00,\n",
       "        1.88474969e+00,  1.85254839e+00,  1.29301603e+00,  2.80838643e+00,\n",
       "        1.97216897e+00,  2.39886954e+00,  2.02766126e-02,  2.79350642e+00,\n",
       "        2.45990557e+00,  1.55330447e+00,  6.70176039e-01,  2.55282062e+00,\n",
       "        3.01253013e+00,  2.52887107e+00,  4.95605442e-03, -2.90167792e-02,\n",
       "        2.36754914e+00,  1.91438285e+00,  2.98988620e+00,  2.56339606e+00,\n",
       "        1.37449281e+00,  2.66622669e+00,  2.35316911e+00,  2.32280922e+00,\n",
       "        2.49658610e+00,  2.51111286e+00,  1.54908181e+00,  1.88171531e+00,\n",
       "        3.01526403e+00,  1.40040456e+00,  2.49422647e+00,  1.53807199e+00,\n",
       "        1.53640126e+00,  1.57217512e+00,  2.86363588e+00,  1.26978347e+00,\n",
       "        1.90602498e+00,  2.75201956e+00,  2.57753388e+00,  2.52717101e+00,\n",
       "        2.56102693e+00,  2.29561845e+00,  2.51711534e+00,  1.91028743e+00,\n",
       "        1.97760616e+00,  1.56165350e+00,  1.31049053e+00,  2.44382612e+00,\n",
       "        1.90496700e+00,  2.88809778e+00,  1.55758694e+00,  2.94161273e+00,\n",
       "        1.98778289e+00,  1.62359491e+00,  2.45272125e+00,  6.29127077e-01,\n",
       "        2.52717101e+00,  2.22548445e+00,  1.39782659e-01,  2.04119065e+00,\n",
       "        2.55547263e+00,  1.64568571e+00,  2.42944651e+00,  1.88431840e+00,\n",
       "        2.02194708e+00,  2.72624878e+00,  1.88171531e+00,  2.34402594e+00,\n",
       "        2.15712538e+00,  2.68893196e+00,  1.90555409e+00,  5.59351761e-01,\n",
       "        2.31288841e+00,  2.60830484e+00,  1.30981761e+00,  2.31288841e+00,\n",
       "        1.84790660e+00,  2.49230732e+00,  2.92245515e+00,  6.85778832e-01,\n",
       "        2.11692547e+00,  1.90962867e+00,  1.81865506e+00,  2.98573027e+00,\n",
       "        2.28405688e-01,  2.40989030e+00,  2.45354268e+00,  1.49512734e+00,\n",
       "        2.49422647e+00,  9.12245870e-01,  1.53080672e+00,  2.40989030e+00,\n",
       "        6.04852054e-01,  2.06372905e+00,  1.52714156e+00,  1.26768235e+00,\n",
       "        1.91324506e+00,  2.44382612e+00,  1.40040456e+00,  2.37609491e+00,\n",
       "        1.88470182e+00,  2.87734215e+00,  2.34254476e+00,  2.52056154e+00,\n",
       "        2.45899561e+00,  2.04257484e+00,  2.34398765e+00,  2.64812332e+00,\n",
       "        1.15796303e-01,  2.38233580e+00,  2.95932975e+00,  2.48358319e+00,\n",
       "        2.85586404e+00,  1.90061815e+00,  2.82832483e+00,  1.83155647e+00,\n",
       "        1.76728308e+00,  1.82560628e+00,  1.63677860e+00,  1.28644723e+00,\n",
       "        1.87410642e+00,  2.47813322e+00,  2.68152377e-01,  2.51046960e+00,\n",
       "        2.78133548e+00,  2.53756602e+00,  1.90545344e+00,  2.21931506e-01,\n",
       "        2.15720196e+00,  2.29557058e+00,  2.97966812e+00,  2.54381839e+00,\n",
       "        1.88094436e+00,  2.51486430e+00,  1.52180360e+00,  2.46047828e+00,\n",
       "        2.36545396e+00,  1.41287704e+00,  3.40335446e-01,  2.83101681e+00,\n",
       "        2.92245515e+00,  2.51486430e+00,  1.65448362e+00,  2.40337920e+00,\n",
       "        1.91068665e+00,  1.90149629e+00,  2.03870556e+00,  2.39601344e+00,\n",
       "        8.27816327e-02,  1.58728735e+00,  2.19883059e+00,  2.43554757e+00,\n",
       "        1.52126804e+00,  1.27250258e+00,  2.34651868e-02,  2.37856520e+00,\n",
       "        1.53002075e+00,  1.91438285e+00,  2.53164125e+00,  1.33004953e+00,\n",
       "        2.77998804e+00,  2.45495387e+00,  2.75567356e+00,  1.88288080e+00,\n",
       "        1.58970151e+00,  2.40349509e+00,  2.38300080e+00,  1.63677860e+00,\n",
       "        1.52126804e+00,  1.86960524e+00,  4.65325947e-01,  1.43110995e+00,\n",
       "        2.30010780e+00,  1.67795457e+00,  1.60370926e+00,  1.53080672e+00,\n",
       "        2.48553180e+00,  2.68895111e+00,  2.38233580e+00,  3.04629549e+00,\n",
       "        2.35828280e+00,  2.47000033e+00,  4.67064590e-01,  1.80823768e+00,\n",
       "        1.91638154e+00,  5.96801936e-01,  2.71286932e+00,  2.54381839e+00,\n",
       "        2.92302782e+00,  2.36847415e+00,  1.58728735e+00,  6.35179050e-01,\n",
       "        1.29368895e+00, -1.33329579e-02,  2.38707575e+00,  2.10760502e+00,\n",
       "        2.33144705e+00,  5.77964506e-01,  2.10758587e+00,  2.95923402e+00,\n",
       "        1.67797372e+00,  2.46285190e+00,  1.28868235e+00,  2.15711581e+00,\n",
       "        1.86613079e+00,  1.28644723e+00,  1.14087167e-01,  1.89915092e+00,\n",
       "        1.78858880e+00,  1.87851635e+00,  1.31557259e+00,  2.55282062e+00,\n",
       "        1.22485373e-01,  2.40989030e+00,  2.60917768e+00,  1.01860817e+00,\n",
       "        2.35828280e+00,  2.41829961e+00,  1.63361878e+00,  2.45816151e+00,\n",
       "        2.41679438e-01,  1.37427278e+00,  1.87344952e+00,  1.50855916e+00,\n",
       "        2.42769547e+00,  1.52714156e+00,  2.58652800e+00,  1.90962867e+00,\n",
       "        1.87851635e+00,  2.07894917e+00,  1.90873636e+00,  2.52654023e+00,\n",
       "        2.70015218e+00,  2.96302071e+00,  2.36288779e+00,  1.92663644e+00,\n",
       "        2.57109652e+00,  1.23655962e+00,  2.29561845e+00,  2.47400900e+00,\n",
       "        2.19539421e+00,  2.38233580e+00,  2.39886954e+00,  3.99181706e-01,\n",
       "        2.29558973e+00,  1.58448454e+00,  2.20930346e+00,  1.49512734e+00,\n",
       "        2.44346010e+00,  2.41457936e+00,  2.02535671e+00,  2.07244382e+00,\n",
       "        2.09772360e+00,  2.49422647e+00,  2.54385633e+00,  2.55198878e+00,\n",
       "        2.31755008e+00,  3.01256842e+00,  1.99586558e+00,  1.81647924e+00,\n",
       "        2.52299766e+00,  2.96299199e+00,  1.52180360e+00,  2.23918998e-01,\n",
       "       -2.42280132e-02,  2.56332905e+00,  2.46483665e+00,  2.87244900e+00,\n",
       "        5.38616012e-01,  2.60586240e+00,  2.94210710e+00,  2.47592681e+00,\n",
       "        1.82449921e+00,  2.42005904e+00,  2.27945272e+00,  2.15301511e+00,\n",
       "        2.39587740e+00,  2.58669074e+00,  1.89195147e+00,  2.54253576e+00,\n",
       "        2.33230851e+00,  2.45040861e+00,  2.17925944e-01,  2.21585122e+00,\n",
       "        2.14172812e+00,  1.91438285e+00,  1.54500796e+00,  1.39529177e+00,\n",
       "        2.97965855e+00,  1.52126804e+00,  1.33004953e+00,  2.75887319e+00,\n",
       "        1.49512734e+00,  1.88288080e+00,  2.72813990e+00,  2.92092583e+00,\n",
       "        6.10138895e-01,  2.49024340e+00,  2.44261597e+00,  1.57606239e+00,\n",
       "        2.80318576e+00,  6.54291936e-01,  2.29258056e+00,  1.49203271e+00,\n",
       "        1.85254839e+00,  2.60917768e+00,  2.79724371e+00,  1.59801402e+00,\n",
       "        1.84797040e+00,  2.13165543e-01,  1.33007315e+00,  2.42694187e+00,\n",
       "        2.60642858e+00,  2.38966628e+00,  1.57140072e+00,  2.47103394e+00,\n",
       "        2.41072020e+00,  1.91638154e+00,  2.26955175e+00,  2.52998509e-01,\n",
       "        1.58437923e+00,  1.38488910e+00,  1.57140072e+00,  2.56145513e+00,\n",
       "        1.31447928e+00,  1.30981761e+00,  2.37207118e+00,  2.09669116e+00,\n",
       "        5.94471101e-01,  1.57140072e+00,  1.55879278e+00,  1.87994442e+00,\n",
       "        2.37856520e+00,  2.38705649e+00,  1.52180360e+00,  2.45050434e+00,\n",
       "        2.62304412e+00,  2.45899561e+00,  2.40053907e+00,  2.12174057e+00,\n",
       "        1.30981761e+00,  2.56338649e+00,  2.40698872e+00,  5.37355503e-01,\n",
       "        2.48204590e+00,  2.35828280e+00,  1.63361878e+00,  2.45503116e+00,\n",
       "        1.98369638e+00,  2.21290489e+00,  2.47769323e+00,  1.03549065e+00,\n",
       "        2.37445207e+00,  2.47580238e+00,  1.37441638e+00,  2.86996606e+00,\n",
       "        2.28048827e+00,  1.83304570e+00,  2.84159583e+00,  2.32467013e+00,\n",
       "        2.56104608e+00,  1.56154845e+00,  2.47769323e+00,  1.91438285e+00,\n",
       "        2.17740708e+00,  1.90649644e+00,  1.96369838e+00,  2.37207118e+00,\n",
       "        2.62294839e+00,  3.00783017e+00,  2.61731310e+00,  1.89268182e+00,\n",
       "        2.98857560e+00,  2.52633933e+00,  2.40345578e+00,  1.89915092e+00,\n",
       "        3.96777283e-01,  2.34657676e+00,  2.19416892e+00,  2.62370352e+00,\n",
       "        1.94255390e+00,  1.94838456e+00,  6.46358151e-01,  2.54381839e+00,\n",
       "        2.33788309e+00,  1.88902623e+00,  2.52631061e+00,  2.01189192e+00,\n",
       "        1.55879278e+00,  2.38690262e+00,  2.28354752e+00,  2.55198878e+00,\n",
       "        1.26768235e+00,  1.50620084e-01,  2.04895320e+00,  1.39512272e+00,\n",
       "        3.86841965e-01,  2.34011462e+00,  2.68895111e+00,  2.47769323e+00,\n",
       "        1.90612720e+00,  2.50284684e+00,  2.53755645e+00,  1.56165350e+00,\n",
       "        1.78113259e+00,  2.56647314e+00,  1.67793543e+00,  2.37673285e+00,\n",
       "        1.62359491e+00,  2.97125757e+00,  2.44382612e+00,  2.49420572e+00,\n",
       "        1.26307758e+00,  2.77067909e+00,  2.40864782e+00,  2.52887107e+00,\n",
       "        2.44261597e+00,  2.45666478e+00,  2.42827108e-01,  1.90138142e+00,\n",
       "        2.66621712e+00,  2.26769958e+00,  2.92245515e+00,  2.44382612e+00,\n",
       "        1.97871531e+00,  2.37060669e+00,  1.83304570e+00,  2.47769323e+00,\n",
       "        8.97877710e-02,  2.00704722e+00,  2.32656986e+00,  3.00784931e+00,\n",
       "        2.38707575e+00,  2.00704722e+00,  2.52887107e+00,  2.76384518e+00,\n",
       "        1.40040456e+00,  1.50855916e+00,  2.35012722e+00,  5.00618921e-01,\n",
       "        2.76855472e+00,  2.10757630e+00,  4.66369757e-02,  2.45444880e+00,\n",
       "        2.45666478e+00,  2.12187460e+00,  1.50855916e+00,  1.56751345e+00,\n",
       "        6.54291936e-01,  2.28195089e+00,  2.52654023e+00,  2.28050742e+00,\n",
       "        2.34406423e+00,  2.18851754e+00,  6.54291936e-01,  3.00536514e+00,\n",
       "        2.85521066e+00,  2.19283461e+00,  2.89915942e+00,  1.60370926e+00,\n",
       "        1.81899657e+00,  1.59739449e+00,  2.88244312e+00,  2.52276888e+00,\n",
       "        1.55699184e+00,  1.90554451e+00,  1.57140072e+00,  2.44812177e+00,\n",
       "        1.59335235e+00,  2.37060669e+00,  2.84461800e+00,  2.92769907e+00,\n",
       "        2.10555888e+00,  2.37856520e+00,  2.53197624e+00,  2.16782867e+00,\n",
       "        1.66153769e+00,  2.10761459e+00,  1.80705198e+00,  2.36916684e+00,\n",
       "        2.29264757e+00,  1.82970303e+00,  2.10294335e+00,  2.58653757e+00,\n",
       "        2.34254476e+00,  1.86613079e+00,  5.56335763e-01,  2.54298952e+00,\n",
       "        2.51068320e+00,  1.66153769e+00,  1.82806147e+00,  2.49024340e+00,\n",
       "        1.39512272e+00,  1.52126804e+00,  2.44826383e+00,  2.60205970e+00,\n",
       "        1.81066316e+00,  2.67563283e+00,  2.21911094e+00,  2.28427920e+00,\n",
       "        2.54018339e+00,  2.47000033e+00,  1.60012605e+00,  2.38504645e+00,\n",
       "        1.85611978e+00,  2.28195089e+00,  1.94855481e+00,  2.55198878e+00,\n",
       "        2.47872578e+00,  2.63753757e+00,  2.35020381e+00,  4.75900926e-01,\n",
       "        2.51754820e+00,  1.56165350e+00,  1.32966388e+00,  2.60917768e+00,\n",
       "        1.53002075e+00,  1.37449281e+00,  2.39587740e+00,  2.41605576e+00,\n",
       "        2.34011462e+00,  2.17784570e+00,  2.96765366e+00,  2.53461552e+00,\n",
       "        1.33004953e+00,  2.42807962e-01,  2.60586240e+00,  2.87238199e+00,\n",
       "        2.37445207e+00,  2.47813322e+00,  4.27305185e-02,  1.48737105e+00,\n",
       "        1.54259551e+00,  1.88245954e+00,  2.59739803e+00,  2.43554757e+00,\n",
       "        2.91056873e+00,  2.39156429e+00,  2.56474442e+00,  1.54500796e+00,\n",
       "        2.54676437e+00,  2.08943600e+00,  1.40040456e+00,  1.53640126e+00,\n",
       "        1.37663233e+00,  1.37973458e+00,  1.97760616e+00,  1.06153382e-01,\n",
       "        2.32656986e+00,  6.56622771e-01,  1.87715126e+00,  2.37221081e+00,\n",
       "        1.98407279e+00,  2.27943358e+00,  1.33710571e-01,  2.96661505e+00,\n",
       "        2.56127653e+00,  2.49840645e+00,  1.85723205e+00,  2.14345914e+00,\n",
       "        2.97967770e+00,  1.33037509e+00,  2.56948267e+00,  2.61157958e+00,\n",
       "        1.88976421e+00,  1.94838456e+00,  1.29334402e+00,  1.53640126e+00,\n",
       "        1.40263968e+00,  1.90612720e+00,  2.44913945e+00,  2.28425048e+00,\n",
       "        1.37673764e+00,  2.18611205e+00,  1.63361878e+00,  1.81647924e+00,\n",
       "        1.80705198e+00,  6.62894590e-01,  1.80705198e+00,  2.94157444e+00,\n",
       "        1.58787184e+00,  5.13839430e-01,  1.15503235e-01,  1.90456384e+00,\n",
       "        2.42220775e+00,  1.85727034e+00,  1.66153769e+00,  1.90612720e+00,\n",
       "        2.88606176e+00,  2.56646357e+00,  2.75886362e+00,  2.78232175e+00,\n",
       "        2.54385633e+00,  6.00611812e-01,  5.82971694e-01,  1.58728735e+00,\n",
       "        1.92511335e+00,  1.67794500e+00,  2.83099766e+00,  1.59739449e+00,\n",
       "        1.81913603e+00,  2.54676437e+00,  2.40274435e+00,  1.76841911e-01,\n",
       "        2.26685460e+00,  2.46483665e+00])"
      ]
     },
     "execution_count": 139,
     "metadata": {},
     "output_type": "execute_result"
    }
   ],
   "source": [
    "y_pred = regressor.predict(x_test)\n",
    "y_pred"
   ]
  },
  {
   "cell_type": "code",
   "execution_count": 140,
   "id": "2cafba85",
   "metadata": {},
   "outputs": [
    {
     "data": {
      "text/plain": [
       "38.2"
      ]
     },
     "execution_count": 140,
     "metadata": {},
     "output_type": "execute_result"
    }
   ],
   "source": [
    "lr_accuracy = round(regressor.score(x_train,y_train)*100,2)\n",
    "lr_accuracy"
   ]
  },
  {
   "cell_type": "markdown",
   "id": "3d36e429",
   "metadata": {},
   "source": [
    "The Test Accuracy of LinearRegression is 38.17\n",
    "\n"
   ]
  },
  {
   "cell_type": "code",
   "execution_count": 141,
   "id": "04da8296",
   "metadata": {},
   "outputs": [
    {
     "data": {
      "text/plain": [
       "GaussianNB()"
      ]
     },
     "execution_count": 141,
     "metadata": {},
     "output_type": "execute_result"
    }
   ],
   "source": [
    "from sklearn.naive_bayes import GaussianNB\n",
    "regressor = GaussianNB()\n",
    "regressor.fit(x_train,y_train)"
   ]
  },
  {
   "cell_type": "code",
   "execution_count": 142,
   "id": "e0ce0246",
   "metadata": {},
   "outputs": [
    {
     "data": {
      "text/plain": [
       "array([3, 2, 2, 0, 2, 2, 3, 2, 0, 2, 2, 3, 0, 1, 0, 2, 0, 2, 3, 0, 3, 3,\n",
       "       2, 2, 4, 3, 2, 3, 0, 0, 3, 3, 0, 0, 2, 3, 2, 3, 3, 2, 3, 3, 3, 3,\n",
       "       2, 3, 3, 2, 4, 0, 2, 2, 0, 2, 2, 0, 2, 3, 3, 2, 2, 2, 3, 3, 3, 2,\n",
       "       0, 2, 3, 3, 2, 0, 2, 2, 2, 2, 2, 0, 2, 3, 0, 3, 2, 2, 0, 4, 3, 2,\n",
       "       2, 2, 2, 0, 3, 4, 4, 3, 3, 2, 2, 2, 2, 0, 3, 0, 2, 2, 4, 2, 3, 3,\n",
       "       2, 0, 2, 2, 2, 2, 1, 2, 4, 2, 2, 2, 0, 4, 2, 2, 0, 2, 0, 2, 2, 3,\n",
       "       0, 2, 2, 3, 2, 0, 4, 3, 2, 3, 0, 2, 2, 0, 4, 2, 0, 3, 2, 2, 2, 0,\n",
       "       4, 2, 2, 2, 2, 2, 2, 2, 2, 0, 3, 2, 2, 0, 0, 3, 0, 0, 3, 2, 2, 2,\n",
       "       2, 0, 3, 2, 3, 2, 3, 3, 2, 2, 4, 2, 2, 2, 0, 2, 0, 3, 2, 0, 4, 3,\n",
       "       0, 3, 2, 2, 2, 2, 3, 2, 2, 2, 2, 3, 2, 0, 3, 2, 3, 0, 3, 3, 2, 3,\n",
       "       3, 3, 0, 3, 2, 3, 3, 0, 2, 0, 3, 0, 3, 2, 3, 2, 2, 2, 2, 3, 2, 3,\n",
       "       2, 2, 2, 3, 0, 3, 4, 2, 2, 3, 2, 3, 2, 0, 2, 2, 2, 4, 2, 0, 4, 2,\n",
       "       3, 0, 4, 2, 2, 2, 1, 2, 3, 2, 0, 3, 2, 2, 4, 3, 2, 3, 0, 3, 2, 0,\n",
       "       1, 3, 3, 3, 0, 0, 3, 2, 3, 3, 4, 3, 2, 3, 2, 3, 0, 2, 3, 4, 3, 0,\n",
       "       0, 0, 3, 4, 2, 3, 3, 2, 3, 2, 2, 2, 2, 0, 4, 3, 2, 3, 0, 3, 2, 0,\n",
       "       2, 1, 2, 2, 0, 2, 3, 0, 2, 2, 2, 3, 2, 2, 2, 3, 2, 0, 3, 3, 4, 3,\n",
       "       2, 2, 3, 0, 2, 2, 2, 3, 0, 2, 2, 0, 3, 0, 0, 2, 1, 2, 0, 4, 2, 3,\n",
       "       4, 2, 2, 3, 3, 2, 3, 2, 2, 3, 0, 3, 3, 2, 3, 2, 3, 2, 2, 2, 0, 4,\n",
       "       2, 3, 0, 3, 3, 3, 2, 0, 2, 2, 3, 3, 2, 3, 0, 2, 2, 4, 0, 3, 3, 3,\n",
       "       0, 2, 2, 2, 2, 2, 0, 0, 2, 2, 0, 4, 0, 2, 0, 2, 2, 4, 3, 3, 3, 2,\n",
       "       0, 2, 2, 0, 0, 2, 0, 4, 2, 0, 0, 0, 2, 3, 3, 3, 2, 2, 0, 2, 2, 1,\n",
       "       3, 3, 3, 2, 0, 0, 4, 0, 2, 2, 2, 1, 2, 3, 0, 2, 4, 2, 2, 4, 0, 2,\n",
       "       2, 2, 4, 3, 0, 2, 3, 0, 2, 3, 0, 2, 0, 4, 2, 0, 2, 0, 3, 2, 2, 2,\n",
       "       2, 3, 3, 3, 2, 2, 3, 4, 2, 2, 2, 3, 3, 0, 2, 0, 2, 0, 2, 3, 2, 2,\n",
       "       2, 3, 3, 3, 3, 3, 2, 2, 2, 3, 0, 0, 0, 3, 2, 3, 0, 3, 3, 3, 2, 2,\n",
       "       2, 2, 2, 3, 2, 3, 2, 2, 0, 2, 2, 2, 0, 4, 3, 0, 4, 3, 0, 2, 3, 3,\n",
       "       0, 2, 2, 0, 3, 1, 2, 0, 2, 3, 3, 0, 2, 0, 4, 3, 3, 2, 0, 2, 2, 2,\n",
       "       2, 0, 0, 4, 0, 3, 4, 4, 3, 2, 1, 0, 0, 2, 2, 2, 0, 2, 3, 3, 2, 2,\n",
       "       4, 3, 2, 0, 2, 2, 0, 3, 2, 2, 2, 0, 3, 3, 4, 3, 2, 2, 3, 2, 3, 0,\n",
       "       2, 2, 2, 2, 2, 3, 3, 3, 3, 2, 3, 2, 2, 2, 0, 2, 2, 3, 2, 2, 1, 3,\n",
       "       3, 2, 2, 2, 0, 3, 2, 3, 4, 0, 2, 4, 0, 2, 3, 2, 2, 3, 3, 0, 2, 3,\n",
       "       0, 3, 0, 3, 3, 2, 4, 3, 2, 3, 2, 3, 0, 2, 3, 3, 3, 3, 2, 2, 2, 2,\n",
       "       0, 2, 2, 3, 2, 2, 3, 3, 4, 0, 2, 0, 3, 2, 0, 3, 3, 2, 0, 0, 1, 3,\n",
       "       3, 2, 2, 2, 1, 3, 3, 2, 3, 0, 2, 0, 3, 2, 0, 2, 0, 2, 0, 2, 3, 3,\n",
       "       2, 2, 2, 2, 0, 2, 2, 3, 2, 2, 2, 3, 3, 2, 0, 2, 3, 0, 2, 2, 4, 0,\n",
       "       2, 3, 2, 3, 2, 2, 3, 2, 0, 2, 2, 3, 2, 3, 3, 3, 2, 0, 2, 0, 4, 3,\n",
       "       0, 4, 2, 2, 2, 2, 3, 3, 4, 0, 3, 3, 3, 3, 0, 0, 4, 2, 3, 2, 3, 3,\n",
       "       2, 0, 3, 2, 4, 0, 4, 4, 2, 0, 2, 1, 2, 3, 2, 2, 0, 3, 3, 2, 2, 2,\n",
       "       3, 4, 2, 3, 2, 2, 4, 0, 4, 2, 2, 2, 4, 2, 0, 2, 2, 1, 2, 3, 0, 0,\n",
       "       0, 2, 2, 2, 0, 2, 3, 3, 3, 3, 3, 0, 1, 0, 2, 0, 3, 0, 2, 3, 3, 0,\n",
       "       3, 2])"
      ]
     },
     "execution_count": 142,
     "metadata": {},
     "output_type": "execute_result"
    }
   ],
   "source": [
    "y_pred = regressor.predict(x_test)\n",
    "y_pred"
   ]
  },
  {
   "cell_type": "code",
   "execution_count": 143,
   "id": "ec0b7e00",
   "metadata": {},
   "outputs": [
    {
     "data": {
      "text/plain": [
       "99.89"
      ]
     },
     "execution_count": 143,
     "metadata": {},
     "output_type": "execute_result"
    }
   ],
   "source": [
    "nb_accuracy = round(regressor.score(x_train,y_train)*100,2)\n",
    "nb_accuracy"
   ]
  },
  {
   "cell_type": "markdown",
   "id": "d1a1df0d",
   "metadata": {},
   "source": [
    "The Test Accuracy of GaussianNB is 99.89\n",
    "\n"
   ]
  },
  {
   "cell_type": "code",
   "execution_count": 144,
   "id": "85b107d6",
   "metadata": {},
   "outputs": [
    {
     "data": {
      "text/plain": [
       "SVR()"
      ]
     },
     "execution_count": 144,
     "metadata": {},
     "output_type": "execute_result"
    }
   ],
   "source": [
    "from sklearn.svm import SVR\n",
    "regressor = SVR()\n",
    "regressor.fit(x_train,y_train)"
   ]
  },
  {
   "cell_type": "code",
   "execution_count": 145,
   "id": "b8d9850a",
   "metadata": {
    "scrolled": false
   },
   "outputs": [
    {
     "data": {
      "text/plain": [
       "array([2.03306799, 2.09998723, 2.09857033, 2.09992572, 1.84646294,\n",
       "       2.08706214, 1.98040359, 2.10534042, 2.02150972, 2.00984571,\n",
       "       2.09490448, 2.0561183 , 1.85225443, 1.94877978, 1.94774349,\n",
       "       2.06231829, 1.79917123, 2.09031934, 2.07080531, 2.03068773,\n",
       "       2.03639358, 1.99188056, 1.92072209, 1.9921784 , 2.0267423 ,\n",
       "       1.98711203, 2.04479948, 2.09272895, 1.96076102, 2.05099768,\n",
       "       2.22420265, 2.32589878, 1.90022077, 2.01347951, 2.10873452,\n",
       "       2.06870275, 2.07221099, 1.94070107, 1.81546118, 2.07119356,\n",
       "       2.2379639 , 1.70329326, 2.09090363, 2.0482857 , 2.05174264,\n",
       "       1.95166152, 2.13712083, 2.03802011, 2.28501545, 2.06484124,\n",
       "       2.10734375, 1.83302833, 2.03003228, 2.10340134, 1.87138853,\n",
       "       1.57139761, 2.09118429, 1.98711203, 2.06958059, 2.10837451,\n",
       "       2.10318239, 2.11471846, 1.91260686, 1.91740856, 2.22559309,\n",
       "       2.09108238, 1.64625104, 2.20627945, 2.00648456, 2.32175517,\n",
       "       1.9086553 , 1.91911501, 2.1214287 , 2.0562113 , 2.09749112,\n",
       "       2.09060566, 2.11490279, 1.89714989, 2.08903475, 2.11118078,\n",
       "       1.95307431, 2.00724007, 2.05005901, 1.95696456, 2.13973959,\n",
       "       2.11016927, 2.07080531, 1.89531252, 1.51236658, 1.87136887,\n",
       "       2.10830259, 2.04654745, 2.29827305, 2.2250677 , 2.04996296,\n",
       "       2.23807233, 2.26270246, 2.05840717, 2.06704598, 1.94605261,\n",
       "       2.21631126, 2.11950942, 2.00210684, 2.03408521, 2.00636554,\n",
       "       2.12118559, 2.23013538, 1.50097169, 2.31429662, 2.07920122,\n",
       "       2.09466124, 2.07503801, 2.10759063, 2.07054717, 2.08148991,\n",
       "       1.92019436, 2.10278893, 1.92197719, 2.23013538, 2.20831915,\n",
       "       2.06883771, 2.0685183 , 1.68498073, 2.10104878, 2.07547745,\n",
       "       1.88684107, 2.00807976, 2.0949798 , 2.28579735, 2.08094041,\n",
       "       2.02876536, 2.24590761, 1.98043093, 2.08548399, 1.93548129,\n",
       "       1.92211144, 2.06521189, 2.03067011, 2.08255061, 2.14375778,\n",
       "       2.1164196 , 2.06943833, 1.89714989, 1.99011815, 2.07529936,\n",
       "       2.1005415 , 2.22508307, 2.07521175, 2.04936807, 2.07287921,\n",
       "       1.50097169, 1.9473201 , 2.10018591, 1.75422012, 2.22193427,\n",
       "       2.07738361, 1.71144757, 2.02956323, 2.10034355, 2.31141225,\n",
       "       2.12786749, 1.86265567, 2.00446107, 1.99772621, 2.34043234,\n",
       "       2.04876306, 2.24867654, 1.99608275, 1.91800906, 2.03912155,\n",
       "       2.03067011, 2.0332528 , 2.03704404, 2.10627522, 2.10234413,\n",
       "       2.09698276, 2.22004411, 2.01751236, 2.03602353, 2.08647522,\n",
       "       2.06807343, 2.10062341, 2.31587986, 1.9210188 , 2.14470301,\n",
       "       2.10534042, 2.02338978, 1.91362163, 2.0718611 , 2.04992767,\n",
       "       2.0332528 , 2.00227676, 1.76989602, 2.06667017, 2.05660714,\n",
       "       1.90022077, 2.02652148, 2.2228219 , 2.16062355, 2.01855345,\n",
       "       2.04948271, 2.08425507, 2.08216613, 2.06130083, 1.98711203,\n",
       "       2.07739774, 2.06021555, 1.9192404 , 2.10683448, 2.02148201,\n",
       "       1.89436685, 2.06484124, 2.14289755, 2.08682544, 2.09853799,\n",
       "       2.06486736, 2.13327964, 1.81546118, 2.07927449, 2.1926717 ,\n",
       "       2.11286657, 1.95326343, 1.94795178, 2.18197404, 2.09820632,\n",
       "       1.99294539, 2.06870275, 1.75633437, 2.09192831, 1.87138102,\n",
       "       1.86115526, 2.04219178, 2.0638788 , 2.10251937, 2.02770458,\n",
       "       2.07261782, 1.92537151, 2.08706214, 2.12286257, 2.32542742,\n",
       "       2.09498145, 1.95103393, 1.92323863, 2.05478966, 2.03051868,\n",
       "       2.28730126, 1.68498073, 2.10854803, 2.04937228, 2.06883771,\n",
       "       2.09286333, 1.79724202, 1.90288169, 2.05529442, 1.71652435,\n",
       "       2.00734622, 1.99806612, 2.06362333, 1.80233387, 2.22508307,\n",
       "       2.02966028, 2.03408521, 2.22197536, 2.09998723, 2.02097023,\n",
       "       1.91806225, 2.12101563, 2.02998797, 2.10875691, 2.0354816 ,\n",
       "       1.96566201, 2.09948828, 2.02802996, 2.1163068 , 2.08944636,\n",
       "       1.97852557, 1.96858559, 2.06125874, 1.95122089, 2.30001955,\n",
       "       2.07168725, 1.9342325 , 1.9530794 , 2.32132403, 2.14670964,\n",
       "       1.85435469, 2.03429096, 2.07080531, 2.2566323 , 2.00884314,\n",
       "       2.02158597, 1.84549188, 1.91250598, 2.05878386, 2.26265137,\n",
       "       2.13454114, 2.23013538, 1.99121282, 2.09823116, 2.02103634,\n",
       "       2.11367397, 1.81761418, 1.85379784, 2.00227676, 2.28328454,\n",
       "       2.07955347, 1.80124334, 1.73236514, 1.75633437, 2.03068773,\n",
       "       2.06755502, 2.04408991, 1.90040041, 2.10341087, 2.00534411,\n",
       "       2.1186973 , 2.13388052, 2.10286019, 2.11471846, 1.99675194,\n",
       "       2.02174609, 1.91806225, 2.11258936, 2.00118927, 2.04401866,\n",
       "       2.07072147, 1.68498073, 2.29931719, 2.10504385, 1.91911501,\n",
       "       2.08396717, 1.87971171, 2.1186973 , 2.05903849, 2.02798488,\n",
       "       2.09257062, 2.03683424, 2.1195317 , 2.09500391, 2.05628292,\n",
       "       1.71144757, 2.2378376 , 2.00227676, 2.0940152 , 1.92884121,\n",
       "       2.00140733, 1.99190819, 2.0432007 , 2.0561183 , 2.02318236,\n",
       "       2.11018997, 2.0561183 , 2.10950666, 2.09698276, 2.10881308,\n",
       "       2.25667975, 2.0836373 , 2.04408812, 2.06652247, 2.19032465,\n",
       "       2.08377073, 2.07738361, 2.10827055, 1.89524018, 1.80124334,\n",
       "       2.04149629, 1.64625104, 2.07738361, 1.96904605, 2.02965218,\n",
       "       1.5922363 , 2.04261064, 1.91137951, 2.00118927, 2.07955347,\n",
       "       2.08617951, 1.97162448, 2.08829935, 2.02770458, 2.06385529,\n",
       "       1.85808105, 1.90035941, 2.09790376, 2.07605831, 1.56660183,\n",
       "       1.96765929, 2.28822305, 2.09390562, 2.28089102, 1.9609358 ,\n",
       "       2.05672455, 2.10683448, 2.01417199, 2.05583718, 1.83446344,\n",
       "       1.95798574, 1.99369415, 1.98711203, 2.11863765, 2.07117727,\n",
       "       2.13577179, 1.93627408, 2.00826906, 1.82459839, 1.93497532,\n",
       "       2.09724668, 2.22280674, 2.04203491, 1.93398005, 2.03602353,\n",
       "       1.99254123, 2.30994725, 2.03657902, 2.02338978, 2.12682553,\n",
       "       2.32185311, 2.10881308, 2.03602353, 1.76989602, 2.08020824,\n",
       "       1.90044619, 1.99013547, 1.95947914, 2.07261782, 1.98189682,\n",
       "       1.86776915, 2.05604739, 2.09924962, 1.57738537, 2.07144971,\n",
       "       1.96000321, 2.06320242, 1.98389436, 2.05878386, 2.11717703,\n",
       "       2.06272107, 1.99923032, 2.00724007, 2.24417072, 1.51236658,\n",
       "       2.04219178, 2.10736651, 2.05961231, 1.83446344, 1.57738537,\n",
       "       2.05105161, 2.19273754, 2.04996296, 2.08231805, 2.14000301,\n",
       "       2.03408521, 1.64625104, 2.11127777, 2.00310498, 1.96765929,\n",
       "       2.31367672, 2.0354816 , 2.12290473, 2.02874006, 2.10583123,\n",
       "       1.88472613, 1.90139293, 2.13544613, 2.04203491, 2.33623824,\n",
       "       2.08040373, 1.86776915, 2.28126494, 1.95366009, 1.81729499,\n",
       "       2.07652053, 2.07651679, 2.08936494, 1.80991909, 2.0753026 ,\n",
       "       2.277872  , 2.13947239, 2.15229937, 1.96012256, 1.92807631,\n",
       "       2.00273531, 1.95798574, 1.96336382, 2.04790938, 2.10534042,\n",
       "       1.99732261, 2.22508307, 2.07080531, 1.98156889, 2.07738361,\n",
       "       1.88082333, 1.99174571, 2.0354816 , 2.03704404, 1.99352994,\n",
       "       2.14765686, 1.92552192, 2.03847192, 1.83302833, 1.75422012,\n",
       "       2.06130083, 1.5922363 , 2.10070173, 2.04408812, 1.99732261,\n",
       "       2.08678966, 1.96728258, 2.00882438, 2.0008075 , 2.31483892,\n",
       "       2.08581245, 1.75104744, 1.98803575, 1.8504736 , 2.10286019,\n",
       "       2.28533793, 2.08036535, 1.96765929, 1.9342325 , 2.20523215,\n",
       "       2.09950068, 2.10059454, 2.10071282, 1.89524018, 2.08853436,\n",
       "       2.04411393, 2.02956323, 2.07527833, 2.06668183, 1.80124334,\n",
       "       2.07717961, 2.06657257, 2.05618908, 2.26082111, 1.92427553,\n",
       "       2.09266121, 2.06880094, 2.31267102, 1.99254123, 1.80414055,\n",
       "       1.97862277, 2.13333802, 2.0806291 , 2.07002561, 2.05330906,\n",
       "       1.81546118, 2.33066512, 1.98890345, 1.85759536, 2.08706214,\n",
       "       2.08552115, 2.09386559, 2.06521449, 2.1071037 , 1.94562362,\n",
       "       2.01957975, 2.04719729, 2.0816624 , 1.87395796, 1.98076829,\n",
       "       2.13880774, 2.05878386, 1.7602407 , 2.10104878, 2.22140538,\n",
       "       1.57738537, 2.06272107, 2.16404893, 1.89524018, 1.51236658,\n",
       "       2.19910188, 2.11155707, 2.26088688, 2.09749112, 2.08674005,\n",
       "       1.79917123, 2.25156825, 1.94876053, 2.25577818, 1.80810414,\n",
       "       2.06125874, 1.88082333, 2.0530588 , 2.04027047, 2.10948769,\n",
       "       1.87138102, 2.20659402, 1.9680357 , 1.90452334, 2.0837526 ,\n",
       "       1.79910784, 2.27880043, 2.07878454, 1.88472613, 2.23907468,\n",
       "       2.00700238, 2.099718  , 2.22922751, 1.79910784, 2.06766982,\n",
       "       2.11016927, 2.11018997, 1.8681265 , 1.80221188, 1.90138534,\n",
       "       1.79910784, 1.95628108, 1.97769291, 2.06320242, 2.30742569,\n",
       "       1.99254123, 2.09865401, 2.14592812, 1.85808105, 2.06521189,\n",
       "       1.94532839, 2.11018997, 2.13438261, 2.30781719, 2.25933076,\n",
       "       2.10873452, 2.0354816 , 1.99352994, 1.90972227, 1.90907601,\n",
       "       1.97251301, 2.09998723, 1.93691556, 1.89014111, 1.9871035 ,\n",
       "       2.05330764, 2.10635086, 2.09657279, 2.08647522, 2.31553845,\n",
       "       2.12667767, 2.13421989, 1.76425869, 2.09998723, 2.05878386,\n",
       "       2.0737672 , 1.70580637, 2.01855752, 1.8681265 , 2.14597665,\n",
       "       2.25242955, 1.9519733 , 1.94638054, 2.32282241, 2.05187477,\n",
       "       2.09253204, 2.04790938, 2.1244093 , 2.04479948, 2.0560389 ,\n",
       "       2.08509836, 1.90873417, 1.67024567, 1.9478683 , 2.04203491,\n",
       "       2.02760227, 2.0233536 , 2.04642253, 2.07970948, 1.95628108,\n",
       "       2.03298462, 2.20330165, 2.06657257, 2.04261064, 1.86633925,\n",
       "       2.10032591, 2.12101563, 1.91862881, 2.06141656, 2.00310498,\n",
       "       2.09998723, 1.95248191, 1.98134166, 1.93528757, 1.91806225,\n",
       "       1.84013558, 1.98488384, 2.14051841, 1.86817099, 1.91911501,\n",
       "       2.32701003, 2.00118927, 2.14626495, 2.12916439, 2.06992044,\n",
       "       2.10771047, 2.00884314, 2.08674005, 1.85807136, 2.11886086,\n",
       "       1.99764406, 1.99035768, 2.04818185, 2.10881308, 2.00118927,\n",
       "       2.0039555 , 2.03774597, 2.08647522, 2.09998723, 1.71493579,\n",
       "       2.02464908, 2.0263804 , 2.2545921 , 2.07652053, 2.02464908,\n",
       "       2.00884314, 2.2213495 , 2.07955347, 1.75422012, 2.12232403,\n",
       "       2.05583395, 2.2184747 , 2.0746912 , 1.8578376 , 1.85862751,\n",
       "       1.85807136, 1.95730609, 1.75422012, 2.03067011, 1.94876053,\n",
       "       2.12386008, 2.00882438, 2.0947898 , 2.09010176, 2.09567693,\n",
       "       1.94876053, 2.11084189, 2.32608587, 2.11015474, 2.33157814,\n",
       "       2.03408521, 2.09481996, 1.75390153, 2.10195052, 2.10234413,\n",
       "       1.91800906, 1.99269418, 1.79910784, 2.08853908, 2.04025228,\n",
       "       2.03774597, 2.31671595, 2.33645564, 1.83269874, 2.06320242,\n",
       "       2.09983938, 2.14654309, 1.75635725, 2.07711952, 2.0088214 ,\n",
       "       1.99828996, 2.25466683, 1.83344733, 2.07651317, 2.10111627,\n",
       "       2.02770458, 2.00273531, 2.219348  , 2.11303801, 2.01073382,\n",
       "       1.75635725, 2.08344774, 2.09749112, 2.12101563, 1.57738537,\n",
       "       2.14714133, 1.90594517, 2.10047307, 1.95633469, 2.19776769,\n",
       "       2.06903448, 1.95626335, 2.12290473, 2.08756982, 2.10381537,\n",
       "       2.05478966, 2.12386008, 1.93590812, 2.06657257, 1.68384359,\n",
       "       2.09329279, 2.11464314, 1.98996657, 2.04625457, 1.91806225,\n",
       "       2.18221317, 1.88082333, 1.98389436, 2.23013538, 2.06521449,\n",
       "       2.07529973, 2.06141656, 1.92076606, 2.31257516, 2.07382929,\n",
       "       2.06272107, 2.11943607, 1.81546118, 2.05924017, 1.89014111,\n",
       "       1.98711203, 1.90121311, 1.80807721, 2.28265164, 1.98068155,\n",
       "       1.90588624, 2.09924962, 2.3417655 , 2.03306799, 2.09188138,\n",
       "       1.7602407 , 2.07811687, 2.05096366, 2.07955347, 1.75633437,\n",
       "       2.04144915, 2.2048498 , 2.02174609, 1.96288129, 2.0263804 ,\n",
       "       1.94877978, 1.96659825, 1.91260686, 2.00028552, 2.08726429,\n",
       "       1.72894949, 2.32811855, 2.08027078, 2.09192831, 1.87418274,\n",
       "       2.08439923, 2.22420265, 2.18499377, 2.10550701, 2.06440686,\n",
       "       1.94254682, 1.67024567, 1.96012745, 1.75633437, 2.08255061,\n",
       "       1.95248191, 2.10251937, 2.06569612, 2.05231805, 2.07507486,\n",
       "       1.99352994, 2.09266121, 2.0088214 , 2.03641264, 2.0088214 ,\n",
       "       2.29598671, 2.04936807, 2.02764563, 1.95292729, 1.93870121,\n",
       "       2.08671575, 1.87241144, 1.75635725, 1.95248191, 2.32965916,\n",
       "       1.98566346, 2.16480302, 2.25865209, 2.07717961, 2.05919642,\n",
       "       1.8642609 , 1.86776915, 2.03802011, 2.14026262, 2.32179391,\n",
       "       1.75390153, 1.9921784 , 2.07811687, 2.00538711, 2.00853382,\n",
       "       2.09024836, 2.0806291 ])"
      ]
     },
     "execution_count": 145,
     "metadata": {},
     "output_type": "execute_result"
    }
   ],
   "source": [
    "y_pred = regressor.predict(x_test)\n",
    "y_pred"
   ]
  },
  {
   "cell_type": "code",
   "execution_count": 146,
   "id": "dc483c95",
   "metadata": {},
   "outputs": [
    {
     "data": {
      "text/plain": [
       "7.19"
      ]
     },
     "execution_count": 146,
     "metadata": {},
     "output_type": "execute_result"
    }
   ],
   "source": [
    "svm_accuracy = round(regressor.score(x_train,y_train)*100,2)\n",
    "svm_accuracy"
   ]
  },
  {
   "cell_type": "markdown",
   "id": "055bf449",
   "metadata": {},
   "source": [
    "The Test Accuracy of SVR is 7.19\n",
    "\n"
   ]
  },
  {
   "cell_type": "code",
   "execution_count": 147,
   "id": "658a7b75",
   "metadata": {},
   "outputs": [
    {
     "data": {
      "text/plain": [
       "KNeighborsRegressor()"
      ]
     },
     "execution_count": 147,
     "metadata": {},
     "output_type": "execute_result"
    }
   ],
   "source": [
    "from sklearn.neighbors import KNeighborsRegressor\n",
    "regressor = KNeighborsRegressor()\n",
    "regressor.fit(x_train,y_train)"
   ]
  },
  {
   "cell_type": "code",
   "execution_count": 148,
   "id": "9041bb39",
   "metadata": {},
   "outputs": [
    {
     "data": {
      "text/plain": [
       "array([3. , 2. , 2. , 0.4, 2. , 2. , 1.8, 2. , 1.2, 2. , 2. , 3. , 1.6,\n",
       "       1. , 1.6, 2. , 0. , 2.2, 3. , 0. , 1.8, 3. , 2. , 2. , 4. , 3. ,\n",
       "       2.2, 2.6, 1.8, 0. , 2. , 3.2, 0. , 0. , 2. , 3. , 2. , 1.6, 3. ,\n",
       "       2. , 3. , 1.6, 2. , 3. , 1.4, 3. , 2.4, 2. , 3.2, 2.2, 2. , 2. ,\n",
       "       0. , 2. , 2. , 0. , 2. , 3. , 3. , 2. , 2. , 2. , 2.4, 2.8, 2. ,\n",
       "       2. , 1.2, 2. , 2.2, 2.4, 2. , 0. , 2. , 2. , 2. , 2. , 2. , 0.2,\n",
       "       2. , 2.4, 1.8, 2.8, 2. , 2. , 0.4, 4. , 3. , 2.8, 2. , 2. , 2. ,\n",
       "       2.6, 2.4, 4. , 4. , 3. , 2.4, 2.6, 2. , 2. , 2. , 0.6, 1.8, 0. ,\n",
       "       2. , 2. , 4. , 1.2, 1.2, 1.8, 2. , 1.8, 2. , 2. , 2. , 2. , 2.2,\n",
       "       2.2, 4. , 2. , 1.2, 2. , 0.4, 4. , 2. , 2. , 2.4, 2. , 2.4, 2.2,\n",
       "       2. , 2.4, 0. , 2. , 2. , 2.8, 2. , 0. , 4. , 3.2, 2. , 2. , 0.2,\n",
       "       2. , 2. , 0.4, 4. , 2. , 0. , 0.6, 1.2, 2.2, 3. , 0. , 4. , 2. ,\n",
       "       0.8, 2. , 1.6, 2.2, 2.6, 2. , 2. , 0. , 3. , 2. , 1.4, 2.6, 0. ,\n",
       "       3. , 0. , 0. , 3. , 2. , 2. , 2. , 2. , 2. , 0. , 2. , 2.6, 2. ,\n",
       "       1.2, 2.8, 2. , 2. , 4. , 2. , 2. , 2. , 0. , 0.8, 0. , 0.6, 2. ,\n",
       "       0. , 2.4, 2.4, 2.4, 0.8, 2.8, 2. , 2. , 2. , 3. , 2. , 2. , 2. ,\n",
       "       2. , 3. , 1.8, 2.2, 3.2, 2. , 2.4, 2.2, 2.4, 3. , 2. , 2.4, 2.6,\n",
       "       3. , 1.8, 2.6, 2. , 1.2, 3. , 0. , 2. , 3. , 3. , 0. , 1.8, 2. ,\n",
       "       3. , 2. , 2. , 2. , 2.4, 1.8, 2. , 3. , 2. , 2. , 2. , 2.4, 0.4,\n",
       "       3. , 4. , 1.2, 2. , 2.4, 2. , 2.8, 1.6, 2. , 2.2, 2. , 1.8, 4. ,\n",
       "       2. , 0. , 4. , 2. , 3. , 0. , 4. , 2. , 2. , 2. , 0. , 2.2, 1.8,\n",
       "       2. , 0. , 1.8, 2. , 2. , 4. , 3.2, 2. , 2.8, 1.8, 2.4, 2. , 0. ,\n",
       "       1. , 3. , 2.2, 3. , 1.2, 1.2, 2.4, 1.2, 2.8, 3. , 4. , 2.2, 2. ,\n",
       "       3. , 2. , 1.8, 0. , 0.8, 1.8, 4. , 3. , 0.6, 0. , 0. , 1.8, 4. ,\n",
       "       2.2, 3. , 2.4, 1.4, 3. , 2. , 2. , 2.2, 2.6, 0. , 4. , 3. , 2. ,\n",
       "       3. , 0.4, 3.2, 2. , 0. , 2. , 1. , 1.4, 2.4, 2.2, 2.2, 2.6, 0. ,\n",
       "       2. , 2. , 0.8, 3. , 0.8, 2. , 2. , 2.4, 2.4, 1.2, 3. , 3. , 4. ,\n",
       "       3. , 2. , 2. , 3. , 1.8, 2. , 2. , 2. , 2.4, 0.8, 2. , 2.2, 0. ,\n",
       "       3. , 3. , 1.2, 2. , 1. , 2. , 0. , 4. , 2. , 3. , 4. , 2.6, 2. ,\n",
       "       1.8, 3. , 2. , 3. , 2. , 2. , 2.8, 0. , 2.4, 2.4, 2. , 3. , 2. ,\n",
       "       1. , 2. , 2. , 2.4, 0. , 4. , 1.6, 3. , 0.6, 2.6, 3. , 1.2, 2. ,\n",
       "       1.2, 2. , 2. , 2. , 3. , 2. , 0. , 0. , 1.6, 2. , 4. , 2.4, 2.4,\n",
       "       3. , 0. , 0. , 2. , 2.2, 2. , 2. , 2. , 2.2, 0. , 2. , 3. , 0. ,\n",
       "       2.2, 1.2, 2. , 0. , 1.2, 1.6, 4. , 1.2, 2.8, 2.4, 2. , 0. , 2. ,\n",
       "       2. , 0. , 0. , 2. , 1.6, 4. , 2. , 0.4, 0. , 1.2, 1.2, 2.4, 2.4,\n",
       "       1.2, 2. , 2.4, 1.6, 2. , 2. , 1. , 2.4, 3. , 2.4, 2. , 0. , 1.8,\n",
       "       4. , 1.6, 2. , 2. , 2.2, 0.4, 2. , 2.4, 0.4, 2. , 4. , 2. , 2. ,\n",
       "       4. , 0. , 2. , 2. , 1.2, 4. , 3. , 0.8, 2. , 2.4, 0.8, 2. , 3. ,\n",
       "       0. , 2. , 1.8, 4. , 2. , 0. , 2. , 0. , 2.4, 2. , 1.2, 2. , 2. ,\n",
       "       3. , 3. , 3.2, 2. , 2. , 0. , 3. , 2. , 2.2, 2.2, 2.4, 2.8, 2.6,\n",
       "       2. , 0.4, 2. , 0. , 2. , 2.4, 2. , 2. , 2. , 3. , 3. , 3. , 3. ,\n",
       "       1.8, 2.2, 2. , 2. , 3.2, 0. , 0. , 2.4, 3. , 2. , 2.8, 1.8, 3. ,\n",
       "       1.4, 3. , 2. , 2. , 2.2, 2.2, 2. , 1.8, 2. , 2.4, 2. , 2. , 0. ,\n",
       "       2. , 0.8, 1.2, 0. , 4. , 2. , 0. , 4. , 3. , 0. , 2. , 3.2, 1.8,\n",
       "       2. , 2. , 2. , 0. , 3. , 1. , 2.4, 0. , 2. , 2.4, 2. , 0. , 1.6,\n",
       "       3. , 4. , 2.2, 1.4, 1.2, 0. , 2.2, 2. , 2. , 2.6, 3. , 0.4, 4. ,\n",
       "       0. , 3. , 4. , 4. , 2.4, 2. , 1. , 0. , 0. , 2. , 2. , 2. , 0. ,\n",
       "       2. , 3. , 3. , 2. , 2.2, 4. , 3. , 2. , 2. , 2. , 2. , 0. , 0. ,\n",
       "       2.2, 2. , 2. , 2. , 1.8, 3. , 4. , 2. , 2.4, 2. , 2.2, 2. , 3. ,\n",
       "       0. , 2. , 1.2, 2. , 2. , 2. , 2.4, 3. , 2.8, 3. , 2. , 1.8, 2. ,\n",
       "       2. , 2. , 2. , 2.2, 2. , 3. , 1.6, 1.6, 1. , 3. , 3. , 2.6, 2. ,\n",
       "       2.4, 0. , 3. , 2. , 3. , 4. , 0.2, 1.2, 4. , 0.6, 2. , 2.4, 2. ,\n",
       "       2. , 1.8, 1.2, 0. , 2. , 0. , 0.4, 2.4, 0. , 2. , 3. , 2. , 2.2,\n",
       "       1.8, 2. , 3. , 2. , 3. , 0.4, 2. , 2. , 3. , 3. , 3. , 2.2, 2. ,\n",
       "       2. , 2. , 0. , 2. , 2. , 2.8, 2. , 2. , 3. , 2.6, 4. , 0. , 2. ,\n",
       "       2.4, 2.6, 2. , 1.8, 1.8, 3. , 2.8, 0. , 0. , 1. , 2.2, 3. , 2.2,\n",
       "       2. , 2.2, 1. , 2.2, 2.2, 2.4, 2. , 0. , 2. , 0. , 2.6, 2. , 0. ,\n",
       "       2.4, 0. , 2. , 0. , 2. , 2.4, 2.4, 2.4, 2. , 2. , 1.6, 0. , 2. ,\n",
       "       2. , 2.4, 2.4, 2. , 2. , 2.4, 3. , 2. , 1.4, 2. , 2.4, 0. , 2. ,\n",
       "       2. , 4. , 0. , 2. , 3. , 2. , 3. , 2.2, 2. , 1.8, 2.4, 0. , 2. ,\n",
       "       2. , 2.2, 2.4, 3. , 2.6, 2.2, 2. , 1.6, 2. , 0. , 4. , 2.4, 0. ,\n",
       "       4. , 2. , 1.2, 2. , 2. , 3.2, 1.2, 4. , 0.6, 3. , 3. , 1.8, 3. ,\n",
       "       2.4, 0. , 2.4, 2. , 3. , 3. , 2.4, 3. , 2. , 0. , 3. , 2. , 4. ,\n",
       "       0. , 4. , 4. , 2.6, 0. , 2. , 1. , 2. , 2.4, 2.4, 2. , 0. , 2.2,\n",
       "       3. , 2. , 2. , 2. , 2. , 4. , 2. , 2.8, 2. , 1.6, 4. , 0. , 4. ,\n",
       "       2. , 2. , 2. , 4. , 2. , 0. , 2. , 2. , 0.2, 2. , 3.2, 0. , 2. ,\n",
       "       0. , 2. , 2. , 2. , 0. , 2. , 3. , 0. , 3. , 2.4, 3. , 1.6, 0. ,\n",
       "       0. , 2. , 0.4, 2.4, 0. , 2. , 3. , 3. , 0. , 3. , 2. ])"
      ]
     },
     "execution_count": 148,
     "metadata": {},
     "output_type": "execute_result"
    }
   ],
   "source": [
    "y_pred = regressor.predict(x_test)\n",
    "y_pred"
   ]
  },
  {
   "cell_type": "code",
   "execution_count": 149,
   "id": "0baeefb2",
   "metadata": {},
   "outputs": [
    {
     "data": {
      "text/plain": [
       "75.96"
      ]
     },
     "execution_count": 149,
     "metadata": {},
     "output_type": "execute_result"
    }
   ],
   "source": [
    "knn_accuracy = round(regressor.score(x_train,y_train)*100,2)\n",
    "knn_accuracy"
   ]
  },
  {
   "cell_type": "markdown",
   "id": "dae65254",
   "metadata": {},
   "source": [
    "The Test Accuracy of KNN regressor is 75.96\n",
    "\n"
   ]
  },
  {
   "cell_type": "markdown",
   "id": "a26035d8",
   "metadata": {},
   "source": [
    "Cross validation methods\n"
   ]
  },
  {
   "cell_type": "code",
   "execution_count": 150,
   "id": "970daacb",
   "metadata": {},
   "outputs": [],
   "source": [
    "from sklearn.model_selection import cross_val_score"
   ]
  },
  {
   "cell_type": "code",
   "execution_count": 151,
   "id": "d8e34e5c",
   "metadata": {},
   "outputs": [
    {
     "name": "stdout",
     "output_type": "stream",
     "text": [
      "0.9957992246521379\n"
     ]
    }
   ],
   "source": [
    "from sklearn.tree import DecisionTreeRegressor\n",
    "regressor = DecisionTreeRegressor()\n",
    "print(cross_val_score(regressor,x,y,cv=5).mean())"
   ]
  },
  {
   "cell_type": "code",
   "execution_count": 152,
   "id": "7b8ac9df",
   "metadata": {},
   "outputs": [
    {
     "name": "stdout",
     "output_type": "stream",
     "text": [
      "0.9962092633811535\n"
     ]
    }
   ],
   "source": [
    "from sklearn.ensemble import RandomForestRegressor\n",
    "regressor = RandomForestRegressor()\n",
    "print(cross_val_score(regressor,x,y,cv=5).mean())"
   ]
  },
  {
   "cell_type": "code",
   "execution_count": 153,
   "id": "a3999de3",
   "metadata": {},
   "outputs": [
    {
     "name": "stdout",
     "output_type": "stream",
     "text": [
      "0.05947155922522425\n"
     ]
    }
   ],
   "source": [
    "from sklearn.svm import SVR\n",
    "regressor = SVR()\n",
    "print(cross_val_score(regressor,x,y,cv=5).mean())"
   ]
  },
  {
   "cell_type": "code",
   "execution_count": 154,
   "id": "53392690",
   "metadata": {},
   "outputs": [
    {
     "name": "stdout",
     "output_type": "stream",
     "text": [
      "0.363683200622842\n"
     ]
    }
   ],
   "source": [
    "from sklearn.linear_model import LinearRegression\n",
    "regressor = LinearRegression()\n",
    "print(cross_val_score(regressor,x,y,cv=5).mean())"
   ]
  },
  {
   "cell_type": "code",
   "execution_count": 155,
   "id": "3549d02d",
   "metadata": {},
   "outputs": [
    {
     "name": "stdout",
     "output_type": "stream",
     "text": [
      "0.6281708177209495\n"
     ]
    }
   ],
   "source": [
    "from sklearn.neighbors import KNeighborsRegressor\n",
    "regressor = KNeighborsRegressor()\n",
    "print(cross_val_score(regressor,x,y,cv=5).mean())"
   ]
  },
  {
   "cell_type": "code",
   "execution_count": 156,
   "id": "3b7c4713",
   "metadata": {},
   "outputs": [
    {
     "name": "stdout",
     "output_type": "stream",
     "text": [
      "0.9973789772130631\n"
     ]
    }
   ],
   "source": [
    "from sklearn.naive_bayes import GaussianNB\n",
    "regressor = GaussianNB()\n",
    "print(cross_val_score(regressor,x,y,cv=5).mean())"
   ]
  },
  {
   "cell_type": "markdown",
   "id": "32540b24",
   "metadata": {},
   "source": [
    "Hyperparameter Tunnings\n"
   ]
  },
  {
   "cell_type": "code",
   "execution_count": 157,
   "id": "86ad1bfe",
   "metadata": {},
   "outputs": [],
   "source": [
    "from sklearn.model_selection import GridSearchCV\n",
    "parameter = {\"max_depth\":[1,3,5,7,9,11,12],\n",
    "             'criterion':['mse','friedman_mse']}"
   ]
  },
  {
   "cell_type": "code",
   "execution_count": 158,
   "id": "ab41ee86",
   "metadata": {},
   "outputs": [
    {
     "data": {
      "text/plain": [
       "GridSearchCV(cv=5, estimator=DecisionTreeRegressor(),\n",
       "             param_grid={'criterion': ['mse', 'friedman_mse'],\n",
       "                         'max_depth': [1, 3, 5, 7, 9, 11, 12]})"
      ]
     },
     "execution_count": 158,
     "metadata": {},
     "output_type": "execute_result"
    }
   ],
   "source": [
    "GCV = GridSearchCV(DecisionTreeRegressor(),parameter,cv=5)\n",
    "GCV.fit(x_train,y_train)"
   ]
  },
  {
   "cell_type": "code",
   "execution_count": 159,
   "id": "721a957a",
   "metadata": {},
   "outputs": [
    {
     "data": {
      "text/plain": [
       "{'criterion': 'mse', 'max_depth': 5}"
      ]
     },
     "execution_count": 159,
     "metadata": {},
     "output_type": "execute_result"
    }
   ],
   "source": [
    "GCV.best_params_"
   ]
  },
  {
   "cell_type": "markdown",
   "id": "f3175824",
   "metadata": {},
   "source": [
    "Evalute The Final Model\n"
   ]
  },
  {
   "cell_type": "code",
   "execution_count": 160,
   "id": "f7f06ed4",
   "metadata": {},
   "outputs": [
    {
     "name": "stdout",
     "output_type": "stream",
     "text": [
      "97.26697039922176\n"
     ]
    }
   ],
   "source": [
    "from sklearn.tree import DecisionTreeRegressor\n",
    "regressor = DecisionTreeRegressor()\n",
    "regressor.fit(x_train,y_train)\n",
    "Final_mod = DecisionTreeRegressor()\n",
    "Final_mod.fit(x_train,y_train)\n",
    "pred = Final_mod.predict(x_test)\n",
    "print((regressor.score(x_test,y_test)*100))"
   ]
  },
  {
   "cell_type": "markdown",
   "id": "b7f1570c",
   "metadata": {},
   "source": [
    "Saving The Model\n"
   ]
  },
  {
   "cell_type": "code",
   "execution_count": 164,
   "id": "dcb66c4f",
   "metadata": {},
   "outputs": [
    {
     "data": {
      "text/plain": [
       "['FinalModle.pkl']"
      ]
     },
     "execution_count": 164,
     "metadata": {},
     "output_type": "execute_result"
    }
   ],
   "source": [
    "import joblib\n",
    "joblib.dump(Final_mod,\"FinalModle.pkl\")"
   ]
  },
  {
   "cell_type": "markdown",
   "id": "df8caa48",
   "metadata": {},
   "source": [
    "Prediction Method\n"
   ]
  },
  {
   "cell_type": "code",
   "execution_count": 165,
   "id": "bd8a424d",
   "metadata": {},
   "outputs": [
    {
     "name": "stdout",
     "output_type": "stream",
     "text": [
      "[3. 2. 2. 0. 2. 2. 3. 2. 0. 2. 2. 3. 0. 1. 0. 2. 0. 2. 3. 0. 3. 3. 2. 2.\n",
      " 4. 3. 2. 3. 0. 0. 3. 3. 0. 0. 2. 3.]\n",
      "[3 2 2 0 2 2 3 2 0 2 2 3 0 1 0 2 0 2 3 0 3 3 2 2 4 3 2 3 0 0 3 3 0 0 2 3]\n"
     ]
    }
   ],
   "source": [
    "Final_mod = DecisionTreeRegressor()\n",
    "Final_mod.fit(x_train,y_train)\n",
    "pred = Final_mod.predict(x_test)\n",
    "preds = regressor.predict(x_test)\n",
    "print(preds[:36])\n",
    "print(y_test[:36].values)"
   ]
  },
  {
   "cell_type": "markdown",
   "id": "04ebd7b4",
   "metadata": {},
   "source": [
    "The train and test data is balanced most regressor methods hit the 97% accuracy with the datset.\n",
    "\n"
   ]
  },
  {
   "cell_type": "code",
   "execution_count": null,
   "id": "1dc4f84f",
   "metadata": {},
   "outputs": [],
   "source": []
  }
 ],
 "metadata": {
  "kernelspec": {
   "display_name": "Python 3",
   "language": "python",
   "name": "python3"
  },
  "language_info": {
   "codemirror_mode": {
    "name": "ipython",
    "version": 3
   },
   "file_extension": ".py",
   "mimetype": "text/x-python",
   "name": "python",
   "nbconvert_exporter": "python",
   "pygments_lexer": "ipython3",
   "version": "3.8.8"
  }
 },
 "nbformat": 4,
 "nbformat_minor": 5
}
